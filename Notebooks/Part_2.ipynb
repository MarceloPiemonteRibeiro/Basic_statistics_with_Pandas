{
  "nbformat": 4,
  "nbformat_minor": 0,
  "metadata": {
    "colab": {
      "name": "Curso_de_Estatística_Parte_2.ipynb",
      "provenance": [],
      "collapsed_sections": [],
      "include_colab_link": true
    },
    "kernelspec": {
      "display_name": "Python 3",
      "language": "python",
      "name": "python3"
    },
    "language_info": {
      "codemirror_mode": {
        "name": "ipython",
        "version": 3
      },
      "file_extension": ".py",
      "mimetype": "text/x-python",
      "name": "python",
      "nbconvert_exporter": "python",
      "pygments_lexer": "ipython3",
      "version": "3.6.5"
    }
  },
  "cells": [
    {
      "cell_type": "markdown",
      "metadata": {
        "id": "view-in-github",
        "colab_type": "text"
      },
      "source": [
        "<a href=\"https://colab.research.google.com/github/MarceloPiemonteRibeiro/Basic_statistics_with_Pandas/blob/main/Notebooks/Part_2.ipynb\" target=\"_parent\"><img src=\"https://colab.research.google.com/assets/colab-badge.svg\" alt=\"Open In Colab\"/></a>"
      ]
    },
    {
      "cell_type": "markdown",
      "metadata": {
        "id": "WvMflodMjQKe"
      },
      "source": [
        "***\n",
        "# <font color=green size=10>CURSO DE ESTATÍSTICA - PARTE 2</font>\n",
        "***"
      ]
    },
    {
      "cell_type": "markdown",
      "metadata": {
        "id": "cVgsZ_E3jQKg"
      },
      "source": [
        "# <font color=green>1 CONHECENDO OS DADOS</font>\n",
        "***"
      ]
    },
    {
      "cell_type": "markdown",
      "metadata": {
        "id": "TDjqYYNojQKh"
      },
      "source": [
        "## <font color=green>1.1 Dataset do projeto</font>\n",
        "***"
      ]
    },
    {
      "cell_type": "markdown",
      "metadata": {
        "id": "iN1gIbaKjQKh"
      },
      "source": [
        "### Pesquisa Nacional por Amostra de Domicílios - 2015\n",
        "\n",
        "A **Pesquisa Nacional por Amostra de Domicílios - PNAD** investiga anualmente, de forma permanente, características gerais da população, de educação, trabalho, rendimento e habitação e outras, com periodicidade variável, de acordo com as necessidades de informação para o país, como as características sobre migração, fecundidade, nupcialidade, saúde, segurança alimentar, entre outros temas. O levantamento dessas estatísticas constitui, ao longo dos 49 anos de realização da pesquisa, um importante instrumento para formulação, validação e avaliação de políticas orientadas para o desenvolvimento socioeconômico e a melhoria das condições de vida no Brasil."
      ]
    },
    {
      "cell_type": "markdown",
      "metadata": {
        "id": "U6V7br1RjQKi"
      },
      "source": [
        "### Fonte dos Dados\n",
        "\n",
        "https://ww2.ibge.gov.br/home/estatistica/populacao/trabalhoerendimento/pnad2015/microdados.shtm"
      ]
    },
    {
      "cell_type": "markdown",
      "metadata": {
        "id": "r0Fe_qnzjQKj"
      },
      "source": [
        "### Variáveis utilizadas\n",
        "\n",
        "> ### Renda\n",
        "> ***\n",
        "\n",
        "Rendimento mensal do trabalho principal para pessoas de 10 anos ou mais de idade.\n",
        "\n",
        "> ### Idade\n",
        "> ***\n",
        "\n",
        "Idade do morador na data de referência em anos.\n",
        "\n",
        "> ### Altura (elaboração própria)\n",
        "> ***\n",
        "\n",
        "Altura do morador em metros.\n",
        "\n",
        "> ### UF\n",
        "> ***\n",
        "\n",
        "|Código|Descrição|\n",
        "|---|---|\n",
        "|11|Rondônia|\n",
        "|12|Acre|\n",
        "|13|Amazonas|\n",
        "|14|Roraima|\n",
        "|15|Pará|\n",
        "|16|Amapá|\n",
        "|17|Tocantins|\n",
        "|21|Maranhão|\n",
        "|22|Piauí|\n",
        "|23|Ceará|\n",
        "|24|Rio Grande do Norte|\n",
        "|25|Paraíba|\n",
        "|26|Pernambuco|\n",
        "|27|Alagoas|\n",
        "|28|Sergipe|\n",
        "|29|Bahia|\n",
        "|31|Minas Gerais|\n",
        "|32|Espírito Santo|\n",
        "|33|Rio de Janeiro|\n",
        "|35|São Paulo|\n",
        "|41|Paraná|\n",
        "|42|Santa Catarina|\n",
        "|43|Rio Grande do Sul|\n",
        "|50|Mato Grosso do Sul|\n",
        "|51|Mato Grosso|\n",
        "|52|Goiás|\n",
        "|53|Distrito Federal|\n",
        "\n",
        "> ### Sexo\t\n",
        "> ***\n",
        "\n",
        "|Código|Descrição|\n",
        "|---|---|\n",
        "|0|Masculino|\n",
        "|1|Feminino|\n",
        "\n",
        "> ### Anos de Estudo\n",
        "> ***\n",
        "\n",
        "|Código|Descrição|\n",
        "|---|---|\n",
        "|1|Sem instrução e menos de 1 ano|\n",
        "|2|1 ano|\n",
        "|3|2 anos|\n",
        "|4|3 anos|\n",
        "|5|4 anos|\n",
        "|6|5 anos|\n",
        "|7|6 anos|\n",
        "|8|7 anos|\n",
        "|9|8 anos|\n",
        "|10|9 anos|\n",
        "|11|10 anos|\n",
        "|12|11 anos|\n",
        "|13|12 anos|\n",
        "|14|13 anos|\n",
        "|15|14 anos|\n",
        "|16|15 anos ou mais|\n",
        "|17|Não determinados| \n",
        "||Não aplicável|\n",
        "\n",
        "> ### Cor\n",
        "> ***\n",
        "\n",
        "|Código|Descrição|\n",
        "|---|---|\n",
        "|0|Indígena|\n",
        "|2|Branca|\n",
        "|4|Preta|\n",
        "|6|Amarela|\n",
        "|8|Parda|\n",
        "|9|Sem declaração|"
      ]
    },
    {
      "cell_type": "markdown",
      "metadata": {
        "id": "OK1IQH5cX7Gb"
      },
      "source": [
        "#### <font color='red'>Observação</font>\n",
        "***\n",
        "> Os seguintes tratamentos foram realizados nos dados originais:\n",
        "> 1. Foram eliminados os registros onde a **Renda** era inválida (999 999 999 999);\n",
        "> 2. Foram eliminados os registros onde a **Renda** era missing;\n",
        "> 3. Foram considerados somente os registros das **Pessoas de Referência** de cada domicílio (responsável pelo domicílio)."
      ]
    },
    {
      "cell_type": "markdown",
      "metadata": {
        "id": "8Rw70V6ojQKk"
      },
      "source": [
        "### Importando pandas e lendo o dataset do projeto\n",
        "\n",
        "https://pandas.pydata.org/"
      ]
    },
    {
      "cell_type": "code",
      "metadata": {
        "id": "8QgOpE-wjQKl"
      },
      "source": [
        "import pandas as pd"
      ],
      "execution_count": null,
      "outputs": []
    },
    {
      "cell_type": "code",
      "metadata": {
        "id": "ufRZ7TLwjQKo"
      },
      "source": [
        "dados = pd.read_csv('dados.csv')"
      ],
      "execution_count": null,
      "outputs": []
    },
    {
      "cell_type": "code",
      "metadata": {
        "colab": {
          "base_uri": "https://localhost:8080/",
          "height": 204
        },
        "id": "GsC_WhLFjQKq",
        "scrolled": true,
        "outputId": "99998c93-fbcd-4c63-81c5-0c33933d0028"
      },
      "source": [
        "dados.head()"
      ],
      "execution_count": null,
      "outputs": [
        {
          "output_type": "execute_result",
          "data": {
            "text/html": [
              "<div>\n",
              "<style scoped>\n",
              "    .dataframe tbody tr th:only-of-type {\n",
              "        vertical-align: middle;\n",
              "    }\n",
              "\n",
              "    .dataframe tbody tr th {\n",
              "        vertical-align: top;\n",
              "    }\n",
              "\n",
              "    .dataframe thead th {\n",
              "        text-align: right;\n",
              "    }\n",
              "</style>\n",
              "<table border=\"1\" class=\"dataframe\">\n",
              "  <thead>\n",
              "    <tr style=\"text-align: right;\">\n",
              "      <th></th>\n",
              "      <th>UF</th>\n",
              "      <th>Sexo</th>\n",
              "      <th>Idade</th>\n",
              "      <th>Cor</th>\n",
              "      <th>Anos de Estudo</th>\n",
              "      <th>Renda</th>\n",
              "      <th>Altura</th>\n",
              "    </tr>\n",
              "  </thead>\n",
              "  <tbody>\n",
              "    <tr>\n",
              "      <th>0</th>\n",
              "      <td>11</td>\n",
              "      <td>0</td>\n",
              "      <td>23</td>\n",
              "      <td>8</td>\n",
              "      <td>12</td>\n",
              "      <td>800</td>\n",
              "      <td>1.603808</td>\n",
              "    </tr>\n",
              "    <tr>\n",
              "      <th>1</th>\n",
              "      <td>11</td>\n",
              "      <td>1</td>\n",
              "      <td>23</td>\n",
              "      <td>2</td>\n",
              "      <td>12</td>\n",
              "      <td>1150</td>\n",
              "      <td>1.739790</td>\n",
              "    </tr>\n",
              "    <tr>\n",
              "      <th>2</th>\n",
              "      <td>11</td>\n",
              "      <td>1</td>\n",
              "      <td>35</td>\n",
              "      <td>8</td>\n",
              "      <td>15</td>\n",
              "      <td>880</td>\n",
              "      <td>1.760444</td>\n",
              "    </tr>\n",
              "    <tr>\n",
              "      <th>3</th>\n",
              "      <td>11</td>\n",
              "      <td>0</td>\n",
              "      <td>46</td>\n",
              "      <td>2</td>\n",
              "      <td>6</td>\n",
              "      <td>3500</td>\n",
              "      <td>1.783158</td>\n",
              "    </tr>\n",
              "    <tr>\n",
              "      <th>4</th>\n",
              "      <td>11</td>\n",
              "      <td>1</td>\n",
              "      <td>47</td>\n",
              "      <td>8</td>\n",
              "      <td>9</td>\n",
              "      <td>150</td>\n",
              "      <td>1.690631</td>\n",
              "    </tr>\n",
              "  </tbody>\n",
              "</table>\n",
              "</div>"
            ],
            "text/plain": [
              "   UF  Sexo  Idade  Cor  Anos de Estudo  Renda    Altura\n",
              "0  11     0     23    8              12    800  1.603808\n",
              "1  11     1     23    2              12   1150  1.739790\n",
              "2  11     1     35    8              15    880  1.760444\n",
              "3  11     0     46    2               6   3500  1.783158\n",
              "4  11     1     47    8               9    150  1.690631"
            ]
          },
          "metadata": {
            "tags": []
          },
          "execution_count": 3
        }
      ]
    },
    {
      "cell_type": "markdown",
      "metadata": {
        "id": "-z3bLQIUG3Hv"
      },
      "source": [
        "---\n",
        "---"
      ]
    },
    {
      "cell_type": "markdown",
      "metadata": {
        "id": "tL9xVLwTX07g"
      },
      "source": [
        "# <font color=green>2 DISTRIBUIÇÕES DE PROBABILIDADE</font>\n",
        "***"
      ]
    },
    {
      "cell_type": "markdown",
      "metadata": {
        "id": "3nlvC-5qG3Bj"
      },
      "source": [
        "## <font color=red>Problema</font>\n",
        "***"
      ]
    },
    {
      "cell_type": "markdown",
      "metadata": {
        "id": "8CclIz9oG3Bk"
      },
      "source": [
        "Em um concurso para preencher uma vaga de cientista de dados temos um total de **10 questões** de múltipla escolha com **3 alternativas possíveis** em cada questão. **Cada questão tem o mesmo valor.** Suponha que um candidato resolva se aventurar sem ter estudado absolutamente nada. Ele resolve fazer a prova de olhos vendados e chutar todas as resposta. Assumindo que a prova **vale 10 pontos e a nota de corte seja 5**, obtenha a probabilidade deste candidato **acertar 5 questões** e também a probabilidade deste candidato **passar para a próxima etapa do processo seletivo**."
      ]
    },
    {
      "cell_type": "markdown",
      "metadata": {
        "id": "KJxd2KFSYLML"
      },
      "source": [
        "## <font color=green>2.1 Distribuição Binomial</font>\n",
        "***"
      ]
    },
    {
      "cell_type": "markdown",
      "metadata": {
        "id": "mcbl3KbnG3Bq"
      },
      "source": [
        "Um evento **binomial** é caracterizado pela possibilidade de ocorrência de apenas duas categorias. Estas categorias somadas representam todo o espaço amostral, sendo também mutuamente excludentes, ou seja, a ocorrência de uma implica na não ocorrência da outra.\n",
        "\n",
        "Em análises estatísticas o uso mais comum da distribuição binomial é na solução de problemas que envolvem situações de **sucesso** e **fracasso**."
      ]
    },
    {
      "cell_type": "markdown",
      "metadata": {
        "id": "JqIgrH8AbaDM"
      },
      "source": [
        "Exemplo : uma moeda - espaco amostral dela é 2 (cara ou coroa). Um dado - espaco amostral é 6 pois existem somente 6 possibilidades"
      ]
    },
    {
      "cell_type": "markdown",
      "metadata": {
        "id": "iLoYAuJ9G3Bs"
      },
      "source": [
        "# $$P(k)=\\binom{n}{k} p^k q^{n-k}$$\n",
        "\n",
        "Onde:\n",
        "\n",
        "$p$ = probabilidade de sucesso\n",
        "\n",
        "$q = (1 - p)$ = probabilidade de fracasso\n",
        "\n",
        "$n$ = número de eventos estudados\n",
        "\n",
        "$k$ = número de eventos desejados que tenham sucesso"
      ]
    },
    {
      "cell_type": "markdown",
      "metadata": {
        "id": "E4iW8Rbgbz-Z"
      },
      "source": [
        "p seria a probab de ter cara e q de ter coroa"
      ]
    },
    {
      "cell_type": "markdown",
      "metadata": {
        "id": "PxEgWbFdG3Bt"
      },
      "source": [
        "### Experimento Binomial"
      ]
    },
    {
      "cell_type": "markdown",
      "metadata": {
        "id": "eqQK3Ny-G3Bv"
      },
      "source": [
        "1. Realização de $n$ ensaios idênticos. (jogou a moeda para cima record o resultado, jogou a moeda para cima e record... n vezes)\n",
        "\n",
        "2. Os ensaios são independentes (cair coroa antes nao influencia na proxima jogada)\n",
        "\n",
        "3. Somente dois resultados são possíveis, exemplo: Verdadeiro ou falso; Cara ou coroa; Sucesso ou fracasso. Agora pouco falamos de um dado (espaco amostral é 6) mas binomial ta interessado em fracasso ou sucesso, ou seja em um lancamento de dado quero saber probab de ter par ou impar.\n",
        "\n",
        "4. A probabilidade de sucesso é representada por $p$ e a de fracasso por $1-p=q$. Estas probabilidades não se modificam de ensaio para ensaio. Ou seja, moeda tem probabilidade sempre de 50% para ter cara ou coroa, uma jogada nao influencia a outra."
      ]
    },
    {
      "cell_type": "markdown",
      "metadata": {
        "id": "mT77udQ0G3Bx"
      },
      "source": [
        "### Média da distribuição binomial"
      ]
    },
    {
      "cell_type": "markdown",
      "metadata": {
        "id": "EGiuemgqG3By"
      },
      "source": [
        "O valor esperado ou a média da distribuição binomial é igual ao número de experimentos realizados multiplicado pela chance de ocorrência do evento.\n",
        "\n",
        "# $$\\mu = n \\times p$$"
      ]
    },
    {
      "cell_type": "markdown",
      "metadata": {
        "id": "1fDLi96OG3Bz"
      },
      "source": [
        "### Desvio padrão da distribuição binomial"
      ]
    },
    {
      "cell_type": "markdown",
      "metadata": {
        "id": "EZojizotG3B1"
      },
      "source": [
        "O desvio padrão é o produto entre o número de experimentos, a probabilidade de sucesso e a probabilidade de fracasso.\n",
        "\n",
        "# $$\\sigma = \\sqrt{n \\times p \\times q}$$"
      ]
    },
    {
      "cell_type": "markdown",
      "metadata": {
        "id": "udqnjFnsG3B2"
      },
      "source": [
        "### Importando bibliotecas\n",
        "https://docs.scipy.org/doc/scipy/reference/generated/scipy.special.comb.html"
      ]
    },
    {
      "cell_type": "code",
      "metadata": {
        "id": "-U2sGssNG3B4"
      },
      "source": [
        "from scipy.special import comb"
      ],
      "execution_count": null,
      "outputs": []
    },
    {
      "cell_type": "markdown",
      "metadata": {
        "id": "MxxuJNSwG3B7"
      },
      "source": [
        "### Combinações\n",
        "\n",
        "Número de combinações de $n$ objetos, tomados $k$ a cada vez, é:\n",
        "\n",
        "# $$C_{k}^{n} = \\binom{n}{k} = \\frac{n!}{k!(n - k)!}$$\n",
        "\n",
        "Onde\n",
        "\n",
        "## $$n! = n\\times(n-1)\\times(n-2)\\times...\\times(2)\\times(1)$$\n",
        "## $$k! = k\\times(k-1)\\times(k-2)\\times...\\times(2)\\times(1)$$\n",
        "\n",
        "Por definição\n",
        "\n",
        "## $$0! = 1$$"
      ]
    },
    {
      "cell_type": "markdown",
      "metadata": {
        "id": "TwD5pvmWdoTp"
      },
      "source": [
        "Exemplo: tenho 4 amigos e quero junta-los em duplas, quantas combinacoes eu vou ter? Usando essa formula. "
      ]
    },
    {
      "cell_type": "markdown",
      "metadata": {
        "id": "Udz87Pq3G3B8"
      },
      "source": [
        "## <font color='blue'>Exemplo: Mega Sena</font>"
      ]
    },
    {
      "cell_type": "markdown",
      "metadata": {
        "id": "h1Mo9AxyG3B8"
      },
      "source": [
        "Em um volante de loteria da Mega Sena temos um total de **60 números** para escolher onde a aposta mínima é de **seis números**. Você que é curiosa(o) resolve calcular a probabilidade de se acertar na Mega Sena com apenas **um jogo**. Para isso precisamos saber quantas **combinações de seis números podem ser formadas com os 60 números disponíveis**.\n",
        "\n",
        "### $$C_{6}^{60} = \\binom{60}{6} = \\frac{60!}{6!(60 - 6)!}$$"
      ]
    },
    {
      "cell_type": "code",
      "metadata": {
        "colab": {
          "base_uri": "https://localhost:8080/"
        },
        "id": "c2t7yHl7G3B9",
        "outputId": "abbf5a1a-c149-4940-a7fa-c262f104c26b"
      },
      "source": [
        "combinacoes=comb(60,6)\n",
        "combinacoes\n",
        "# 50 milhoes de combinacoes"
      ],
      "execution_count": null,
      "outputs": [
        {
          "output_type": "execute_result",
          "data": {
            "text/plain": [
              "50063860.0"
            ]
          },
          "metadata": {
            "tags": []
          },
          "execution_count": 5
        }
      ]
    },
    {
      "cell_type": "code",
      "metadata": {
        "colab": {
          "base_uri": "https://localhost:8080/"
        },
        "id": "LpioeTSXG3CB",
        "outputId": "b5f24d9d-38ad-47a3-eab1-e31ccbbebb0d"
      },
      "source": [
        "# probabilidade de eu acertar um joga = 1/50 mi\n",
        "probabilidade=1/combinacoes\n",
        "print('%0.15f' % probabilidade)"
      ],
      "execution_count": null,
      "outputs": [
        {
          "output_type": "stream",
          "text": [
            "0.000000019974489\n"
          ],
          "name": "stdout"
        }
      ]
    },
    {
      "cell_type": "markdown",
      "metadata": {
        "id": "pMX0zwvjfGJ-"
      },
      "source": [
        "\n",
        "Exercicio:\n",
        "Suponha que acabamos de criar um jogo de loteria, chamado Show de prêmios da Alura. Neste nosso novo jogo, o apostador marca 20 números, dentre os 25 disponíveis no bilhete, e pode ganhar até 1 milhão de reais.\n",
        "\n",
        "Determine qual o número de combinações possíveis (espaço amostral) e a probabilidade de se ganhar o prêmio jogando apenas um bilhete (considere apenas quinze casas decimais)."
      ]
    },
    {
      "cell_type": "code",
      "metadata": {
        "colab": {
          "base_uri": "https://localhost:8080/"
        },
        "id": "3z7TFJuifMbs",
        "outputId": "63b39d2e-1d57-46a4-c72e-bd5e4485ffee"
      },
      "source": [
        "combinacoes = comb(25, 20)\n",
        "probabilidade = 1 / combinacoes\n",
        "print('Combinações = %d e Probabilidade = %0.15f' % (combinacoes, probabilidade))"
      ],
      "execution_count": null,
      "outputs": [
        {
          "output_type": "stream",
          "text": [
            "Combinações = 53130 e Probabilidade = 0.000018821757952\n"
          ],
          "name": "stdout"
        }
      ]
    },
    {
      "cell_type": "markdown",
      "metadata": {
        "id": "TnO2qEJmf19V"
      },
      "source": [
        "Exemplo 2: ao inves de jogar 1 jogo na mega-sena, jogo 15"
      ]
    },
    {
      "cell_type": "code",
      "metadata": {
        "colab": {
          "base_uri": "https://localhost:8080/"
        },
        "id": "hCqMsel8f6Wg",
        "outputId": "bdc157ce-67ef-459c-b7cb-850ed77f8e70"
      },
      "source": [
        "total_de_numeros = 15\n",
        "combinacoes = comb(60, 6)\n",
        "total_apostas = comb(total_de_numeros, 6)\n",
        "probabilidade = total_apostas / combinacoes\n",
        "preco = 4.5\n",
        "print('Total de apostas = %d' % total_apostas)\n",
        "print('Você tem %d chances em %d, que equivale a 1 chance em %d' % (total_apostas, combinacoes, combinacoes/total_apostas))\n",
        "print('Se a aposta única custar R$ %0.2f você pagará R$ %0.2f neste jogo' % (preco, total_apostas*preco))\n",
        "print('Probabilidade = %0.15f' % probabilidade)"
      ],
      "execution_count": null,
      "outputs": [
        {
          "output_type": "stream",
          "text": [
            "Total de apostas = 5005\n",
            "Você tem 5005 chances em 50063860, que equivale a 1 chance em 10002\n",
            "Se a aposta única custar R$ 4.50 você pagará R$ 22522.50 neste jogo\n",
            "Probabilidade = 0.000099972315359\n"
          ],
          "name": "stdout"
        }
      ]
    },
    {
      "cell_type": "markdown",
      "metadata": {
        "id": "t1rA1yJpG3CF"
      },
      "source": [
        "## <font color='blue'>Exemplo: Concurso para cientista de dados</font>"
      ]
    },
    {
      "cell_type": "markdown",
      "metadata": {
        "id": "K0DPDD37G3CG"
      },
      "source": [
        "Em um concurso para preencher uma vaga de cientista de dados temos um total de **10 questões** de múltipla escolha com **3 alternativas possíveis** em cada questão. **Cada questão tem o mesmo valor.** Suponha que um candidato resolva se aventurar sem ter estudado absolutamente nada. Ele resolve fazer a prova de olhos vendados e chutar todas as resposta. Assumindo que a prova **vale 10 pontos e a nota de corte seja 5**, obtenha a probabilidade deste candidato **acertar 5 questões** e também a probabilidade deste candidato **passar para a próxima etapa do processo seletivo**."
      ]
    },
    {
      "cell_type": "markdown",
      "metadata": {
        "id": "Efr6pJf1grU5"
      },
      "source": [
        ""
      ]
    },
    {
      "cell_type": "markdown",
      "metadata": {
        "id": "sf-NMPfxG3CH"
      },
      "source": [
        "### Qual o número de ensaios ($n$)?"
      ]
    },
    {
      "cell_type": "code",
      "metadata": {
        "colab": {
          "base_uri": "https://localhost:8080/"
        },
        "id": "WmnjMTnYG3CH",
        "outputId": "f4a907bf-448a-4380-e28b-448fc2d5c32e"
      },
      "source": [
        "# 10 questoes - cada questao é um ensaio diferente com 3 questoes\n",
        "n=10\n",
        "n"
      ],
      "execution_count": null,
      "outputs": [
        {
          "output_type": "execute_result",
          "data": {
            "text/plain": [
              "10"
            ]
          },
          "metadata": {
            "tags": []
          },
          "execution_count": 9
        }
      ]
    },
    {
      "cell_type": "markdown",
      "metadata": {
        "id": "1USf9Ro8G3CK"
      },
      "source": [
        "### Os ensaios são independentes?"
      ]
    },
    {
      "cell_type": "markdown",
      "metadata": {
        "id": "82xf2XIkG3CM"
      },
      "source": [
        "Sim. A opção escolhida em uma questão não influencia em nada a opção escolhida em outra questão."
      ]
    },
    {
      "cell_type": "markdown",
      "metadata": {
        "id": "7jN0H5e7G3CN"
      },
      "source": [
        "### Somente dois resultados são possíveis em cada ensaio?"
      ]
    },
    {
      "cell_type": "markdown",
      "metadata": {
        "id": "gGxcY7K8G3CO"
      },
      "source": [
        "Sim. O candidato tem duas possibilidades, ACERTA ou ERRAR uma questão. "
      ]
    },
    {
      "cell_type": "markdown",
      "metadata": {
        "id": "MZw2LDQjG3CR"
      },
      "source": [
        "### Qual a probabilidade de sucesso ($p$)?"
      ]
    },
    {
      "cell_type": "code",
      "metadata": {
        "colab": {
          "base_uri": "https://localhost:8080/"
        },
        "id": "AazGDtt0G3CS",
        "outputId": "d49d6a56-d7fe-4cad-fc2c-72ce7f3ceed5"
      },
      "source": [
        "# p é probab de sucess, ou seja de acertar a questao\n",
        "numero_de_alternativas_por_questao = 3\n",
        "p = 1 / numero_de_alternativas_por_questao\n",
        "p"
      ],
      "execution_count": null,
      "outputs": [
        {
          "output_type": "execute_result",
          "data": {
            "text/plain": [
              "0.3333333333333333"
            ]
          },
          "metadata": {
            "tags": []
          },
          "execution_count": 10
        }
      ]
    },
    {
      "cell_type": "markdown",
      "metadata": {
        "id": "KPCw41OlG3CX"
      },
      "source": [
        "### Qual a probabilidade de fracasso ($q$)?"
      ]
    },
    {
      "cell_type": "code",
      "metadata": {
        "colab": {
          "base_uri": "https://localhost:8080/"
        },
        "id": "FRhmjCnpG3CZ",
        "outputId": "ebca78a2-1464-46d3-fb0d-83d63b211f87"
      },
      "source": [
        "q=1-p\n",
        "q"
      ],
      "execution_count": null,
      "outputs": [
        {
          "output_type": "execute_result",
          "data": {
            "text/plain": [
              "0.6666666666666667"
            ]
          },
          "metadata": {
            "tags": []
          },
          "execution_count": 11
        }
      ]
    },
    {
      "cell_type": "markdown",
      "metadata": {
        "id": "W2htpmzaG3Ce"
      },
      "source": [
        "### Qual o total de eventos que se deseja obter sucesso ($k$)?"
      ]
    },
    {
      "cell_type": "code",
      "metadata": {
        "colab": {
          "base_uri": "https://localhost:8080/"
        },
        "id": "MmHpiIIuG3Cj",
        "outputId": "fb64970c-0c6c-4c6e-9d90-b2c0c52d82de"
      },
      "source": [
        "# quero ter 5 acertos entre essas 10 questoes\n",
        "k=5\n",
        "k"
      ],
      "execution_count": null,
      "outputs": [
        {
          "output_type": "execute_result",
          "data": {
            "text/plain": [
              "5"
            ]
          },
          "metadata": {
            "tags": []
          },
          "execution_count": 12
        }
      ]
    },
    {
      "cell_type": "markdown",
      "metadata": {
        "id": "r8TZ6DSuG3Cm"
      },
      "source": [
        "### Solução 1"
      ]
    },
    {
      "cell_type": "code",
      "metadata": {
        "colab": {
          "base_uri": "https://localhost:8080/"
        },
        "id": "tZBbMIzKG3Cn",
        "outputId": "20ea68e4-7f44-4631-906f-33c3059015b4"
      },
      "source": [
        "#** significa elevado\n",
        "probabilidade = (comb(n, k)) * (p ** k) * (q ** (n - k))\n",
        "print('%0.8f' % probabilidade)\n",
        "# probabilidade p(k) do cara acertar 5 questoes é 13,65% de chances"
      ],
      "execution_count": null,
      "outputs": [
        {
          "output_type": "stream",
          "text": [
            "0.13656455\n"
          ],
          "name": "stdout"
        }
      ]
    },
    {
      "cell_type": "markdown",
      "metadata": {
        "id": "rDwUvW5UG3Cq"
      },
      "source": [
        "### Importando bibliotecas\n",
        "https://docs.scipy.org/doc/scipy/reference/generated/scipy.stats.binom.html"
      ]
    },
    {
      "cell_type": "code",
      "metadata": {
        "id": "rhlsI3iLG3Cr"
      },
      "source": [
        "from scipy.stats import binom"
      ],
      "execution_count": null,
      "outputs": []
    },
    {
      "cell_type": "markdown",
      "metadata": {
        "id": "hvj2sYaSG3Ct"
      },
      "source": [
        "### Solução 2"
      ]
    },
    {
      "cell_type": "code",
      "metadata": {
        "colab": {
          "base_uri": "https://localhost:8080/"
        },
        "id": "OjS1xsz5G3Cu",
        "outputId": "eb07c6db-7fcb-4395-ae0e-4dbee7693c66"
      },
      "source": [
        "probabilidade = binom.pmf(k, n, p)\n",
        "print('%0.8f' % probabilidade)"
      ],
      "execution_count": null,
      "outputs": [
        {
          "output_type": "stream",
          "text": [
            "0.13656455\n"
          ],
          "name": "stdout"
        }
      ]
    },
    {
      "cell_type": "markdown",
      "metadata": {
        "id": "8tBFVd4RZDvb"
      },
      "source": [
        "### Obter a probabilidade do candidato passar\n",
        "(obs ele pode tirar 5, mas pode tirar mais, o que aumenta em tese suas possibilidades de passar)"
      ]
    },
    {
      "cell_type": "markdown",
      "metadata": {
        "id": "RyOGjZwzZDvb"
      },
      "source": [
        "### $$P(acertar \\geq 5) = P(5) + P(6) + P(7) + P(8) + P(9) + P10)$$"
      ]
    },
    {
      "cell_type": "code",
      "metadata": {
        "colab": {
          "base_uri": "https://localhost:8080/"
        },
        "id": "wBnEaFVvZDvc",
        "outputId": "c7dec1db-4bf4-4886-ffa1-4b78a422f2c7"
      },
      "source": [
        "binom.pmf(5, n, p) + binom.pmf(6, n, p) + binom.pmf(7, n, p) + binom.pmf(8, n, p) + binom.pmf(9, n, p) + binom.pmf(10, n, p)\n",
        "# 21% chances desse cara que chuta de passar "
      ],
      "execution_count": null,
      "outputs": [
        {
          "output_type": "execute_result",
          "data": {
            "text/plain": [
              "0.2131280800690952"
            ]
          },
          "metadata": {
            "tags": []
          },
          "execution_count": 16
        }
      ]
    },
    {
      "cell_type": "code",
      "metadata": {
        "colab": {
          "base_uri": "https://localhost:8080/"
        },
        "id": "UgbA1aFOZDvc",
        "outputId": "8dc34585-2e24-4d29-83a5-03bd02377aea"
      },
      "source": [
        "# ou\n",
        "binom.pmf([5, 6, 7, 8, 9, 10], n, p).sum()"
      ],
      "execution_count": null,
      "outputs": [
        {
          "output_type": "execute_result",
          "data": {
            "text/plain": [
              "0.2131280800690952"
            ]
          },
          "metadata": {
            "tags": []
          },
          "execution_count": 17
        }
      ]
    },
    {
      "cell_type": "code",
      "metadata": {
        "colab": {
          "base_uri": "https://localhost:8080/"
        },
        "id": "PHVudjPzZDvc",
        "outputId": "19e32040-2f99-4d1f-e8ce-b125f3401cba"
      },
      "source": [
        "# cdf é a funcao cumulativa\n",
        "binom.cdf(4, n, p)\n",
        "# probab do cara acertar 1 questao + probab do cara acertar 2 questoes ... até 4"
      ],
      "execution_count": null,
      "outputs": [
        {
          "output_type": "execute_result",
          "data": {
            "text/plain": [
              "0.7868719199309049"
            ]
          },
          "metadata": {
            "tags": []
          },
          "execution_count": 18
        }
      ]
    },
    {
      "cell_type": "code",
      "metadata": {
        "colab": {
          "base_uri": "https://localhost:8080/"
        },
        "id": "9_z8rEjTZDvc",
        "outputId": "d7f63159-45ad-4002-b4b4-fde80f6e6252"
      },
      "source": [
        "binom.cdf(10, n, p)\n",
        "# todas = 100%"
      ],
      "execution_count": null,
      "outputs": [
        {
          "output_type": "execute_result",
          "data": {
            "text/plain": [
              "1.0"
            ]
          },
          "metadata": {
            "tags": []
          },
          "execution_count": 19
        }
      ]
    },
    {
      "cell_type": "code",
      "metadata": {
        "colab": {
          "base_uri": "https://localhost:8080/"
        },
        "id": "sUNGp4sPiwai",
        "outputId": "014a1212-4730-4489-9765-468af77acf3d"
      },
      "source": [
        "# consigo o que eu estava buscando ao fazer\n",
        "1 - binom.cdf(4, n, p)"
      ],
      "execution_count": null,
      "outputs": [
        {
          "output_type": "execute_result",
          "data": {
            "text/plain": [
              "0.21312808006909512"
            ]
          },
          "metadata": {
            "tags": []
          },
          "execution_count": 20
        }
      ]
    },
    {
      "cell_type": "code",
      "metadata": {
        "colab": {
          "base_uri": "https://localhost:8080/"
        },
        "id": "Dsdlez8ri27b",
        "outputId": "7ff1cf71-7bfc-404d-bfd2-5d8085c673f3"
      },
      "source": [
        "#ou\n",
        "binom.sf(4, n, p)"
      ],
      "execution_count": null,
      "outputs": [
        {
          "output_type": "execute_result",
          "data": {
            "text/plain": [
              "0.21312808006909517"
            ]
          },
          "metadata": {
            "tags": []
          },
          "execution_count": 21
        }
      ]
    },
    {
      "cell_type": "markdown",
      "metadata": {
        "id": "jBZVpR1Lj3pN"
      },
      "source": [
        "Exercicio: Uma moeda, perfeitamente equilibrada, é lançada para o alto quatro vezes. Utilizando a distribuição binomial, obtenha a probabilidade de a moeda cair com a face coroa voltada para cima duas vezes.\n",
        "Perfeito, note que a expressão \"perfeitamente equilibrada\" indica que a moeda usada é honesta, ou seja, apresenta a mesma probabilidade de se obter cara ou coroa. O código abaixo é um exemplo de solução:"
      ]
    },
    {
      "cell_type": "code",
      "metadata": {
        "colab": {
          "base_uri": "https://localhost:8080/"
        },
        "id": "Bt3f_WVijjAb",
        "outputId": "a9fabc75-4a48-4353-8715-e1b6e3726bd9"
      },
      "source": [
        "from scipy.stats import binom\n",
        "\n",
        "p = 1 / 2  # Probabilidade de sair COROA\n",
        "n = 4      # Total de lançamentos\n",
        "k = 2      # Total de sucessos (faces COROA voltada para cima)\n",
        "\n",
        "binom.pmf(k, n, p)"
      ],
      "execution_count": null,
      "outputs": [
        {
          "output_type": "execute_result",
          "data": {
            "text/plain": [
              "0.3750000000000001"
            ]
          },
          "metadata": {
            "tags": []
          },
          "execution_count": 22
        }
      ]
    },
    {
      "cell_type": "markdown",
      "metadata": {
        "id": "Y5dzZqH8kF-n"
      },
      "source": [
        "Exercicio: Um dado, perfeitamente equilibrado, é lançado para o alto dez vezes. Utilizando a distribuição binomial, obtenha a probabilidade de o dado cair com o número cinco voltado para cima pelo menos três vezes"
      ]
    },
    {
      "cell_type": "markdown",
      "metadata": {
        "id": "tOiM-4Vck491"
      },
      "source": [
        "Então no nosso exercício que queremos a P (x ≥ 3), utilizamos a Survival Function com k=2, já que ela vai calcular a probabilidade de até duas vezes e subtrair, nos dando o resultado de P (x ≥ 3)."
      ]
    },
    {
      "cell_type": "code",
      "metadata": {
        "colab": {
          "base_uri": "https://localhost:8080/"
        },
        "id": "G6-PB9GSkJg3",
        "outputId": "c67648a0-d562-4665-e222-9672645d285b"
      },
      "source": [
        "p = 1 / 6   # Probabilidade de sair o número CINCO\n",
        "n = 10      # Total de lançamentos\n",
        "\n",
        "print(\"{0:.2%}\".format(binom.sf(2, n, p)))"
      ],
      "execution_count": null,
      "outputs": [
        {
          "output_type": "stream",
          "text": [
            "22.48%\n"
          ],
          "name": "stdout"
        }
      ]
    },
    {
      "cell_type": "markdown",
      "metadata": {
        "id": "qvB1UCANlFaO"
      },
      "source": [
        "Quando o problema pede a probabilidade de o dado cair com o número cinco voltado para cima pelo menos três vezes ele quer que calculemos o somatório das seguintes probabilidade:\n",
        "P (x = 3) + P (x = 4) + ... + P (x = 9) + P (x = 10)\n",
        "Pelo menos três vezes quer dizer no mínimo três vezes e, portanto, precisamos considerar a chance de ocorrer o evento três vezes, quatro vezes, cinco vezes e assim sucessivamente até o número máximo de ocorrências (dez)."
      ]
    },
    {
      "cell_type": "code",
      "metadata": {
        "colab": {
          "base_uri": "https://localhost:8080/"
        },
        "id": "1c_9NV7XlUet",
        "outputId": "fd93aca6-2f81-44f7-ab52-1c25caa344ed"
      },
      "source": [
        "from scipy.stats import binom\n",
        "\n",
        "n = 10\n",
        "p = 1 / 6\n",
        "binom.pmf(3, n, p)+binom.pmf(4, n, p)+binom.pmf(5, n, p)+binom.pmf(6, n, p)+binom.pmf(7, n, p)+binom.pmf(8, n, p)+binom.pmf(9, n, p)+binom.pmf(10, n, p)"
      ],
      "execution_count": null,
      "outputs": [
        {
          "output_type": "execute_result",
          "data": {
            "text/plain": [
              "0.2247732021287407"
            ]
          },
          "metadata": {
            "tags": []
          },
          "execution_count": 24
        }
      ]
    },
    {
      "cell_type": "code",
      "metadata": {
        "colab": {
          "base_uri": "https://localhost:8080/"
        },
        "id": "KOlSm5palYdf",
        "outputId": "2c9d85f6-34ba-421f-ae8b-da879a8baec0"
      },
      "source": [
        "#ou\n",
        "from scipy.stats import binom\n",
        "\n",
        "n = 10\n",
        "p = 1 / 6\n",
        "k = 2\n",
        "1 - binom.cdf(k, n, p)"
      ],
      "execution_count": null,
      "outputs": [
        {
          "output_type": "execute_result",
          "data": {
            "text/plain": [
              "0.2247732021287404"
            ]
          },
          "metadata": {
            "tags": []
          },
          "execution_count": 25
        }
      ]
    },
    {
      "cell_type": "code",
      "metadata": {
        "colab": {
          "base_uri": "https://localhost:8080/"
        },
        "id": "f6bNSmhYlcQj",
        "outputId": "cd245a65-b79c-493a-e36d-16d2babb0e18"
      },
      "source": [
        "# ou\n",
        "from scipy.stats import binom\n",
        "\n",
        "n = 10\n",
        "p = 1/6\n",
        "k = 2\n",
        "binom.sf(k, n, p)"
      ],
      "execution_count": null,
      "outputs": [
        {
          "output_type": "execute_result",
          "data": {
            "text/plain": [
              "0.22477320212874052"
            ]
          },
          "metadata": {
            "tags": []
          },
          "execution_count": 26
        }
      ]
    },
    {
      "cell_type": "markdown",
      "metadata": {
        "id": "0yRcFJ9zlkC1"
      },
      "source": [
        "Outros exemplos: https://github.com/Major-ha/Problemas-de-Estat-stica-Distribui-o-Binomial/blob/main/exercicios_probabilidade.ipynb"
      ]
    },
    {
      "cell_type": "markdown",
      "metadata": {
        "id": "7hAZ4XkMG3Cx"
      },
      "source": [
        "## <font color='blue'>Exemplo: Gincana</font>"
      ]
    },
    {
      "cell_type": "markdown",
      "metadata": {
        "id": "l42alRhOG3Cy"
      },
      "source": [
        "Uma cidade do interior realiza todos os anos uma gincana para arrecadar fundos para o hospital da cidade. Na última gincana se sabe que a **proporção de participantes do sexo feminino foi de 60%**. **O total de equipes, com 12 integrantes, inscritas na gincana deste ano é de 30**. Com as informações acima responda: Quantas equipes deverão ser formadas por **8 mulheres**?"
      ]
    },
    {
      "cell_type": "markdown",
      "metadata": {
        "id": "D4dgkzonmE-R"
      },
      "source": [
        "Em media em quantas equipes dessas 30 serao formadas por 8 mulhers. 1 temos que descobrir probab de equipe ser formada por 8 mulheres. Depois calcular a media"
      ]
    },
    {
      "cell_type": "markdown",
      "metadata": {
        "id": "dqBGf6d7G3C0"
      },
      "source": [
        "### Solução"
      ]
    },
    {
      "cell_type": "code",
      "metadata": {
        "id": "Xw9b6ch3G3C1"
      },
      "source": [
        "# experimento: selecao de uma pessoa de um baú (com 60 mulheres e 40 homems) para fazer parte de uma determinada equipe\n",
        "# proba(sucess) = 60% ou seja p=0.6. Eu faco essa selecao 12 vezes\n",
        "p=0.6"
      ],
      "execution_count": null,
      "outputs": []
    },
    {
      "cell_type": "code",
      "metadata": {
        "colab": {
          "base_uri": "https://localhost:8080/"
        },
        "id": "R3-RaxP5G3C3",
        "outputId": "e7443476-1892-4677-a0d7-2b20ac988d43"
      },
      "source": [
        "n=12\n",
        "n"
      ],
      "execution_count": null,
      "outputs": [
        {
          "output_type": "execute_result",
          "data": {
            "text/plain": [
              "12"
            ]
          },
          "metadata": {
            "tags": []
          },
          "execution_count": 28
        }
      ]
    },
    {
      "cell_type": "code",
      "metadata": {
        "id": "otBHHyD0G3C6"
      },
      "source": [
        "# probab da equipe de 12 ter 8 mulhers\n",
        "k=8"
      ],
      "execution_count": null,
      "outputs": []
    },
    {
      "cell_type": "code",
      "metadata": {
        "colab": {
          "base_uri": "https://localhost:8080/"
        },
        "id": "ZAoBvbQqG3C9",
        "outputId": "3546791d-d95d-4f40-916a-21040b850afe"
      },
      "source": [
        "probabilidade = binom.pmf(k, n, p)\n",
        "print('%0.8f' % probabilidade)\n",
        "# 21% de uma equipe ser formada com 8 mulheres"
      ],
      "execution_count": null,
      "outputs": [
        {
          "output_type": "stream",
          "text": [
            "0.21284094\n"
          ],
          "name": "stdout"
        }
      ]
    },
    {
      "cell_type": "code",
      "metadata": {
        "colab": {
          "base_uri": "https://localhost:8080/"
        },
        "id": "Tg53uGL4G3DA",
        "outputId": "9f856f0f-c44d-4b21-82b2-47cf75e89263"
      },
      "source": [
        "# media: U=n*p\n",
        "equipes=30*probabilidade\n",
        "equipes\n",
        "# 6.38 equipes"
      ],
      "execution_count": null,
      "outputs": [
        {
          "output_type": "execute_result",
          "data": {
            "text/plain": [
              "6.385228185599988"
            ]
          },
          "metadata": {
            "tags": []
          },
          "execution_count": 31
        }
      ]
    },
    {
      "cell_type": "markdown",
      "metadata": {
        "id": "rCXl7gHHnciJ"
      },
      "source": [
        "Exercicio: Suponha que a probabilidade de um casal ter filhos com olhos azuis seja de 22%. Em 50 famílias, com 3 crianças cada uma, quantas podemos esperar que tenham dois filhos com olhos azuis?"
      ]
    },
    {
      "cell_type": "code",
      "metadata": {
        "colab": {
          "base_uri": "https://localhost:8080/"
        },
        "id": "pulntxTAniNu",
        "outputId": "8fbbae0a-c759-4b84-d328-9e9d2f92258f"
      },
      "source": [
        "from scipy.stats import binom\n",
        "\n",
        "p = 0.22\n",
        "n = 3\n",
        "k = 2\n",
        "N = 50\n",
        "\n",
        "probabilidade = binom.pmf(k, n, p)\n",
        "\n",
        "media = probabilidade * N\n",
        "media\n",
        "# 5.66 familias"
      ],
      "execution_count": null,
      "outputs": [
        {
          "output_type": "execute_result",
          "data": {
            "text/plain": [
              "5.662799999999999"
            ]
          },
          "metadata": {
            "tags": []
          },
          "execution_count": 32
        }
      ]
    },
    {
      "cell_type": "markdown",
      "metadata": {
        "id": "49TiCQRvG3DC"
      },
      "source": [
        "---\n",
        "---"
      ]
    },
    {
      "cell_type": "markdown",
      "metadata": {
        "id": "X6bYonAZG3DE"
      },
      "source": [
        "## <font color=red>Problema</font>\n",
        "***"
      ]
    },
    {
      "cell_type": "markdown",
      "metadata": {
        "id": "Ccx-Bc9oG3DH"
      },
      "source": [
        "Um restaurante recebe em média **20 pedidos por hora**. Qual a chance de que, em determinada hora escolhida ao acaso, o restaurante receba **15 pedidos**?"
      ]
    },
    {
      "cell_type": "markdown",
      "metadata": {
        "id": "k-uV7bgsmand"
      },
      "source": [
        "## <font color=green>2.2 Distribuição Poisson</font>\n",
        "***"
      ]
    },
    {
      "cell_type": "markdown",
      "metadata": {
        "id": "H0jPtJICG3DM"
      },
      "source": [
        "É empregada para descrever o número de ocorrências em um intervalo de tempo ou espaço específico. Os eventos são caracterizados pela possibilidade de contagem dos sucessos, mas a não possibilidade de contagem dos fracassos.\n",
        "\n",
        "Como exemplos de processos onde podemos aplicar a distribuição de Poisson temos a determinação do número de clientes que entram em uma loja em determinada hora, o número de carros que chegam em um drive-thru de uma lanchonete na hora do almoço, a determinação do número de acidentes registrados em um trecho de estrada etc."
      ]
    },
    {
      "cell_type": "markdown",
      "metadata": {
        "id": "uffaYQGz-Xvp"
      },
      "source": [
        "Para numero de contagens de sucesso. Mas impossivel contabilizar os fracassos. Por exemplo, dentro de um km eu consigo contabilizar o numero de buracos mas nao consigo contabilizar o numero de nao buracos. Ou, consigo contabilizar o numero de clientes que entraram na loja em certa hora mas nao o numero de clientes que nao entraram."
      ]
    },
    {
      "cell_type": "markdown",
      "metadata": {
        "id": "O_XqwANJG3DN"
      },
      "source": [
        "# $$P(k) = \\frac{e^{-\\mu}(\\mu)^k}{k!}$$\n",
        "\n",
        "Onde:\n",
        "\n",
        "$e$ = constante cujo valor aproximado é 2,718281828459045\n",
        "\n",
        "$\\mu$ = representa o número médio de ocorrências em um determinado intervalo de tempo ou espaço\n",
        "\n",
        "$k$ = número de sucessos no intervalo desejado"
      ]
    },
    {
      "cell_type": "markdown",
      "metadata": {
        "id": "FqquU8wOG3DO"
      },
      "source": [
        "### Experimento Poisson"
      ]
    },
    {
      "cell_type": "markdown",
      "metadata": {
        "id": "ir2odEW3G3DO"
      },
      "source": [
        "1. A probabilidade de uma ocorrência é a mesma em todo o intervalo observado.\n",
        "\n",
        "2. O número de ocorrências em determinado intervalo é independente do número de ocorrências em outros intervalos.\n",
        "\n",
        "3. A probabilidade de uma ocorrência é a mesma em intervalos de igual comprimento. A probab de alguem entrar na loja em certa hora hoje é a mesma amanha na mesma hora"
      ]
    },
    {
      "cell_type": "markdown",
      "metadata": {
        "id": "2INlWMa0G3DP"
      },
      "source": [
        "### Média da distribuição Poisson"
      ]
    },
    {
      "cell_type": "markdown",
      "metadata": {
        "id": "xywTsniCG3DP"
      },
      "source": [
        "# $$\\mu$$"
      ]
    },
    {
      "cell_type": "markdown",
      "metadata": {
        "id": "7-Lh-LpfG3DQ"
      },
      "source": [
        "### Desvio padrão da distribuição Poisson"
      ]
    },
    {
      "cell_type": "markdown",
      "metadata": {
        "id": "61uStWUsG3DQ"
      },
      "source": [
        "# $$\\sigma = \\sqrt{\\mu}$$"
      ]
    },
    {
      "cell_type": "markdown",
      "metadata": {
        "id": "vniBmzIMG3DR"
      },
      "source": [
        "### Importando bibliotecas\n",
        "\n",
        "http://www.numpy.org/"
      ]
    },
    {
      "cell_type": "code",
      "metadata": {
        "id": "w23fjVT-G3DS"
      },
      "source": [
        "import numpy as np"
      ],
      "execution_count": null,
      "outputs": []
    },
    {
      "cell_type": "code",
      "metadata": {
        "colab": {
          "base_uri": "https://localhost:8080/"
        },
        "id": "rdNqMuFNG3DU",
        "outputId": "6fada56c-7ba5-42fe-d7cf-233bb4c624aa"
      },
      "source": [
        "np.e"
      ],
      "execution_count": null,
      "outputs": [
        {
          "output_type": "execute_result",
          "data": {
            "text/plain": [
              "2.718281828459045"
            ]
          },
          "metadata": {
            "tags": []
          },
          "execution_count": 34
        }
      ]
    },
    {
      "cell_type": "markdown",
      "metadata": {
        "id": "RKQWuVgMG3DW"
      },
      "source": [
        "## <font color='blue'>Exemplo: Delivery</font>"
      ]
    },
    {
      "cell_type": "markdown",
      "metadata": {
        "id": "ZKc__49bG3DX"
      },
      "source": [
        "Um restaurante recebe em média **20 pedidos por hora**. Qual a chance de que, em determinada hora escolhida ao acaso, o restaurante receba **15 pedidos**?"
      ]
    },
    {
      "cell_type": "markdown",
      "metadata": {
        "id": "W-MJ4XBkG3DX"
      },
      "source": [
        "### Qual o número médio de ocorrências por hora ($\\mu$)?"
      ]
    },
    {
      "cell_type": "code",
      "metadata": {
        "colab": {
          "base_uri": "https://localhost:8080/"
        },
        "id": "2fVfJxdSG3DY",
        "outputId": "052fae88-a1fa-49a7-9836-4074731cddff"
      },
      "source": [
        "# aplicar formula de poisson \n",
        "media=20\n",
        "media\n",
        "# consigo contabilizar o sucesso, os pedidos recebidos"
      ],
      "execution_count": null,
      "outputs": [
        {
          "output_type": "execute_result",
          "data": {
            "text/plain": [
              "20"
            ]
          },
          "metadata": {
            "tags": []
          },
          "execution_count": 35
        }
      ]
    },
    {
      "cell_type": "markdown",
      "metadata": {
        "id": "3SagRtPvG3Da"
      },
      "source": [
        "### Qual o número de ocorrências que queremos obter no período ($k$)?"
      ]
    },
    {
      "cell_type": "code",
      "metadata": {
        "colab": {
          "base_uri": "https://localhost:8080/"
        },
        "id": "yXB3QhWyG3Da",
        "outputId": "d8b5fb39-3e47-4c57-e2f5-618863572c4f"
      },
      "source": [
        "# numero de sucessos\n",
        "k=15\n",
        "k"
      ],
      "execution_count": null,
      "outputs": [
        {
          "output_type": "execute_result",
          "data": {
            "text/plain": [
              "15"
            ]
          },
          "metadata": {
            "tags": []
          },
          "execution_count": 36
        }
      ]
    },
    {
      "cell_type": "markdown",
      "metadata": {
        "id": "3wFh3lFCG3De"
      },
      "source": [
        "### Solução 1"
      ]
    },
    {
      "cell_type": "code",
      "metadata": {
        "colab": {
          "base_uri": "https://localhost:8080/"
        },
        "id": "IEGO31WCG3Df",
        "outputId": "8c5855ad-08f8-4033-837d-51826c9caa6f"
      },
      "source": [
        "probabilidade = ((np.e ** (-media)) * (media ** k)) / (np.math.factorial(k))\n",
        "print('%0.8f' % probabilidade)\n",
        "# 5% de proababilidade"
      ],
      "execution_count": null,
      "outputs": [
        {
          "output_type": "stream",
          "text": [
            "0.05164885\n"
          ],
          "name": "stdout"
        }
      ]
    },
    {
      "cell_type": "markdown",
      "metadata": {
        "id": "GoIBvH62G3Di"
      },
      "source": [
        "### Importando bibliotecas"
      ]
    },
    {
      "cell_type": "markdown",
      "metadata": {
        "id": "iFSF_9Y4G3Dj"
      },
      "source": [
        "https://docs.scipy.org/doc/scipy/reference/generated/scipy.stats.poisson.html"
      ]
    },
    {
      "cell_type": "markdown",
      "metadata": {
        "id": "yAyXh0euG3Dk"
      },
      "source": [
        "### Solução 2"
      ]
    },
    {
      "cell_type": "code",
      "metadata": {
        "colab": {
          "base_uri": "https://localhost:8080/"
        },
        "id": "sNw4oCAyG3Dk",
        "outputId": "4038f6a1-b35a-4329-f5c3-c5a74e8f2c59"
      },
      "source": [
        "from scipy.stats import poisson\n",
        "\n",
        "probabilidade = poisson.pmf(k, media)\n",
        "print('%0.8f' % probabilidade)"
      ],
      "execution_count": null,
      "outputs": [
        {
          "output_type": "stream",
          "text": [
            "0.05164885\n"
          ],
          "name": "stdout"
        }
      ]
    },
    {
      "cell_type": "markdown",
      "metadata": {
        "id": "n55e9xmWC3dI"
      },
      "source": [
        "Exercicio: O número médio de clientes que entram em uma padaria por hora é igual a 20. Obtenha a probabilidade de, na próxima hora, entrarem exatamente 25 clientes.\n"
      ]
    },
    {
      "cell_type": "code",
      "metadata": {
        "colab": {
          "base_uri": "https://localhost:8080/"
        },
        "id": "_7HRt9tNC5Zj",
        "outputId": "6ead386a-d63f-4cf7-a5d5-185619067b0f"
      },
      "source": [
        "from scipy.stats import poisson\n",
        "\n",
        "media = 20\n",
        "k = 25\n",
        "\n",
        "probabilidade = poisson.pmf(k, media)\n",
        "print(\"{0:.2%}\".format(probabilidade))"
      ],
      "execution_count": null,
      "outputs": [
        {
          "output_type": "stream",
          "text": [
            "4.46%\n"
          ],
          "name": "stdout"
        }
      ]
    },
    {
      "cell_type": "markdown",
      "metadata": {
        "id": "g3ng8tQFG3Do"
      },
      "source": [
        "---\n",
        "---"
      ]
    },
    {
      "cell_type": "markdown",
      "metadata": {
        "id": "tVPUT9kEG3Dp"
      },
      "source": [
        "## <font color=red>Problema</font>\n",
        "***"
      ]
    },
    {
      "cell_type": "markdown",
      "metadata": {
        "id": "j7zVDN0kG3Dq"
      },
      "source": [
        "Em um estudo sobre as alturas dos moradores de uma cidade verificou-se que o conjunto de dados segue uma **distribuição aproximadamente normal**, com **média 1,70** e **desvio padrão de 0,1**. Com estas informações obtenha o seguinte conjunto de probabilidades:\n",
        "\n",
        "> **A.** probabilidade de uma pessoa, selecionada ao acaso, ter menos de 1,80 metros.\n",
        "\n",
        "> **B.** probabilidade de uma pessoa, selecionada ao acaso, ter entre 1,60 metros e 1,80 metros.    \n",
        "\n",
        "> **C.** probabilidade de uma pessoa, selecionada ao acaso, ter mais de 1,90 metros."
      ]
    },
    {
      "cell_type": "markdown",
      "metadata": {
        "id": "AowcVaKqpvf2"
      },
      "source": [
        "## <font color=green>2.3 Distribuição Normal</font>\n",
        "***"
      ]
    },
    {
      "cell_type": "markdown",
      "metadata": {
        "id": "KUh9qa6_Ebq4"
      },
      "source": [
        "TLC com aumento da amostra: tendencia de uma dist normal"
      ]
    },
    {
      "cell_type": "markdown",
      "metadata": {
        "id": "YOBD21hGG3Dw"
      },
      "source": [
        "A distribuição normal é uma das mais utilizadas em estatística. É uma distribuição contínua, onde a distribuição de frequências de uma variável quantitativa apresenta a forma de sino e é simétrica em relação a sua média."
      ]
    },
    {
      "cell_type": "markdown",
      "metadata": {
        "id": "kbPy2ORqqKJA"
      },
      "source": [
        "![Normal](https://caelum-online-public.s3.amazonaws.com/1178-estatistica-parte2/01/img001.png)"
      ]
    },
    {
      "cell_type": "markdown",
      "metadata": {
        "id": "J3eKESHTG3Dx"
      },
      "source": [
        "### Características importantes"
      ]
    },
    {
      "cell_type": "markdown",
      "metadata": {
        "id": "z8GxAzWZG3Dx"
      },
      "source": [
        "1. É simétrica em torno da média;\n",
        "\n",
        "2. A área sob a curva corresponde à proporção 1 ou 100%;\n",
        "\n",
        "3. As medidas de tendência central (média, mediana e moda) apresentam o mesmo valor;\n",
        "\n",
        "4. Os extremos da curva tendem ao infinito em ambas as direções e, teoricamente, jamais tocam o eixo $x$;\n",
        "\n",
        "5. O desvio padrão define o achatamento e largura da distribuição. Curvas mais largas e mais achatadas apresentam valores maiores de desvio padrão;\n",
        "\n",
        "6. A distribuição é definida por sua média e desvio padrão;\n",
        "\n",
        "7. A probabilidade sempre será igual à área sob a curva, delimitada pelos limites inferior e superior."
      ]
    },
    {
      "cell_type": "markdown",
      "metadata": {
        "id": "hoWLlOiwG3Dy"
      },
      "source": [
        "# $$f(x) = \\frac{1}{\\sqrt{2\\pi\\sigma}}e^{-\\frac{1}{2}\\left(\\frac{x-\\mu}{\\sigma}\\right)^2}$$\n",
        "\n",
        "Onde:\n",
        "\n",
        "$x$ = variável normal\n",
        "\n",
        "$\\sigma$ = desvio padrão\n",
        "\n",
        "$\\mu$ = média"
      ]
    },
    {
      "cell_type": "markdown",
      "metadata": {
        "id": "8n03Z0VlG3Dz"
      },
      "source": [
        "A probabilidade é obtida a partir da área sob a curva, delimitada pelos limites inferior e superior especificados. Um exemplo pode ser visto na figura abaixo."
      ]
    },
    {
      "cell_type": "markdown",
      "metadata": {
        "id": "X1UgmFoxG3Dz"
      },
      "source": [
        "![alt text](https://caelum-online-public.s3.amazonaws.com/1178-estatistica-parte2/01/img002.png)\n"
      ]
    },
    {
      "cell_type": "markdown",
      "metadata": {
        "id": "wGj8HhcHFB-D"
      },
      "source": [
        "Essa area é o valor da probabilidade; no exemplo acima limite inferior e superior sao 1,6 e 1,8 m"
      ]
    },
    {
      "cell_type": "markdown",
      "metadata": {
        "id": "rtKiApHLG3D0"
      },
      "source": [
        "Para obter a área acima basta calcular a integral da função para os intervalos determinados. Conforme equação abaixo:"
      ]
    },
    {
      "cell_type": "markdown",
      "metadata": {
        "id": "0r_9CbSOG3D0"
      },
      "source": [
        "# $$P(L_i<x<L_s) = \\int_{L_i}^{L_s}\\frac{1}{\\sqrt{2\\pi\\sigma}}e^{-\\frac{1}{2}\\left(\\frac{x-\\mu}{\\sigma}\\right)^2}$$\n",
        "\n",
        "Onde:\n",
        "\n",
        "$x$ = variável normal\n",
        "\n",
        "$\\sigma$ = desvio padrão\n",
        "\n",
        "$\\mu$ = média\n",
        "\n",
        "$L_i$ = limite inferior\n",
        "\n",
        "$L_s$ = limite superior"
      ]
    },
    {
      "cell_type": "markdown",
      "metadata": {
        "id": "qP-Ye-leG3D1"
      },
      "source": [
        "### Tabelas padronizadas"
      ]
    },
    {
      "cell_type": "markdown",
      "metadata": {
        "id": "Z1VnLK11G3D1"
      },
      "source": [
        "As tabelas padronizadas foram criadas para facilitar a obtenção dos valores das áreas sob a curva normal e eliminar a necessidade de solucionar integrais definidas.\n",
        "\n",
        "Para consultarmos os valores em uma tabela padronizada basta transformarmos nossa variável em uma variável padronizada $Z$.\n",
        "\n",
        "Esta variável $Z$ representa o afastamento em desvios padrões de um valor da variável original em relação à média."
      ]
    },
    {
      "cell_type": "markdown",
      "metadata": {
        "id": "HJcdgdsgG3D2"
      },
      "source": [
        "# $$Z = \\frac{x-\\mu}{\\sigma}$$\n",
        "\n",
        "Onde:\n",
        "\n",
        "$x$ = variável normal com média $\\mu$ e desvio padrão $\\sigma$\n",
        "\n",
        "$\\sigma$ = desvio padrão\n",
        "\n",
        "$\\mu$ = média"
      ]
    },
    {
      "cell_type": "markdown",
      "metadata": {
        "id": "W4qK3grmr1JH"
      },
      "source": [
        "Padroniza sua variavel em Z"
      ]
    },
    {
      "cell_type": "markdown",
      "metadata": {
        "id": "hUrVKJH3G3D2"
      },
      "source": [
        "### Construindo tabela normal padronizada\n",
        "https://docs.scipy.org/doc/scipy/reference/generated/scipy.stats.norm.html"
      ]
    },
    {
      "cell_type": "code",
      "metadata": {
        "colab": {
          "base_uri": "https://localhost:8080/",
          "height": 1000
        },
        "id": "7SudUNlcG3D4",
        "outputId": "72dcb8f3-d2a8-4812-8fdf-201a35a55894"
      },
      "source": [
        "import pandas as pd\n",
        "import numpy as np\n",
        "from scipy.stats import norm\n",
        "\n",
        "tabela_normal_padronizada = pd.DataFrame(\n",
        "    [], \n",
        "    index=[\"{0:0.2f}\".format(i / 100) for i in range(0, 400, 10)],\n",
        "    columns = [\"{0:0.2f}\".format(i / 100) for i in range(0, 10)])\n",
        "\n",
        "for index in tabela_normal_padronizada.index:\n",
        "    for column in tabela_normal_padronizada.columns:\n",
        "        Z = np.round(float(index) + float(column), 2)\n",
        "        tabela_normal_padronizada.loc[index, column] = \"{0:0.4f}\".format(norm.cdf(Z))\n",
        "\n",
        "tabela_normal_padronizada.rename_axis('Z', axis = 'columns', inplace = True)\n",
        "\n",
        "tabela_normal_padronizada"
      ],
      "execution_count": null,
      "outputs": [
        {
          "output_type": "execute_result",
          "data": {
            "text/html": [
              "<div>\n",
              "<style scoped>\n",
              "    .dataframe tbody tr th:only-of-type {\n",
              "        vertical-align: middle;\n",
              "    }\n",
              "\n",
              "    .dataframe tbody tr th {\n",
              "        vertical-align: top;\n",
              "    }\n",
              "\n",
              "    .dataframe thead th {\n",
              "        text-align: right;\n",
              "    }\n",
              "</style>\n",
              "<table border=\"1\" class=\"dataframe\">\n",
              "  <thead>\n",
              "    <tr style=\"text-align: right;\">\n",
              "      <th>Z</th>\n",
              "      <th>0.00</th>\n",
              "      <th>0.01</th>\n",
              "      <th>0.02</th>\n",
              "      <th>0.03</th>\n",
              "      <th>0.04</th>\n",
              "      <th>0.05</th>\n",
              "      <th>0.06</th>\n",
              "      <th>0.07</th>\n",
              "      <th>0.08</th>\n",
              "      <th>0.09</th>\n",
              "    </tr>\n",
              "  </thead>\n",
              "  <tbody>\n",
              "    <tr>\n",
              "      <th>0.00</th>\n",
              "      <td>0.5000</td>\n",
              "      <td>0.5040</td>\n",
              "      <td>0.5080</td>\n",
              "      <td>0.5120</td>\n",
              "      <td>0.5160</td>\n",
              "      <td>0.5199</td>\n",
              "      <td>0.5239</td>\n",
              "      <td>0.5279</td>\n",
              "      <td>0.5319</td>\n",
              "      <td>0.5359</td>\n",
              "    </tr>\n",
              "    <tr>\n",
              "      <th>0.10</th>\n",
              "      <td>0.5398</td>\n",
              "      <td>0.5438</td>\n",
              "      <td>0.5478</td>\n",
              "      <td>0.5517</td>\n",
              "      <td>0.5557</td>\n",
              "      <td>0.5596</td>\n",
              "      <td>0.5636</td>\n",
              "      <td>0.5675</td>\n",
              "      <td>0.5714</td>\n",
              "      <td>0.5753</td>\n",
              "    </tr>\n",
              "    <tr>\n",
              "      <th>0.20</th>\n",
              "      <td>0.5793</td>\n",
              "      <td>0.5832</td>\n",
              "      <td>0.5871</td>\n",
              "      <td>0.5910</td>\n",
              "      <td>0.5948</td>\n",
              "      <td>0.5987</td>\n",
              "      <td>0.6026</td>\n",
              "      <td>0.6064</td>\n",
              "      <td>0.6103</td>\n",
              "      <td>0.6141</td>\n",
              "    </tr>\n",
              "    <tr>\n",
              "      <th>0.30</th>\n",
              "      <td>0.6179</td>\n",
              "      <td>0.6217</td>\n",
              "      <td>0.6255</td>\n",
              "      <td>0.6293</td>\n",
              "      <td>0.6331</td>\n",
              "      <td>0.6368</td>\n",
              "      <td>0.6406</td>\n",
              "      <td>0.6443</td>\n",
              "      <td>0.6480</td>\n",
              "      <td>0.6517</td>\n",
              "    </tr>\n",
              "    <tr>\n",
              "      <th>0.40</th>\n",
              "      <td>0.6554</td>\n",
              "      <td>0.6591</td>\n",
              "      <td>0.6628</td>\n",
              "      <td>0.6664</td>\n",
              "      <td>0.6700</td>\n",
              "      <td>0.6736</td>\n",
              "      <td>0.6772</td>\n",
              "      <td>0.6808</td>\n",
              "      <td>0.6844</td>\n",
              "      <td>0.6879</td>\n",
              "    </tr>\n",
              "    <tr>\n",
              "      <th>0.50</th>\n",
              "      <td>0.6915</td>\n",
              "      <td>0.6950</td>\n",
              "      <td>0.6985</td>\n",
              "      <td>0.7019</td>\n",
              "      <td>0.7054</td>\n",
              "      <td>0.7088</td>\n",
              "      <td>0.7123</td>\n",
              "      <td>0.7157</td>\n",
              "      <td>0.7190</td>\n",
              "      <td>0.7224</td>\n",
              "    </tr>\n",
              "    <tr>\n",
              "      <th>0.60</th>\n",
              "      <td>0.7257</td>\n",
              "      <td>0.7291</td>\n",
              "      <td>0.7324</td>\n",
              "      <td>0.7357</td>\n",
              "      <td>0.7389</td>\n",
              "      <td>0.7422</td>\n",
              "      <td>0.7454</td>\n",
              "      <td>0.7486</td>\n",
              "      <td>0.7517</td>\n",
              "      <td>0.7549</td>\n",
              "    </tr>\n",
              "    <tr>\n",
              "      <th>0.70</th>\n",
              "      <td>0.7580</td>\n",
              "      <td>0.7611</td>\n",
              "      <td>0.7642</td>\n",
              "      <td>0.7673</td>\n",
              "      <td>0.7704</td>\n",
              "      <td>0.7734</td>\n",
              "      <td>0.7764</td>\n",
              "      <td>0.7794</td>\n",
              "      <td>0.7823</td>\n",
              "      <td>0.7852</td>\n",
              "    </tr>\n",
              "    <tr>\n",
              "      <th>0.80</th>\n",
              "      <td>0.7881</td>\n",
              "      <td>0.7910</td>\n",
              "      <td>0.7939</td>\n",
              "      <td>0.7967</td>\n",
              "      <td>0.7995</td>\n",
              "      <td>0.8023</td>\n",
              "      <td>0.8051</td>\n",
              "      <td>0.8078</td>\n",
              "      <td>0.8106</td>\n",
              "      <td>0.8133</td>\n",
              "    </tr>\n",
              "    <tr>\n",
              "      <th>0.90</th>\n",
              "      <td>0.8159</td>\n",
              "      <td>0.8186</td>\n",
              "      <td>0.8212</td>\n",
              "      <td>0.8238</td>\n",
              "      <td>0.8264</td>\n",
              "      <td>0.8289</td>\n",
              "      <td>0.8315</td>\n",
              "      <td>0.8340</td>\n",
              "      <td>0.8365</td>\n",
              "      <td>0.8389</td>\n",
              "    </tr>\n",
              "    <tr>\n",
              "      <th>1.00</th>\n",
              "      <td>0.8413</td>\n",
              "      <td>0.8438</td>\n",
              "      <td>0.8461</td>\n",
              "      <td>0.8485</td>\n",
              "      <td>0.8508</td>\n",
              "      <td>0.8531</td>\n",
              "      <td>0.8554</td>\n",
              "      <td>0.8577</td>\n",
              "      <td>0.8599</td>\n",
              "      <td>0.8621</td>\n",
              "    </tr>\n",
              "    <tr>\n",
              "      <th>1.10</th>\n",
              "      <td>0.8643</td>\n",
              "      <td>0.8665</td>\n",
              "      <td>0.8686</td>\n",
              "      <td>0.8708</td>\n",
              "      <td>0.8729</td>\n",
              "      <td>0.8749</td>\n",
              "      <td>0.8770</td>\n",
              "      <td>0.8790</td>\n",
              "      <td>0.8810</td>\n",
              "      <td>0.8830</td>\n",
              "    </tr>\n",
              "    <tr>\n",
              "      <th>1.20</th>\n",
              "      <td>0.8849</td>\n",
              "      <td>0.8869</td>\n",
              "      <td>0.8888</td>\n",
              "      <td>0.8907</td>\n",
              "      <td>0.8925</td>\n",
              "      <td>0.8944</td>\n",
              "      <td>0.8962</td>\n",
              "      <td>0.8980</td>\n",
              "      <td>0.8997</td>\n",
              "      <td>0.9015</td>\n",
              "    </tr>\n",
              "    <tr>\n",
              "      <th>1.30</th>\n",
              "      <td>0.9032</td>\n",
              "      <td>0.9049</td>\n",
              "      <td>0.9066</td>\n",
              "      <td>0.9082</td>\n",
              "      <td>0.9099</td>\n",
              "      <td>0.9115</td>\n",
              "      <td>0.9131</td>\n",
              "      <td>0.9147</td>\n",
              "      <td>0.9162</td>\n",
              "      <td>0.9177</td>\n",
              "    </tr>\n",
              "    <tr>\n",
              "      <th>1.40</th>\n",
              "      <td>0.9192</td>\n",
              "      <td>0.9207</td>\n",
              "      <td>0.9222</td>\n",
              "      <td>0.9236</td>\n",
              "      <td>0.9251</td>\n",
              "      <td>0.9265</td>\n",
              "      <td>0.9279</td>\n",
              "      <td>0.9292</td>\n",
              "      <td>0.9306</td>\n",
              "      <td>0.9319</td>\n",
              "    </tr>\n",
              "    <tr>\n",
              "      <th>1.50</th>\n",
              "      <td>0.9332</td>\n",
              "      <td>0.9345</td>\n",
              "      <td>0.9357</td>\n",
              "      <td>0.9370</td>\n",
              "      <td>0.9382</td>\n",
              "      <td>0.9394</td>\n",
              "      <td>0.9406</td>\n",
              "      <td>0.9418</td>\n",
              "      <td>0.9429</td>\n",
              "      <td>0.9441</td>\n",
              "    </tr>\n",
              "    <tr>\n",
              "      <th>1.60</th>\n",
              "      <td>0.9452</td>\n",
              "      <td>0.9463</td>\n",
              "      <td>0.9474</td>\n",
              "      <td>0.9484</td>\n",
              "      <td>0.9495</td>\n",
              "      <td>0.9505</td>\n",
              "      <td>0.9515</td>\n",
              "      <td>0.9525</td>\n",
              "      <td>0.9535</td>\n",
              "      <td>0.9545</td>\n",
              "    </tr>\n",
              "    <tr>\n",
              "      <th>1.70</th>\n",
              "      <td>0.9554</td>\n",
              "      <td>0.9564</td>\n",
              "      <td>0.9573</td>\n",
              "      <td>0.9582</td>\n",
              "      <td>0.9591</td>\n",
              "      <td>0.9599</td>\n",
              "      <td>0.9608</td>\n",
              "      <td>0.9616</td>\n",
              "      <td>0.9625</td>\n",
              "      <td>0.9633</td>\n",
              "    </tr>\n",
              "    <tr>\n",
              "      <th>1.80</th>\n",
              "      <td>0.9641</td>\n",
              "      <td>0.9649</td>\n",
              "      <td>0.9656</td>\n",
              "      <td>0.9664</td>\n",
              "      <td>0.9671</td>\n",
              "      <td>0.9678</td>\n",
              "      <td>0.9686</td>\n",
              "      <td>0.9693</td>\n",
              "      <td>0.9699</td>\n",
              "      <td>0.9706</td>\n",
              "    </tr>\n",
              "    <tr>\n",
              "      <th>1.90</th>\n",
              "      <td>0.9713</td>\n",
              "      <td>0.9719</td>\n",
              "      <td>0.9726</td>\n",
              "      <td>0.9732</td>\n",
              "      <td>0.9738</td>\n",
              "      <td>0.9744</td>\n",
              "      <td>0.9750</td>\n",
              "      <td>0.9756</td>\n",
              "      <td>0.9761</td>\n",
              "      <td>0.9767</td>\n",
              "    </tr>\n",
              "    <tr>\n",
              "      <th>2.00</th>\n",
              "      <td>0.9772</td>\n",
              "      <td>0.9778</td>\n",
              "      <td>0.9783</td>\n",
              "      <td>0.9788</td>\n",
              "      <td>0.9793</td>\n",
              "      <td>0.9798</td>\n",
              "      <td>0.9803</td>\n",
              "      <td>0.9808</td>\n",
              "      <td>0.9812</td>\n",
              "      <td>0.9817</td>\n",
              "    </tr>\n",
              "    <tr>\n",
              "      <th>2.10</th>\n",
              "      <td>0.9821</td>\n",
              "      <td>0.9826</td>\n",
              "      <td>0.9830</td>\n",
              "      <td>0.9834</td>\n",
              "      <td>0.9838</td>\n",
              "      <td>0.9842</td>\n",
              "      <td>0.9846</td>\n",
              "      <td>0.9850</td>\n",
              "      <td>0.9854</td>\n",
              "      <td>0.9857</td>\n",
              "    </tr>\n",
              "    <tr>\n",
              "      <th>2.20</th>\n",
              "      <td>0.9861</td>\n",
              "      <td>0.9864</td>\n",
              "      <td>0.9868</td>\n",
              "      <td>0.9871</td>\n",
              "      <td>0.9875</td>\n",
              "      <td>0.9878</td>\n",
              "      <td>0.9881</td>\n",
              "      <td>0.9884</td>\n",
              "      <td>0.9887</td>\n",
              "      <td>0.9890</td>\n",
              "    </tr>\n",
              "    <tr>\n",
              "      <th>2.30</th>\n",
              "      <td>0.9893</td>\n",
              "      <td>0.9896</td>\n",
              "      <td>0.9898</td>\n",
              "      <td>0.9901</td>\n",
              "      <td>0.9904</td>\n",
              "      <td>0.9906</td>\n",
              "      <td>0.9909</td>\n",
              "      <td>0.9911</td>\n",
              "      <td>0.9913</td>\n",
              "      <td>0.9916</td>\n",
              "    </tr>\n",
              "    <tr>\n",
              "      <th>2.40</th>\n",
              "      <td>0.9918</td>\n",
              "      <td>0.9920</td>\n",
              "      <td>0.9922</td>\n",
              "      <td>0.9925</td>\n",
              "      <td>0.9927</td>\n",
              "      <td>0.9929</td>\n",
              "      <td>0.9931</td>\n",
              "      <td>0.9932</td>\n",
              "      <td>0.9934</td>\n",
              "      <td>0.9936</td>\n",
              "    </tr>\n",
              "    <tr>\n",
              "      <th>2.50</th>\n",
              "      <td>0.9938</td>\n",
              "      <td>0.9940</td>\n",
              "      <td>0.9941</td>\n",
              "      <td>0.9943</td>\n",
              "      <td>0.9945</td>\n",
              "      <td>0.9946</td>\n",
              "      <td>0.9948</td>\n",
              "      <td>0.9949</td>\n",
              "      <td>0.9951</td>\n",
              "      <td>0.9952</td>\n",
              "    </tr>\n",
              "    <tr>\n",
              "      <th>2.60</th>\n",
              "      <td>0.9953</td>\n",
              "      <td>0.9955</td>\n",
              "      <td>0.9956</td>\n",
              "      <td>0.9957</td>\n",
              "      <td>0.9959</td>\n",
              "      <td>0.9960</td>\n",
              "      <td>0.9961</td>\n",
              "      <td>0.9962</td>\n",
              "      <td>0.9963</td>\n",
              "      <td>0.9964</td>\n",
              "    </tr>\n",
              "    <tr>\n",
              "      <th>2.70</th>\n",
              "      <td>0.9965</td>\n",
              "      <td>0.9966</td>\n",
              "      <td>0.9967</td>\n",
              "      <td>0.9968</td>\n",
              "      <td>0.9969</td>\n",
              "      <td>0.9970</td>\n",
              "      <td>0.9971</td>\n",
              "      <td>0.9972</td>\n",
              "      <td>0.9973</td>\n",
              "      <td>0.9974</td>\n",
              "    </tr>\n",
              "    <tr>\n",
              "      <th>2.80</th>\n",
              "      <td>0.9974</td>\n",
              "      <td>0.9975</td>\n",
              "      <td>0.9976</td>\n",
              "      <td>0.9977</td>\n",
              "      <td>0.9977</td>\n",
              "      <td>0.9978</td>\n",
              "      <td>0.9979</td>\n",
              "      <td>0.9979</td>\n",
              "      <td>0.9980</td>\n",
              "      <td>0.9981</td>\n",
              "    </tr>\n",
              "    <tr>\n",
              "      <th>2.90</th>\n",
              "      <td>0.9981</td>\n",
              "      <td>0.9982</td>\n",
              "      <td>0.9982</td>\n",
              "      <td>0.9983</td>\n",
              "      <td>0.9984</td>\n",
              "      <td>0.9984</td>\n",
              "      <td>0.9985</td>\n",
              "      <td>0.9985</td>\n",
              "      <td>0.9986</td>\n",
              "      <td>0.9986</td>\n",
              "    </tr>\n",
              "    <tr>\n",
              "      <th>3.00</th>\n",
              "      <td>0.9987</td>\n",
              "      <td>0.9987</td>\n",
              "      <td>0.9987</td>\n",
              "      <td>0.9988</td>\n",
              "      <td>0.9988</td>\n",
              "      <td>0.9989</td>\n",
              "      <td>0.9989</td>\n",
              "      <td>0.9989</td>\n",
              "      <td>0.9990</td>\n",
              "      <td>0.9990</td>\n",
              "    </tr>\n",
              "    <tr>\n",
              "      <th>3.10</th>\n",
              "      <td>0.9990</td>\n",
              "      <td>0.9991</td>\n",
              "      <td>0.9991</td>\n",
              "      <td>0.9991</td>\n",
              "      <td>0.9992</td>\n",
              "      <td>0.9992</td>\n",
              "      <td>0.9992</td>\n",
              "      <td>0.9992</td>\n",
              "      <td>0.9993</td>\n",
              "      <td>0.9993</td>\n",
              "    </tr>\n",
              "    <tr>\n",
              "      <th>3.20</th>\n",
              "      <td>0.9993</td>\n",
              "      <td>0.9993</td>\n",
              "      <td>0.9994</td>\n",
              "      <td>0.9994</td>\n",
              "      <td>0.9994</td>\n",
              "      <td>0.9994</td>\n",
              "      <td>0.9994</td>\n",
              "      <td>0.9995</td>\n",
              "      <td>0.9995</td>\n",
              "      <td>0.9995</td>\n",
              "    </tr>\n",
              "    <tr>\n",
              "      <th>3.30</th>\n",
              "      <td>0.9995</td>\n",
              "      <td>0.9995</td>\n",
              "      <td>0.9995</td>\n",
              "      <td>0.9996</td>\n",
              "      <td>0.9996</td>\n",
              "      <td>0.9996</td>\n",
              "      <td>0.9996</td>\n",
              "      <td>0.9996</td>\n",
              "      <td>0.9996</td>\n",
              "      <td>0.9997</td>\n",
              "    </tr>\n",
              "    <tr>\n",
              "      <th>3.40</th>\n",
              "      <td>0.9997</td>\n",
              "      <td>0.9997</td>\n",
              "      <td>0.9997</td>\n",
              "      <td>0.9997</td>\n",
              "      <td>0.9997</td>\n",
              "      <td>0.9997</td>\n",
              "      <td>0.9997</td>\n",
              "      <td>0.9997</td>\n",
              "      <td>0.9997</td>\n",
              "      <td>0.9998</td>\n",
              "    </tr>\n",
              "    <tr>\n",
              "      <th>3.50</th>\n",
              "      <td>0.9998</td>\n",
              "      <td>0.9998</td>\n",
              "      <td>0.9998</td>\n",
              "      <td>0.9998</td>\n",
              "      <td>0.9998</td>\n",
              "      <td>0.9998</td>\n",
              "      <td>0.9998</td>\n",
              "      <td>0.9998</td>\n",
              "      <td>0.9998</td>\n",
              "      <td>0.9998</td>\n",
              "    </tr>\n",
              "    <tr>\n",
              "      <th>3.60</th>\n",
              "      <td>0.9998</td>\n",
              "      <td>0.9998</td>\n",
              "      <td>0.9999</td>\n",
              "      <td>0.9999</td>\n",
              "      <td>0.9999</td>\n",
              "      <td>0.9999</td>\n",
              "      <td>0.9999</td>\n",
              "      <td>0.9999</td>\n",
              "      <td>0.9999</td>\n",
              "      <td>0.9999</td>\n",
              "    </tr>\n",
              "    <tr>\n",
              "      <th>3.70</th>\n",
              "      <td>0.9999</td>\n",
              "      <td>0.9999</td>\n",
              "      <td>0.9999</td>\n",
              "      <td>0.9999</td>\n",
              "      <td>0.9999</td>\n",
              "      <td>0.9999</td>\n",
              "      <td>0.9999</td>\n",
              "      <td>0.9999</td>\n",
              "      <td>0.9999</td>\n",
              "      <td>0.9999</td>\n",
              "    </tr>\n",
              "    <tr>\n",
              "      <th>3.80</th>\n",
              "      <td>0.9999</td>\n",
              "      <td>0.9999</td>\n",
              "      <td>0.9999</td>\n",
              "      <td>0.9999</td>\n",
              "      <td>0.9999</td>\n",
              "      <td>0.9999</td>\n",
              "      <td>0.9999</td>\n",
              "      <td>0.9999</td>\n",
              "      <td>0.9999</td>\n",
              "      <td>0.9999</td>\n",
              "    </tr>\n",
              "    <tr>\n",
              "      <th>3.90</th>\n",
              "      <td>1.0000</td>\n",
              "      <td>1.0000</td>\n",
              "      <td>1.0000</td>\n",
              "      <td>1.0000</td>\n",
              "      <td>1.0000</td>\n",
              "      <td>1.0000</td>\n",
              "      <td>1.0000</td>\n",
              "      <td>1.0000</td>\n",
              "      <td>1.0000</td>\n",
              "      <td>1.0000</td>\n",
              "    </tr>\n",
              "  </tbody>\n",
              "</table>\n",
              "</div>"
            ],
            "text/plain": [
              "Z       0.00    0.01    0.02    0.03  ...    0.06    0.07    0.08    0.09\n",
              "0.00  0.5000  0.5040  0.5080  0.5120  ...  0.5239  0.5279  0.5319  0.5359\n",
              "0.10  0.5398  0.5438  0.5478  0.5517  ...  0.5636  0.5675  0.5714  0.5753\n",
              "0.20  0.5793  0.5832  0.5871  0.5910  ...  0.6026  0.6064  0.6103  0.6141\n",
              "0.30  0.6179  0.6217  0.6255  0.6293  ...  0.6406  0.6443  0.6480  0.6517\n",
              "0.40  0.6554  0.6591  0.6628  0.6664  ...  0.6772  0.6808  0.6844  0.6879\n",
              "0.50  0.6915  0.6950  0.6985  0.7019  ...  0.7123  0.7157  0.7190  0.7224\n",
              "0.60  0.7257  0.7291  0.7324  0.7357  ...  0.7454  0.7486  0.7517  0.7549\n",
              "0.70  0.7580  0.7611  0.7642  0.7673  ...  0.7764  0.7794  0.7823  0.7852\n",
              "0.80  0.7881  0.7910  0.7939  0.7967  ...  0.8051  0.8078  0.8106  0.8133\n",
              "0.90  0.8159  0.8186  0.8212  0.8238  ...  0.8315  0.8340  0.8365  0.8389\n",
              "1.00  0.8413  0.8438  0.8461  0.8485  ...  0.8554  0.8577  0.8599  0.8621\n",
              "1.10  0.8643  0.8665  0.8686  0.8708  ...  0.8770  0.8790  0.8810  0.8830\n",
              "1.20  0.8849  0.8869  0.8888  0.8907  ...  0.8962  0.8980  0.8997  0.9015\n",
              "1.30  0.9032  0.9049  0.9066  0.9082  ...  0.9131  0.9147  0.9162  0.9177\n",
              "1.40  0.9192  0.9207  0.9222  0.9236  ...  0.9279  0.9292  0.9306  0.9319\n",
              "1.50  0.9332  0.9345  0.9357  0.9370  ...  0.9406  0.9418  0.9429  0.9441\n",
              "1.60  0.9452  0.9463  0.9474  0.9484  ...  0.9515  0.9525  0.9535  0.9545\n",
              "1.70  0.9554  0.9564  0.9573  0.9582  ...  0.9608  0.9616  0.9625  0.9633\n",
              "1.80  0.9641  0.9649  0.9656  0.9664  ...  0.9686  0.9693  0.9699  0.9706\n",
              "1.90  0.9713  0.9719  0.9726  0.9732  ...  0.9750  0.9756  0.9761  0.9767\n",
              "2.00  0.9772  0.9778  0.9783  0.9788  ...  0.9803  0.9808  0.9812  0.9817\n",
              "2.10  0.9821  0.9826  0.9830  0.9834  ...  0.9846  0.9850  0.9854  0.9857\n",
              "2.20  0.9861  0.9864  0.9868  0.9871  ...  0.9881  0.9884  0.9887  0.9890\n",
              "2.30  0.9893  0.9896  0.9898  0.9901  ...  0.9909  0.9911  0.9913  0.9916\n",
              "2.40  0.9918  0.9920  0.9922  0.9925  ...  0.9931  0.9932  0.9934  0.9936\n",
              "2.50  0.9938  0.9940  0.9941  0.9943  ...  0.9948  0.9949  0.9951  0.9952\n",
              "2.60  0.9953  0.9955  0.9956  0.9957  ...  0.9961  0.9962  0.9963  0.9964\n",
              "2.70  0.9965  0.9966  0.9967  0.9968  ...  0.9971  0.9972  0.9973  0.9974\n",
              "2.80  0.9974  0.9975  0.9976  0.9977  ...  0.9979  0.9979  0.9980  0.9981\n",
              "2.90  0.9981  0.9982  0.9982  0.9983  ...  0.9985  0.9985  0.9986  0.9986\n",
              "3.00  0.9987  0.9987  0.9987  0.9988  ...  0.9989  0.9989  0.9990  0.9990\n",
              "3.10  0.9990  0.9991  0.9991  0.9991  ...  0.9992  0.9992  0.9993  0.9993\n",
              "3.20  0.9993  0.9993  0.9994  0.9994  ...  0.9994  0.9995  0.9995  0.9995\n",
              "3.30  0.9995  0.9995  0.9995  0.9996  ...  0.9996  0.9996  0.9996  0.9997\n",
              "3.40  0.9997  0.9997  0.9997  0.9997  ...  0.9997  0.9997  0.9997  0.9998\n",
              "3.50  0.9998  0.9998  0.9998  0.9998  ...  0.9998  0.9998  0.9998  0.9998\n",
              "3.60  0.9998  0.9998  0.9999  0.9999  ...  0.9999  0.9999  0.9999  0.9999\n",
              "3.70  0.9999  0.9999  0.9999  0.9999  ...  0.9999  0.9999  0.9999  0.9999\n",
              "3.80  0.9999  0.9999  0.9999  0.9999  ...  0.9999  0.9999  0.9999  0.9999\n",
              "3.90  1.0000  1.0000  1.0000  1.0000  ...  1.0000  1.0000  1.0000  1.0000\n",
              "\n",
              "[40 rows x 10 columns]"
            ]
          },
          "metadata": {
            "tags": []
          },
          "execution_count": 40
        }
      ]
    },
    {
      "cell_type": "markdown",
      "metadata": {
        "id": "xa-eiDjdsoJ6"
      },
      "source": [
        "Esses numeros representam essa área abaixo da curva"
      ]
    },
    {
      "cell_type": "markdown",
      "metadata": {
        "id": "XHYeMaN3G3D9"
      },
      "source": [
        "<img src='https://caelum-online-public.s3.amazonaws.com/1178-estatistica-parte2/01/img003.png' width='250px'>\n",
        "\n",
        "A tabela acima fornece a área sob a curva entre $-\\infty$ e $Z$ desvios padrão acima da média. Lembrando que por se tratar de valores padronizados temos $\\mu = 0$."
      ]
    },
    {
      "cell_type": "markdown",
      "metadata": {
        "id": "Bs-KyZAJG3D-"
      },
      "source": [
        "## <font color='blue'>Exemplo: Qual sua altura?</font>"
      ]
    },
    {
      "cell_type": "markdown",
      "metadata": {
        "id": "8PFIjXejG3EA"
      },
      "source": [
        "Em um estudo sobre as alturas dos moradores de uma cidade verificou-se que o conjunto de dados segue uma **distribuição aproximadamente normal**, com **média 1,70** e **desvio padrão de 0,1**. Com estas informações obtenha o seguinte conjunto de probabilidades:\n",
        "\n",
        "> **A.** probabilidade de uma pessoa, selecionada ao acaso, ter menos de 1,80 metros.\n",
        "\n",
        "> **B.** probabilidade de uma pessoa, selecionada ao acaso, ter entre 1,60 metros e 1,80 metros.    \n",
        "\n",
        "> **C.** probabilidade de uma pessoa, selecionada ao acaso, ter mais de 1,90 metros."
      ]
    },
    {
      "cell_type": "markdown",
      "metadata": {
        "id": "aHpZLwt1G3EC"
      },
      "source": [
        "### Problema A - Identificação da área sob a curva"
      ]
    },
    {
      "cell_type": "markdown",
      "metadata": {
        "id": "6eWq6bLlt-fg"
      },
      "source": [
        "Media é 1,7 e estamos procurando a probab de alguém ter 1,8m. Sei que a metade à esquerda de 1,7 tem 50%"
      ]
    },
    {
      "cell_type": "markdown",
      "metadata": {
        "id": "V1eC7tydG3EF"
      },
      "source": [
        "<img style='float: left' src='https://caelum-online-public.s3.amazonaws.com/1178-estatistica-parte2/01/img004.png' width='350px'>"
      ]
    },
    {
      "cell_type": "markdown",
      "metadata": {
        "id": "Cxxb_NjfuH_1"
      },
      "source": [
        "Eu preciso padronizar minha variavel para Z para saber a probab dela até - infinito à esquerda"
      ]
    },
    {
      "cell_type": "markdown",
      "metadata": {
        "id": "X61wEuRrG3EI"
      },
      "source": [
        "### Obter a variável padronizada $Z$"
      ]
    },
    {
      "cell_type": "code",
      "metadata": {
        "id": "gNSNIMvZG3EK",
        "colab": {
          "base_uri": "https://localhost:8080/"
        },
        "outputId": "582f6779-0d5a-42ab-b168-b20658704f8d"
      },
      "source": [
        "media=1.7\n",
        "media"
      ],
      "execution_count": null,
      "outputs": [
        {
          "output_type": "execute_result",
          "data": {
            "text/plain": [
              "1.7"
            ]
          },
          "metadata": {
            "tags": []
          },
          "execution_count": 41
        }
      ]
    },
    {
      "cell_type": "code",
      "metadata": {
        "id": "E_f2lycRG3ES"
      },
      "source": [
        "desvio_padrao=0.1"
      ],
      "execution_count": null,
      "outputs": []
    },
    {
      "cell_type": "code",
      "metadata": {
        "id": "xnsCkUb6G3EX",
        "colab": {
          "base_uri": "https://localhost:8080/"
        },
        "outputId": "07efaca6-c300-4d3b-c5fd-e28168ab00e2"
      },
      "source": [
        "# X é a variavel de interesse\n",
        "Z = (1.8 - media) / desvio_padrao\n",
        "Z"
      ],
      "execution_count": null,
      "outputs": [
        {
          "output_type": "execute_result",
          "data": {
            "text/plain": [
              "1.0000000000000009"
            ]
          },
          "metadata": {
            "tags": []
          },
          "execution_count": 43
        }
      ]
    },
    {
      "cell_type": "markdown",
      "metadata": {
        "id": "oj9sgHbkG3Eb"
      },
      "source": [
        "### Solução 1 - Utilizando tabela"
      ]
    },
    {
      "cell_type": "code",
      "metadata": {
        "id": "ReDTH3WgG3Ec",
        "colab": {
          "base_uri": "https://localhost:8080/"
        },
        "outputId": "c0e15a6f-89d9-4f7d-e7a6-6d619433fff3"
      },
      "source": [
        "# na tabela, Z=1,00 corresponde à 0.8413\t\n",
        "probabilidade=0.8413\t\n",
        "probabilidade"
      ],
      "execution_count": null,
      "outputs": [
        {
          "output_type": "execute_result",
          "data": {
            "text/plain": [
              "0.8413"
            ]
          },
          "metadata": {
            "tags": []
          },
          "execution_count": 44
        }
      ]
    },
    {
      "cell_type": "markdown",
      "metadata": {
        "id": "4ud0OnQOG3Eh"
      },
      "source": [
        "### Solução 2 - Utilizando Scipy"
      ]
    },
    {
      "cell_type": "code",
      "metadata": {
        "id": "sx7riZVlG3Ei",
        "colab": {
          "base_uri": "https://localhost:8080/"
        },
        "outputId": "4706e865-1829-4a05-f9c0-b5ff201d0bdf"
      },
      "source": [
        "from scipy.stats import norm\n",
        "norm.cdf(Z)"
      ],
      "execution_count": null,
      "outputs": [
        {
          "output_type": "execute_result",
          "data": {
            "text/plain": [
              "0.8413447460685431"
            ]
          },
          "metadata": {
            "tags": []
          },
          "execution_count": 45
        }
      ]
    },
    {
      "cell_type": "markdown",
      "metadata": {
        "id": "4sUf6k73v-ah"
      },
      "source": [
        "Exercicio: A aplicação de uma prova de estatística em um concurso apresentou um conjunto de notas normalmente distribuídas. Verificou-se que o conjunto de notas tinha média 70 e desvio padrão de 5 pontos.\n",
        "\n",
        "Qual a probabilidade de um aluno, selecionado ao acaso, ter nota menor que 85?"
      ]
    },
    {
      "cell_type": "code",
      "metadata": {
        "colab": {
          "base_uri": "https://localhost:8080/"
        },
        "id": "NUcLA4F4wCg5",
        "outputId": "8b7a2d15-005c-40ab-d53b-0dc8e985c927"
      },
      "source": [
        "Z = (85 - 70) /5\n",
        "norm.cdf(Z)"
      ],
      "execution_count": null,
      "outputs": [
        {
          "output_type": "execute_result",
          "data": {
            "text/plain": [
              "0.9986501019683699"
            ]
          },
          "metadata": {
            "tags": []
          },
          "execution_count": 46
        }
      ]
    },
    {
      "cell_type": "markdown",
      "metadata": {
        "id": "ZsnMjGzJG3Ep"
      },
      "source": [
        "### Problema B - Identificação da área sob a curva"
      ]
    },
    {
      "cell_type": "markdown",
      "metadata": {
        "id": "LN2HY-UCG3Ep"
      },
      "source": [
        "<img style='float: left' src='https://caelum-online-public.s3.amazonaws.com/1178-estatistica-parte2/01/img005.png' width='350px'>"
      ]
    },
    {
      "cell_type": "markdown",
      "metadata": {
        "id": "FS6WNg88G3Eq"
      },
      "source": [
        "### Obter a variável padronizada $Z$"
      ]
    },
    {
      "cell_type": "code",
      "metadata": {
        "id": "mxPsPIOYG3Er",
        "colab": {
          "base_uri": "https://localhost:8080/"
        },
        "outputId": "3eb7a922-0ede-4a58-c8fc-cfc75a05f1f0"
      },
      "source": [
        "# variavel Z na media\n",
        "Z = (1.7 - media) / desvio_padrao\n",
        "Z\n",
        "# se eu calcular na tabela 0.00 verei que é 50%"
      ],
      "execution_count": null,
      "outputs": [
        {
          "output_type": "execute_result",
          "data": {
            "text/plain": [
              "0.0"
            ]
          },
          "metadata": {
            "tags": []
          },
          "execution_count": 47
        }
      ]
    },
    {
      "cell_type": "code",
      "metadata": {
        "id": "s0Vf0GXHG3Et",
        "colab": {
          "base_uri": "https://localhost:8080/"
        },
        "outputId": "ab77136e-0dc9-4999-8d26-c1cb91b4d2e3"
      },
      "source": [
        "Z = (1.8 - media) / desvio_padrao\n",
        "Z"
      ],
      "execution_count": null,
      "outputs": [
        {
          "output_type": "execute_result",
          "data": {
            "text/plain": [
              "1.0000000000000009"
            ]
          },
          "metadata": {
            "tags": []
          },
          "execution_count": 48
        }
      ]
    },
    {
      "cell_type": "markdown",
      "metadata": {
        "id": "MseXjmZ7G3E0"
      },
      "source": [
        "### Solução 1 - Utilizando tabela"
      ]
    },
    {
      "cell_type": "code",
      "metadata": {
        "id": "swZ6SVQGG3E0",
        "colab": {
          "base_uri": "https://localhost:8080/"
        },
        "outputId": "53e70236-43f6-4a1e-c0c2-b71375c2e2f3"
      },
      "source": [
        "probabilidade=0.8413-0.5\n",
        "# isso me da a probabilidade entre 1,7 e 1,8\n",
        "probabilidade = (0.8413 - 0.5) * 2\n",
        "# vezes 2 pois me da a area entre 1,7-1,8 e 1,7-1,6\n",
        "probabilidade"
      ],
      "execution_count": null,
      "outputs": [
        {
          "output_type": "execute_result",
          "data": {
            "text/plain": [
              "0.6826000000000001"
            ]
          },
          "metadata": {
            "tags": []
          },
          "execution_count": 49
        }
      ]
    },
    {
      "cell_type": "code",
      "metadata": {
        "id": "oNfZZRBdGy2G",
        "colab": {
          "base_uri": "https://localhost:8080/"
        },
        "outputId": "86e4deff-6367-4466-bc49-fe902097fa52"
      },
      "source": [
        "Z_inferior = (1.6 - media) / desvio_padrao\n",
        "round(Z_inferior, 2)"
      ],
      "execution_count": null,
      "outputs": [
        {
          "output_type": "execute_result",
          "data": {
            "text/plain": [
              "-1.0"
            ]
          },
          "metadata": {
            "tags": []
          },
          "execution_count": 50
        }
      ]
    },
    {
      "cell_type": "code",
      "metadata": {
        "colab": {
          "base_uri": "https://localhost:8080/"
        },
        "id": "l3JUC8B8xcp4",
        "outputId": "eaee2a10-8b9d-41c2-f1a3-8557884e2df4"
      },
      "source": [
        "Z_superior = (1.8 - media) / desvio_padrao\n",
        "round(Z_superior, 2)\n"
      ],
      "execution_count": null,
      "outputs": [
        {
          "output_type": "execute_result",
          "data": {
            "text/plain": [
              "1.0"
            ]
          },
          "metadata": {
            "tags": []
          },
          "execution_count": 51
        }
      ]
    },
    {
      "cell_type": "markdown",
      "metadata": {
        "id": "yW-c1ZEDxhrD"
      },
      "source": [
        "Esses dois passos me mostram que as areas sao iguais"
      ]
    },
    {
      "cell_type": "markdown",
      "metadata": {
        "id": "y5e4zAifG3E2"
      },
      "source": [
        "### Solução 2 - Utilizando Scipy"
      ]
    },
    {
      "cell_type": "code",
      "metadata": {
        "id": "hcps6lkNG3E3",
        "colab": {
          "base_uri": "https://localhost:8080/"
        },
        "outputId": "11461895-0d89-4443-f6a5-75823bbc88a3"
      },
      "source": [
        "probabilidade = norm.cdf(Z_superior)\n",
        "probabilidade\n",
        "# isso me da a area de -infinito (à esquerda) ate 1,8"
      ],
      "execution_count": null,
      "outputs": [
        {
          "output_type": "execute_result",
          "data": {
            "text/plain": [
              "0.8413447460685431"
            ]
          },
          "metadata": {
            "tags": []
          },
          "execution_count": 52
        }
      ]
    },
    {
      "cell_type": "markdown",
      "metadata": {
        "id": "yZm76ZmYx6dB"
      },
      "source": [
        "Retiraremos a área que vai desde menos infinito até `1.6` para obtermos apenas a área que nos interessa, ou seja, A da chance de obtermos alguém entre 1,60 e 1,80 metros de altura."
      ]
    },
    {
      "cell_type": "code",
      "metadata": {
        "id": "MjEfhnQEG3E5",
        "colab": {
          "base_uri": "https://localhost:8080/"
        },
        "outputId": "c2a5596b-f216-40fa-aa8a-39983243b2e1"
      },
      "source": [
        "# agora eu subtraio a parte em branco \n",
        "probabilidade = norm.cdf(Z_superior) - (1- norm.cdf(Z_superior))\n",
        "probabilidade"
      ],
      "execution_count": null,
      "outputs": [
        {
          "output_type": "execute_result",
          "data": {
            "text/plain": [
              "0.6826894921370863"
            ]
          },
          "metadata": {
            "tags": []
          },
          "execution_count": 53
        }
      ]
    },
    {
      "cell_type": "code",
      "metadata": {
        "colab": {
          "base_uri": "https://localhost:8080/"
        },
        "id": "0DL0GFwyyAOQ",
        "outputId": "9cb5fac3-213f-4164-b92a-4267a51e7fff"
      },
      "source": [
        "# ou\n",
        "probabilidade = 0.8413 - (1 - 0.8413)\n",
        "probabilidade"
      ],
      "execution_count": null,
      "outputs": [
        {
          "output_type": "execute_result",
          "data": {
            "text/plain": [
              "0.6826000000000001"
            ]
          },
          "metadata": {
            "tags": []
          },
          "execution_count": 54
        }
      ]
    },
    {
      "cell_type": "code",
      "metadata": {
        "colab": {
          "base_uri": "https://localhost:8080/"
        },
        "id": "fqfdlZSNyEBu",
        "outputId": "e6a29c97-7b98-40f6-c455-c037d25ab1c3"
      },
      "source": [
        "probabilidade = norm.cdf(Z_superior) - norm.cdf(Z_inferior)\n",
        "probabilidade"
      ],
      "execution_count": null,
      "outputs": [
        {
          "output_type": "execute_result",
          "data": {
            "text/plain": [
              "0.6826894921370857"
            ]
          },
          "metadata": {
            "tags": []
          },
          "execution_count": 55
        }
      ]
    },
    {
      "cell_type": "markdown",
      "metadata": {
        "id": "HaiO-vvdyK1Z"
      },
      "source": [
        "Exercicio: O faturamento diário de um motorista de aplicativo segue uma distribuição aproximadamente normal, com média R 300,00 e desvio padrão igual a R 50,00. Obtenha as probabilidades de que, em um dia aleatório, o motorista ganhe:\n",
        "\n",
        "1) Entre R 250,00 e R 350,00\n",
        "\n",
        "2) Entre R 400,00 e R 500,00"
      ]
    },
    {
      "cell_type": "code",
      "metadata": {
        "colab": {
          "base_uri": "https://localhost:8080/"
        },
        "id": "x9PMk5zNyU7E",
        "outputId": "af62101a-f32e-4cd5-f1ee-f1dc750cbfd7"
      },
      "source": [
        "# 1\n",
        "from scipy.stats import norm\n",
        "\n",
        "media = 300\n",
        "desvio_padrao = 50\n",
        "Z_inferior = (250 - media) / desvio_padrao\n",
        "Z_superior = (350 - media) / desvio_padrao\n",
        "\n",
        "probabilidade = norm.cdf(Z_superior) - norm.cdf(Z_inferior)\n",
        "print(\"{0:.2%}\".format(probabilidade))"
      ],
      "execution_count": null,
      "outputs": [
        {
          "output_type": "stream",
          "text": [
            "68.27%\n"
          ],
          "name": "stdout"
        }
      ]
    },
    {
      "cell_type": "code",
      "metadata": {
        "colab": {
          "base_uri": "https://localhost:8080/"
        },
        "id": "ioQhVQZnyeEQ",
        "outputId": "f6838afd-8759-445e-89ae-da59f2ae71de"
      },
      "source": [
        "# 2\n",
        "from scipy.stats import norm\n",
        "\n",
        "media = 300\n",
        "desvio_padrao = 50\n",
        "Z_inferior = (400 - media) / desvio_padrao\n",
        "Z_superior = (500 - media) / desvio_padrao\n",
        "\n",
        "probabilidade = norm.cdf(Z_superior) - norm.cdf(Z_inferior)\n",
        "print(\"{0:.2%}\".format(probabilidade))"
      ],
      "execution_count": null,
      "outputs": [
        {
          "output_type": "stream",
          "text": [
            "2.27%\n"
          ],
          "name": "stdout"
        }
      ]
    },
    {
      "cell_type": "markdown",
      "metadata": {
        "id": "i9TI1qSYyKpK"
      },
      "source": [
        ""
      ]
    },
    {
      "cell_type": "markdown",
      "metadata": {
        "id": "05sqVgdaG3E-"
      },
      "source": [
        "### Problema C - Identificação da área sob a curva"
      ]
    },
    {
      "cell_type": "markdown",
      "metadata": {
        "id": "EPKhGTEkG3E_"
      },
      "source": [
        "<img style='float: left' src='https://caelum-online-public.s3.amazonaws.com/1178-estatistica-parte2/01/img006.png' width='350px'>"
      ]
    },
    {
      "cell_type": "markdown",
      "metadata": {
        "id": "BA6jYbsSG3E_"
      },
      "source": [
        "### Obter a variável padronizada $Z$"
      ]
    },
    {
      "cell_type": "code",
      "metadata": {
        "id": "3OVj60MzG3E_",
        "colab": {
          "base_uri": "https://localhost:8080/"
        },
        "outputId": "c24a0df4-126f-4cb2-bd4f-5c34dee37e46"
      },
      "source": [
        "desvio_padrao=0.1\n",
        "media=1.7\n",
        "Z = (1.9 - media) / desvio_padrao\n",
        "Z\n"
      ],
      "execution_count": null,
      "outputs": [
        {
          "output_type": "execute_result",
          "data": {
            "text/plain": [
              "1.9999999999999996"
            ]
          },
          "metadata": {
            "tags": []
          },
          "execution_count": 58
        }
      ]
    },
    {
      "cell_type": "markdown",
      "metadata": {
        "id": "hCiiWAm_G3FC"
      },
      "source": [
        "### Solução 1 - Utilizando tabela"
      ]
    },
    {
      "cell_type": "code",
      "metadata": {
        "id": "mSNfoO6VG3FC",
        "colab": {
          "base_uri": "https://localhost:8080/"
        },
        "outputId": "ed0b35c8-cd28-428a-de74-c6df71be9fad"
      },
      "source": [
        "probabilidade = 1 - 0.9767\n",
        "probabilidade\n",
        "# 2,32% de ter alguem com mais de 1,9m"
      ],
      "execution_count": null,
      "outputs": [
        {
          "output_type": "execute_result",
          "data": {
            "text/plain": [
              "0.023299999999999987"
            ]
          },
          "metadata": {
            "tags": []
          },
          "execution_count": 59
        }
      ]
    },
    {
      "cell_type": "markdown",
      "metadata": {
        "id": "QCyoVXOdG3FF"
      },
      "source": [
        "### Solução 2 - Utilizando Scipy"
      ]
    },
    {
      "cell_type": "code",
      "metadata": {
        "id": "caIE-t83G3FF",
        "colab": {
          "base_uri": "https://localhost:8080/"
        },
        "outputId": "24743a34-a8b0-450f-9ef0-5e509512c7a4"
      },
      "source": [
        "probabilidade = 1 - norm.cdf(Z)\n",
        "probabilidade\n"
      ],
      "execution_count": null,
      "outputs": [
        {
          "output_type": "execute_result",
          "data": {
            "text/plain": [
              "0.02275013194817921"
            ]
          },
          "metadata": {
            "tags": []
          },
          "execution_count": 60
        }
      ]
    },
    {
      "cell_type": "code",
      "metadata": {
        "colab": {
          "base_uri": "https://localhost:8080/"
        },
        "id": "r0PVEamBzwmB",
        "outputId": "c42841bf-05ce-4873-fa64-a343201b9159"
      },
      "source": [
        "# se eu colocar um valor negativo em Z a funcao entende isso\n",
        "probabilidade = norm.cdf(-Z)\n",
        "probabilidade"
      ],
      "execution_count": null,
      "outputs": [
        {
          "output_type": "execute_result",
          "data": {
            "text/plain": [
              "0.022750131948179216"
            ]
          },
          "metadata": {
            "tags": []
          },
          "execution_count": 61
        }
      ]
    },
    {
      "cell_type": "markdown",
      "metadata": {
        "id": "gLd306Sr0H3Y"
      },
      "source": [
        "Exercicio: \n",
        "O Inmetro verificou que as lâmpadas incandescentes da fabricante XPTO apresentam uma vida útil normalmente distribuída, com média igual a 720 dias e desvio padrão igual a 30 dias. Calcule a probabilidade de uma lâmpada, escolhida ao acaso, durar:\n",
        "\n",
        "1) Entre 650 e 750 dias\n",
        "\n",
        "2) Mais que 800 dias\n",
        "\n",
        "3) Menos que 700 dias"
      ]
    },
    {
      "cell_type": "code",
      "metadata": {
        "colab": {
          "base_uri": "https://localhost:8080/"
        },
        "id": "f2uhrsa01f_y",
        "outputId": "0fb065c2-d9ca-4d9b-c103-1e2b49eb0839"
      },
      "source": [
        "# 1 \n",
        "media=720\n",
        "desvio_padrao=30\n",
        "Z_inferior = (650 - media) / desvio_padrao\n",
        "round(Z_inferior, 2)\n",
        "Z_superior = (750 - media) / desvio_padrao\n",
        "round(Z_superior, 2)\n",
        "probabilidade = norm.cdf(Z_superior) - norm.cdf(Z_inferior)\n",
        "print(\"{0:.2%}\".format(probabilidade))"
      ],
      "execution_count": null,
      "outputs": [
        {
          "output_type": "stream",
          "text": [
            "83.15%\n"
          ],
          "name": "stdout"
        }
      ]
    },
    {
      "cell_type": "code",
      "metadata": {
        "colab": {
          "base_uri": "https://localhost:8080/"
        },
        "id": "nDziyH732Y4Q",
        "outputId": "2224582d-cf66-4c11-d8b3-7fe6fc09b9be"
      },
      "source": [
        "# 2\n",
        "Z = (800 - media) / desvio_padrao\n",
        "probabilidade = norm.cdf(-Z)\n",
        "print(\"{0:.2%}\".format(probabilidade))\n"
      ],
      "execution_count": null,
      "outputs": [
        {
          "output_type": "stream",
          "text": [
            "0.38%\n"
          ],
          "name": "stdout"
        }
      ]
    },
    {
      "cell_type": "code",
      "metadata": {
        "colab": {
          "base_uri": "https://localhost:8080/"
        },
        "id": "EUmPMNLZ2jxB",
        "outputId": "8f61ecf5-30a5-4927-b552-7e40134a71d0"
      },
      "source": [
        "# 3\n",
        "Z = (700 - media) / desvio_padrao\n",
        "probabilidade=norm.cdf(Z)\n",
        "print(\"{0:.2%}\".format(probabilidade))"
      ],
      "execution_count": null,
      "outputs": [
        {
          "output_type": "stream",
          "text": [
            "25.25%\n"
          ],
          "name": "stdout"
        }
      ]
    },
    {
      "cell_type": "markdown",
      "metadata": {
        "id": "e2AcRW0a3DSf"
      },
      "source": [
        "Exercicio: Utilizando a tabela padronizada, ou o ferramental disponibilizado pelo Python, encontre a área sob a curva normal para os valores de Z abaixo:\n",
        "\n",
        "1) Z < 1,96\n",
        "\n",
        "2) Z > 2,15\n",
        "\n",
        "3) Z < -0,78\n",
        "\n",
        "4) Z > 0,59"
      ]
    },
    {
      "cell_type": "code",
      "metadata": {
        "colab": {
          "base_uri": "https://localhost:8080/"
        },
        "id": "quhd4q7S3PrM",
        "outputId": "9d6733c2-d85e-4cde-9fce-9a2b0973ab39"
      },
      "source": [
        "from scipy.stats import norm\n",
        "\n",
        "# Item A\n",
        "probabilidade = norm.cdf(1.96)\n",
        "print(\"{0:0.4f}\".format(probabilidade))\n",
        "\n",
        "# Item B\n",
        "probabilidade = 1 - norm.cdf(2.15)\n",
        "# ou -> probabilidade = norm.sf(2.15)\n",
        "print(\"{0:0.4f}\".format(probabilidade))\n",
        "\n",
        "# Item C\n",
        "probabilidade = norm.cdf(-0.78)\n",
        "print(\"{0:0.4f}\".format(probabilidade))\n",
        "\n",
        "# Item D\n",
        "probabilidade = 1 - norm.cdf(0.59)\n",
        "# ou -> probabilidade = norm.sf(0.59)\n",
        "print(\"{0:0.4f}\".format(probabilidade))"
      ],
      "execution_count": null,
      "outputs": [
        {
          "output_type": "stream",
          "text": [
            "0.9750\n",
            "0.0158\n",
            "0.2177\n",
            "0.2776\n"
          ],
          "name": "stdout"
        }
      ]
    },
    {
      "cell_type": "markdown",
      "metadata": {
        "id": "GmmzChE2t4wW"
      },
      "source": [
        "# <font color=green>3 AMOSTRAGEM</font>\n",
        "***"
      ]
    },
    {
      "cell_type": "markdown",
      "metadata": {
        "id": "g8PbtmQZt4Wv"
      },
      "source": [
        "## <font color=green>3.1 População e Amostra</font>\n",
        "***"
      ]
    },
    {
      "cell_type": "markdown",
      "metadata": {
        "id": "sedD5gB9G3FV"
      },
      "source": [
        "### População\n",
        "Conjunto de todos os elementos de interesse em um estudo. Diversos elementos podem compor uma população, por exemplo: pessoas, idades, alturas, carros etc.\n",
        "\n",
        "Com relação ao tamanho, as populações podem ser limitadas (populações finitas) ou ilimitadas (populações infinitas)."
      ]
    },
    {
      "cell_type": "markdown",
      "metadata": {
        "id": "XBFhAWNcG3FW"
      },
      "source": [
        "### Populações finitas\n",
        "\n",
        "Permitem a contagem de seus elementos. Como exemplos temos o número de funcionário de uma empresa, a quantidade de alunos em uma escola etc."
      ]
    },
    {
      "cell_type": "markdown",
      "metadata": {
        "id": "YT8V2GB1G3FW"
      },
      "source": [
        "### Populações infinitas\n",
        "\n",
        "Não é possível contar seus elementos. Como exemplos temos a quantidade de porções que se pode extrair da água do mar para uma análise, temperatura medida em cada ponto de um território etc.\n",
        "\n",
        "<font color=red>Quando os elementos de uma população puderem ser contados, porém apresentando uma quantidade muito grande, assume-se a população como infinita.</font>."
      ]
    },
    {
      "cell_type": "markdown",
      "metadata": {
        "id": "a-WtAXv1G3FX"
      },
      "source": [
        "### Amostra\n",
        "Subconjunto representativo da população."
      ]
    },
    {
      "cell_type": "markdown",
      "metadata": {
        "id": "QWnDYpPSG3FX"
      },
      "source": [
        "Os atributos numéricos de uma população como sua média, variância e desvio padrão, são conhecidos como **parâmetros**. O principal foco da inferência estatística é justamente gerar estimativas e testar hipóteses sobre os parâmetros populacionais utilizando as informações de amostras."
      ]
    },
    {
      "cell_type": "markdown",
      "metadata": {
        "id": "dDz6vFbDG3FZ"
      },
      "source": [
        "## <font color=green>3.2 Quando utilizar uma amostra?</font>\n",
        "***"
      ]
    },
    {
      "cell_type": "markdown",
      "metadata": {
        "id": "5X1YwCGlG3Fe"
      },
      "source": [
        "### Populações infinitas\n",
        "\n",
        "O estudo não chegaria nunca ao fim. Não é possível investigar todos os elementos da população. (Exemplo: oceano é infinito, nao posso observa-lo inteiro)"
      ]
    },
    {
      "cell_type": "markdown",
      "metadata": {
        "id": "jHLtG8HSG3Ff"
      },
      "source": [
        "### Testes destrutivos\n",
        "\n",
        "Estudos onde os elementos avaliados são totalmente consumidos ou destruídos. Exemplo: testes de vida útil, testes de segurança contra colisões em automóveis."
      ]
    },
    {
      "cell_type": "markdown",
      "metadata": {
        "id": "lxYxepmdG3Ff"
      },
      "source": [
        "### Resultados rápidos\n",
        "\n",
        "Pesquisas que precisam de mais agilidade na divulgação. Exemplo: pesquisas de opinião, pesquisas que envolvam problemas de saúde pública."
      ]
    },
    {
      "cell_type": "markdown",
      "metadata": {
        "id": "PeUCGL5nG3Fj"
      },
      "source": [
        "### Custos elevados\n",
        "\n",
        "Quando a população é finita mas muito numerosa, o custo de um censo pode tornar o processo inviável."
      ]
    },
    {
      "cell_type": "markdown",
      "metadata": {
        "id": "1sbJeMpSG3Fj"
      },
      "source": [
        "## <font color=green>3.3 Amostragem Aleatória Simples</font>\n",
        "***"
      ]
    },
    {
      "cell_type": "markdown",
      "metadata": {
        "id": "Kiq9cYMYG3Fp"
      },
      "source": [
        "É uma das principais maneiras de se extrair uma amostra de uma população. A exigência fundamental deste tipo de abordagem é que cada elemeto da população tenha as mesmas chances de ser selecionado para fazer parte da amostra."
      ]
    },
    {
      "cell_type": "code",
      "metadata": {
        "id": "NtQ8HOYdG3Fq",
        "colab": {
          "base_uri": "https://localhost:8080/"
        },
        "outputId": "640e91c2-95a4-4147-b748-edee0cacb9f6"
      },
      "source": [
        "# selecao aleatoria\n",
        "dados.shape[0]\n",
        "#76840 obs"
      ],
      "execution_count": null,
      "outputs": [
        {
          "output_type": "execute_result",
          "data": {
            "text/plain": [
              "76840"
            ]
          },
          "metadata": {
            "tags": []
          },
          "execution_count": 66
        }
      ]
    },
    {
      "cell_type": "code",
      "metadata": {
        "id": "DsXJHWhMG3Fs",
        "colab": {
          "base_uri": "https://localhost:8080/"
        },
        "outputId": "b4281bee-d278-4aa4-96b6-2b0608f82451"
      },
      "source": [
        "# vamos supir que esses dados seja a minha populacao\n",
        "dados.Renda.mean()\n",
        "# ou seja a minha média da pop é 2000"
      ],
      "execution_count": null,
      "outputs": [
        {
          "output_type": "execute_result",
          "data": {
            "text/plain": [
              "2000.3831988547631"
            ]
          },
          "metadata": {
            "tags": []
          },
          "execution_count": 67
        }
      ]
    },
    {
      "cell_type": "code",
      "metadata": {
        "id": "k7yJucVMG3Fw"
      },
      "source": [
        "# vou criar uma amostra aleatoria simples de 100 obs\n",
        "amostra = dados.sample(n = 100, random_state = 101)\n",
        "# 101 esta gerando um certo numero aleatoria"
      ],
      "execution_count": null,
      "outputs": []
    },
    {
      "cell_type": "code",
      "metadata": {
        "id": "wUyXS65sG3F2",
        "colab": {
          "base_uri": "https://localhost:8080/"
        },
        "outputId": "24cbedd5-395b-4c93-82cd-8219ddb9f2a4"
      },
      "source": [
        "# verificar tamnho dessa amostra\n",
        "amostra.shape[0]\n",
        "# 100 obs como determinado anteriormente"
      ],
      "execution_count": null,
      "outputs": [
        {
          "output_type": "execute_result",
          "data": {
            "text/plain": [
              "100"
            ]
          },
          "metadata": {
            "tags": []
          },
          "execution_count": 69
        }
      ]
    },
    {
      "cell_type": "code",
      "metadata": {
        "id": "y0J4UtOwG3F5",
        "colab": {
          "base_uri": "https://localhost:8080/"
        },
        "outputId": "ef05615d-6548-4e34-9d98-b5ff2a17bf37"
      },
      "source": [
        "# vamos ver agora media da minha amostra\n",
        "amostra.Renda.mean()\n",
        "# media da amostra é 2.150, um pouco diferente da minha populacao "
      ],
      "execution_count": null,
      "outputs": [
        {
          "output_type": "execute_result",
          "data": {
            "text/plain": [
              "2150.85"
            ]
          },
          "metadata": {
            "tags": []
          },
          "execution_count": 70
        }
      ]
    },
    {
      "cell_type": "markdown",
      "metadata": {
        "id": "NHmSETE68JvE"
      },
      "source": [
        "Não usamos critério nenhum para selecionar o n, e deveremos garantir que a Amostra seja de fato representativa da População.\n",
        "\n",
        "Faremos este teste com a suposição de que o gênero masculino compõe 40% da população total; selecionaremos a variável Sexo de dados e aplicaremos o mesmo .value_counts() que aprendemos quando estávamos criando Distribuições de Frequência no primeiro curso, mas usaremos em percentual e normalize igual a True."
      ]
    },
    {
      "cell_type": "code",
      "metadata": {
        "colab": {
          "base_uri": "https://localhost:8080/",
          "height": 204
        },
        "id": "afeMiSRx_HQ6",
        "outputId": "60f70120-5ff0-436a-fad1-bb9e5efb632f"
      },
      "source": [
        "dados.head()  "
      ],
      "execution_count": null,
      "outputs": [
        {
          "output_type": "execute_result",
          "data": {
            "text/html": [
              "<div>\n",
              "<style scoped>\n",
              "    .dataframe tbody tr th:only-of-type {\n",
              "        vertical-align: middle;\n",
              "    }\n",
              "\n",
              "    .dataframe tbody tr th {\n",
              "        vertical-align: top;\n",
              "    }\n",
              "\n",
              "    .dataframe thead th {\n",
              "        text-align: right;\n",
              "    }\n",
              "</style>\n",
              "<table border=\"1\" class=\"dataframe\">\n",
              "  <thead>\n",
              "    <tr style=\"text-align: right;\">\n",
              "      <th></th>\n",
              "      <th>UF</th>\n",
              "      <th>Sexo</th>\n",
              "      <th>Idade</th>\n",
              "      <th>Cor</th>\n",
              "      <th>Anos de Estudo</th>\n",
              "      <th>Renda</th>\n",
              "      <th>Altura</th>\n",
              "    </tr>\n",
              "  </thead>\n",
              "  <tbody>\n",
              "    <tr>\n",
              "      <th>0</th>\n",
              "      <td>11</td>\n",
              "      <td>0</td>\n",
              "      <td>23</td>\n",
              "      <td>8</td>\n",
              "      <td>12</td>\n",
              "      <td>800</td>\n",
              "      <td>1.603808</td>\n",
              "    </tr>\n",
              "    <tr>\n",
              "      <th>1</th>\n",
              "      <td>11</td>\n",
              "      <td>1</td>\n",
              "      <td>23</td>\n",
              "      <td>2</td>\n",
              "      <td>12</td>\n",
              "      <td>1150</td>\n",
              "      <td>1.739790</td>\n",
              "    </tr>\n",
              "    <tr>\n",
              "      <th>2</th>\n",
              "      <td>11</td>\n",
              "      <td>1</td>\n",
              "      <td>35</td>\n",
              "      <td>8</td>\n",
              "      <td>15</td>\n",
              "      <td>880</td>\n",
              "      <td>1.760444</td>\n",
              "    </tr>\n",
              "    <tr>\n",
              "      <th>3</th>\n",
              "      <td>11</td>\n",
              "      <td>0</td>\n",
              "      <td>46</td>\n",
              "      <td>2</td>\n",
              "      <td>6</td>\n",
              "      <td>3500</td>\n",
              "      <td>1.783158</td>\n",
              "    </tr>\n",
              "    <tr>\n",
              "      <th>4</th>\n",
              "      <td>11</td>\n",
              "      <td>1</td>\n",
              "      <td>47</td>\n",
              "      <td>8</td>\n",
              "      <td>9</td>\n",
              "      <td>150</td>\n",
              "      <td>1.690631</td>\n",
              "    </tr>\n",
              "  </tbody>\n",
              "</table>\n",
              "</div>"
            ],
            "text/plain": [
              "   UF  Sexo  Idade  Cor  Anos de Estudo  Renda    Altura\n",
              "0  11     0     23    8              12    800  1.603808\n",
              "1  11     1     23    2              12   1150  1.739790\n",
              "2  11     1     35    8              15    880  1.760444\n",
              "3  11     0     46    2               6   3500  1.783158\n",
              "4  11     1     47    8               9    150  1.690631"
            ]
          },
          "metadata": {
            "tags": []
          },
          "execution_count": 71
        }
      ]
    },
    {
      "cell_type": "code",
      "metadata": {
        "id": "WGZT_wnjSgPy",
        "colab": {
          "base_uri": "https://localhost:8080/"
        },
        "outputId": "2b51961c-41ac-41b4-d853-9ede02c21148"
      },
      "source": [
        "dados.Sexo.value_counts(normalize = True)\n",
        "# no nosso dataset 0.69 é a proporcao de sexo =0, masculino\n"
      ],
      "execution_count": null,
      "outputs": [
        {
          "output_type": "execute_result",
          "data": {
            "text/plain": [
              "0    0.692998\n",
              "1    0.307002\n",
              "Name: Sexo, dtype: float64"
            ]
          },
          "metadata": {
            "tags": []
          },
          "execution_count": 72
        }
      ]
    },
    {
      "cell_type": "markdown",
      "metadata": {
        "id": "IcyTNxHS8U1L"
      },
      "source": [
        "a identificação 0 representa o sexo masculino cuja porcentagem é relativa a aproximadamente 70% e 1 o feminino com 30%. Supondo que seja a População, faremos a mesma técnica com a variável amostra para Sexo."
      ]
    },
    {
      "cell_type": "code",
      "metadata": {
        "id": "1la3Y_reSgEM",
        "colab": {
          "base_uri": "https://localhost:8080/"
        },
        "outputId": "afbb84d5-3c58-4912-95cf-9407757765e3"
      },
      "source": [
        "amostra.Sexo.value_counts(normalize = True)"
      ],
      "execution_count": null,
      "outputs": [
        {
          "output_type": "execute_result",
          "data": {
            "text/plain": [
              "0    0.69\n",
              "1    0.31\n",
              "Name: Sexo, dtype: float64"
            ]
          },
          "metadata": {
            "tags": []
          },
          "execution_count": 73
        }
      ]
    },
    {
      "cell_type": "markdown",
      "metadata": {
        "id": "ZpE84hw6_jJ_"
      },
      "source": [
        "Como não usamos nenhuma técnica para definir n, não temos certeza de que esse resultado próximo garante que seja uma Amostra representativa o suficiente."
      ]
    },
    {
      "cell_type": "code",
      "metadata": {
        "colab": {
          "base_uri": "https://localhost:8080/"
        },
        "id": "pyqvuvHc_kwc",
        "outputId": "b1b16eec-4cc4-4920-ae31-f9cdab416e7c"
      },
      "source": [
        "# Vamos aumentar o tamanho da amostra para 1000\n",
        "amostra = dados.sample(n = 1000, random_state = 101)\n",
        "amostra.shape[0]"
      ],
      "execution_count": null,
      "outputs": [
        {
          "output_type": "execute_result",
          "data": {
            "text/plain": [
              "1000"
            ]
          },
          "metadata": {
            "tags": []
          },
          "execution_count": 74
        }
      ]
    },
    {
      "cell_type": "code",
      "metadata": {
        "colab": {
          "base_uri": "https://localhost:8080/"
        },
        "id": "mHStQVY5_qJm",
        "outputId": "485487e9-ae9a-4a6e-e1f7-ec31104a5695"
      },
      "source": [
        "amostra.Renda.mean()\n",
        "# mais proximo do 2000"
      ],
      "execution_count": null,
      "outputs": [
        {
          "output_type": "execute_result",
          "data": {
            "text/plain": [
              "1998.783"
            ]
          },
          "metadata": {
            "tags": []
          },
          "execution_count": 75
        }
      ]
    },
    {
      "cell_type": "code",
      "metadata": {
        "colab": {
          "base_uri": "https://localhost:8080/"
        },
        "id": "dAiha-eE_2wZ",
        "outputId": "98cf15ad-5b99-40af-c4a7-76f3542ee3ca"
      },
      "source": [
        "dados.Sexo.value_counts(normalize = True)"
      ],
      "execution_count": null,
      "outputs": [
        {
          "output_type": "execute_result",
          "data": {
            "text/plain": [
              "0    0.692998\n",
              "1    0.307002\n",
              "Name: Sexo, dtype: float64"
            ]
          },
          "metadata": {
            "tags": []
          },
          "execution_count": 76
        }
      ]
    },
    {
      "cell_type": "code",
      "metadata": {
        "colab": {
          "base_uri": "https://localhost:8080/"
        },
        "id": "mAOp1c9v_skh",
        "outputId": "7256978e-f43b-4630-fefc-f1535b63cb1e"
      },
      "source": [
        "amostra.Sexo.value_counts(normalize = True)"
      ],
      "execution_count": null,
      "outputs": [
        {
          "output_type": "execute_result",
          "data": {
            "text/plain": [
              "0    0.706\n",
              "1    0.294\n",
              "Name: Sexo, dtype: float64"
            ]
          },
          "metadata": {
            "tags": []
          },
          "execution_count": 77
        }
      ]
    },
    {
      "cell_type": "markdown",
      "metadata": {
        "id": "stcKhnJBG3F7"
      },
      "source": [
        "## <font color=green>3.4 Amostragem Estratificada</font>\n",
        "***"
      ]
    },
    {
      "cell_type": "markdown",
      "metadata": {
        "id": "W1uEZMRIG3GA"
      },
      "source": [
        "É uma melhoria do processo de amostragem aleatória simples. Neste método é proposta a divisão da população em subgrupos de elementos com características similares, ou seja, grupos mais homogêneos. Com estes subgrupos separados, aplica-se a técnica de amostragem aleatória simples dentro de cada subgrupo individualmente."
      ]
    },
    {
      "cell_type": "markdown",
      "metadata": {
        "id": "DIbhVwvQAeSR"
      },
      "source": [
        "Exemplo: separar nossa populacao por renda e dentro de cada categoria extraimos uma amostragem simples"
      ]
    },
    {
      "cell_type": "markdown",
      "metadata": {
        "id": "xRjUHDAbG3GB"
      },
      "source": [
        "## <font color=green>3.5 Amostragem por Conglomerados</font>\n",
        "***"
      ]
    },
    {
      "cell_type": "markdown",
      "metadata": {
        "id": "sW9IuaL9G3GH"
      },
      "source": [
        "Também visa melhorar o critério de amostragem aleatória simples. Na amostragem por conglomerados são também criados subgrupos, porém não serão homogêneas como na amostragem estratificada. Na amostragem por conglomerados os subgrupos serão heterogêneos, onde, em seguida, serão aplicadas a amostragem aleatória simples ou estratificada.\n",
        "\n",
        "Um exemplo bastante comum de aplicação deste tipo de técnica é na divisão da população em grupos territoriais, onde os elementos investigados terão características bastante variadas."
      ]
    },
    {
      "cell_type": "markdown",
      "metadata": {
        "id": "2LNJT4FEuzO4"
      },
      "source": [
        "# <font color=green>4 ESTIMAÇÃO</font>\n",
        "***"
      ]
    },
    {
      "cell_type": "markdown",
      "metadata": {
        "id": "z69W2sVGmybS"
      },
      "source": [
        "## <font color='red'>Problema </font>"
      ]
    },
    {
      "cell_type": "markdown",
      "metadata": {
        "id": "ytP6VpismwDY"
      },
      "source": [
        "Suponha que os pesos dos sacos de arroz de uma indústria alimentícia se distribuem aproximadamente como uma normal de **desvio padrão populacional igual a 150 g**. Selecionada uma **amostra aleatório de 20 sacos** de um lote específico, obteve-se um **peso médio de 5.050 g**. Construa um **intervalo de confiança para a média populacional** assumindo um **nível de significância de 5%**."
      ]
    },
    {
      "cell_type": "markdown",
      "metadata": {
        "id": "PCqEvJMOwvUf"
      },
      "source": [
        "---"
      ]
    },
    {
      "cell_type": "markdown",
      "metadata": {
        "id": "HU578SXBG3GN"
      },
      "source": [
        "É a forma de se fazer suposições generalizadas sobre os parâmetros de uma população tendo como base as informações de uma amostra.\n",
        "\n",
        "- **Parâmetros** são os atributos numéricos de uma população, tal como a média, desvio padrão etc.\n",
        "\n",
        "- **Estimativa** é o valor obtido para determinado parâmetro a partir dos dados de uma amostra da população."
      ]
    },
    {
      "cell_type": "markdown",
      "metadata": {
        "id": "klWVkoUDG3GR"
      },
      "source": [
        "## <font color=green>4.1 Teorema do limite central</font>\n",
        "***"
      ]
    },
    {
      "cell_type": "markdown",
      "metadata": {
        "id": "QpgTvbISG3GU"
      },
      "source": [
        "> O **Teorema do Limite Central** afirma que, com o aumento do tamanho da amostra, a distribuição das médias amostrais se aproxima de uma distribuição normal com média igual à média da população e desvio padrão igual ao desvio padrão da variável original dividido pela raiz quadrada do tamanho da amostra. Este fato é assegurado para $n$ maior ou igual a 30."
      ]
    },
    {
      "cell_type": "markdown",
      "metadata": {
        "id": "P7osSeiSCd9V"
      },
      "source": [
        "Exemplo: a formula tem o desvio padrao da populacao"
      ]
    },
    {
      "cell_type": "markdown",
      "metadata": {
        "id": "ZIAr6is3wEMp"
      },
      "source": [
        "# $$\\sigma_\\bar{x} = \\frac{\\sigma}{\\sqrt{n}}$$\n",
        "\n",
        "O desvio padrão das médias amostrais é conhecido como **erro padrão da média**"
      ]
    },
    {
      "cell_type": "markdown",
      "metadata": {
        "id": "eFtSo6H0iz7z"
      },
      "source": [
        "### Entendendo o Teorema do Limite Central"
      ]
    },
    {
      "cell_type": "code",
      "metadata": {
        "id": "S3q73XpnizTi"
      },
      "source": [
        "# vamos selecionar uma amostra dos meus dados\n",
        "n=2000\n",
        "# vou selecionar 2000 obs do meus dados e vou repetir isso 1500 vezes ou seja,\n",
        "# vou ter 1500 n, cada n=2000 e vou montar um dataframe\n",
        "total_de_amostras= 1500"
      ],
      "execution_count": null,
      "outputs": []
    },
    {
      "cell_type": "code",
      "metadata": {
        "id": "uXZvARZ0izQp",
        "colab": {
          "base_uri": "https://localhost:8080/",
          "height": 32
        },
        "outputId": "ecf0eddf-2b96-4090-d4b5-b116816cf973"
      },
      "source": [
        "amostras=pd.DataFrame()\n",
        "# dataframe vazio\n",
        "amostras"
      ],
      "execution_count": null,
      "outputs": [
        {
          "output_type": "execute_result",
          "data": {
            "text/html": [
              "<div>\n",
              "<style scoped>\n",
              "    .dataframe tbody tr th:only-of-type {\n",
              "        vertical-align: middle;\n",
              "    }\n",
              "\n",
              "    .dataframe tbody tr th {\n",
              "        vertical-align: top;\n",
              "    }\n",
              "\n",
              "    .dataframe thead th {\n",
              "        text-align: right;\n",
              "    }\n",
              "</style>\n",
              "<table border=\"1\" class=\"dataframe\">\n",
              "  <thead>\n",
              "    <tr style=\"text-align: right;\">\n",
              "      <th></th>\n",
              "    </tr>\n",
              "  </thead>\n",
              "  <tbody>\n",
              "  </tbody>\n",
              "</table>\n",
              "</div>"
            ],
            "text/plain": [
              "Empty DataFrame\n",
              "Columns: []\n",
              "Index: []"
            ]
          },
          "metadata": {
            "tags": []
          },
          "execution_count": 79
        }
      ]
    },
    {
      "cell_type": "code",
      "metadata": {
        "id": "tXa7XKhKTyMu",
        "scrolled": true,
        "colab": {
          "base_uri": "https://localhost:8080/",
          "height": 438
        },
        "outputId": "f0588487-8666-468d-ef6d-329e576122f4"
      },
      "source": [
        "# pegando 1500 amostras, para cada amostra i vai pegar um sample tamanho n de idade \n",
        "for i in range(total_de_amostras):\n",
        "  _ = dados.Idade.sample(n)\n",
        "  # index de 0 a 2000\n",
        "  _.index = range(0, len(_))\n",
        "  amostras['Amostra_' + str(i)] = _\n",
        "\n",
        "amostras\n"
      ],
      "execution_count": null,
      "outputs": [
        {
          "output_type": "execute_result",
          "data": {
            "text/html": [
              "<div>\n",
              "<style scoped>\n",
              "    .dataframe tbody tr th:only-of-type {\n",
              "        vertical-align: middle;\n",
              "    }\n",
              "\n",
              "    .dataframe tbody tr th {\n",
              "        vertical-align: top;\n",
              "    }\n",
              "\n",
              "    .dataframe thead th {\n",
              "        text-align: right;\n",
              "    }\n",
              "</style>\n",
              "<table border=\"1\" class=\"dataframe\">\n",
              "  <thead>\n",
              "    <tr style=\"text-align: right;\">\n",
              "      <th></th>\n",
              "      <th>Amostra_0</th>\n",
              "      <th>Amostra_1</th>\n",
              "      <th>Amostra_2</th>\n",
              "      <th>Amostra_3</th>\n",
              "      <th>Amostra_4</th>\n",
              "      <th>Amostra_5</th>\n",
              "      <th>Amostra_6</th>\n",
              "      <th>Amostra_7</th>\n",
              "      <th>Amostra_8</th>\n",
              "      <th>Amostra_9</th>\n",
              "      <th>Amostra_10</th>\n",
              "      <th>Amostra_11</th>\n",
              "      <th>Amostra_12</th>\n",
              "      <th>Amostra_13</th>\n",
              "      <th>Amostra_14</th>\n",
              "      <th>Amostra_15</th>\n",
              "      <th>Amostra_16</th>\n",
              "      <th>Amostra_17</th>\n",
              "      <th>Amostra_18</th>\n",
              "      <th>Amostra_19</th>\n",
              "      <th>Amostra_20</th>\n",
              "      <th>Amostra_21</th>\n",
              "      <th>Amostra_22</th>\n",
              "      <th>Amostra_23</th>\n",
              "      <th>Amostra_24</th>\n",
              "      <th>Amostra_25</th>\n",
              "      <th>Amostra_26</th>\n",
              "      <th>Amostra_27</th>\n",
              "      <th>Amostra_28</th>\n",
              "      <th>Amostra_29</th>\n",
              "      <th>Amostra_30</th>\n",
              "      <th>Amostra_31</th>\n",
              "      <th>Amostra_32</th>\n",
              "      <th>Amostra_33</th>\n",
              "      <th>Amostra_34</th>\n",
              "      <th>Amostra_35</th>\n",
              "      <th>Amostra_36</th>\n",
              "      <th>Amostra_37</th>\n",
              "      <th>Amostra_38</th>\n",
              "      <th>Amostra_39</th>\n",
              "      <th>...</th>\n",
              "      <th>Amostra_1460</th>\n",
              "      <th>Amostra_1461</th>\n",
              "      <th>Amostra_1462</th>\n",
              "      <th>Amostra_1463</th>\n",
              "      <th>Amostra_1464</th>\n",
              "      <th>Amostra_1465</th>\n",
              "      <th>Amostra_1466</th>\n",
              "      <th>Amostra_1467</th>\n",
              "      <th>Amostra_1468</th>\n",
              "      <th>Amostra_1469</th>\n",
              "      <th>Amostra_1470</th>\n",
              "      <th>Amostra_1471</th>\n",
              "      <th>Amostra_1472</th>\n",
              "      <th>Amostra_1473</th>\n",
              "      <th>Amostra_1474</th>\n",
              "      <th>Amostra_1475</th>\n",
              "      <th>Amostra_1476</th>\n",
              "      <th>Amostra_1477</th>\n",
              "      <th>Amostra_1478</th>\n",
              "      <th>Amostra_1479</th>\n",
              "      <th>Amostra_1480</th>\n",
              "      <th>Amostra_1481</th>\n",
              "      <th>Amostra_1482</th>\n",
              "      <th>Amostra_1483</th>\n",
              "      <th>Amostra_1484</th>\n",
              "      <th>Amostra_1485</th>\n",
              "      <th>Amostra_1486</th>\n",
              "      <th>Amostra_1487</th>\n",
              "      <th>Amostra_1488</th>\n",
              "      <th>Amostra_1489</th>\n",
              "      <th>Amostra_1490</th>\n",
              "      <th>Amostra_1491</th>\n",
              "      <th>Amostra_1492</th>\n",
              "      <th>Amostra_1493</th>\n",
              "      <th>Amostra_1494</th>\n",
              "      <th>Amostra_1495</th>\n",
              "      <th>Amostra_1496</th>\n",
              "      <th>Amostra_1497</th>\n",
              "      <th>Amostra_1498</th>\n",
              "      <th>Amostra_1499</th>\n",
              "    </tr>\n",
              "  </thead>\n",
              "  <tbody>\n",
              "    <tr>\n",
              "      <th>0</th>\n",
              "      <td>53</td>\n",
              "      <td>57</td>\n",
              "      <td>43</td>\n",
              "      <td>44</td>\n",
              "      <td>25</td>\n",
              "      <td>57</td>\n",
              "      <td>40</td>\n",
              "      <td>21</td>\n",
              "      <td>54</td>\n",
              "      <td>46</td>\n",
              "      <td>32</td>\n",
              "      <td>33</td>\n",
              "      <td>48</td>\n",
              "      <td>44</td>\n",
              "      <td>39</td>\n",
              "      <td>59</td>\n",
              "      <td>59</td>\n",
              "      <td>32</td>\n",
              "      <td>34</td>\n",
              "      <td>50</td>\n",
              "      <td>46</td>\n",
              "      <td>42</td>\n",
              "      <td>35</td>\n",
              "      <td>35</td>\n",
              "      <td>40</td>\n",
              "      <td>42</td>\n",
              "      <td>53</td>\n",
              "      <td>63</td>\n",
              "      <td>26</td>\n",
              "      <td>29</td>\n",
              "      <td>29</td>\n",
              "      <td>40</td>\n",
              "      <td>54</td>\n",
              "      <td>49</td>\n",
              "      <td>43</td>\n",
              "      <td>49</td>\n",
              "      <td>22</td>\n",
              "      <td>43</td>\n",
              "      <td>20</td>\n",
              "      <td>76</td>\n",
              "      <td>...</td>\n",
              "      <td>41</td>\n",
              "      <td>44</td>\n",
              "      <td>54</td>\n",
              "      <td>43</td>\n",
              "      <td>30</td>\n",
              "      <td>52</td>\n",
              "      <td>25</td>\n",
              "      <td>70</td>\n",
              "      <td>25</td>\n",
              "      <td>52</td>\n",
              "      <td>37</td>\n",
              "      <td>40</td>\n",
              "      <td>40</td>\n",
              "      <td>19</td>\n",
              "      <td>74</td>\n",
              "      <td>55</td>\n",
              "      <td>46</td>\n",
              "      <td>26</td>\n",
              "      <td>45</td>\n",
              "      <td>35</td>\n",
              "      <td>49</td>\n",
              "      <td>34</td>\n",
              "      <td>66</td>\n",
              "      <td>53</td>\n",
              "      <td>51</td>\n",
              "      <td>23</td>\n",
              "      <td>41</td>\n",
              "      <td>59</td>\n",
              "      <td>56</td>\n",
              "      <td>59</td>\n",
              "      <td>47</td>\n",
              "      <td>27</td>\n",
              "      <td>36</td>\n",
              "      <td>42</td>\n",
              "      <td>40</td>\n",
              "      <td>43</td>\n",
              "      <td>52</td>\n",
              "      <td>40</td>\n",
              "      <td>29</td>\n",
              "      <td>58</td>\n",
              "    </tr>\n",
              "    <tr>\n",
              "      <th>1</th>\n",
              "      <td>52</td>\n",
              "      <td>33</td>\n",
              "      <td>55</td>\n",
              "      <td>69</td>\n",
              "      <td>48</td>\n",
              "      <td>38</td>\n",
              "      <td>34</td>\n",
              "      <td>45</td>\n",
              "      <td>54</td>\n",
              "      <td>37</td>\n",
              "      <td>52</td>\n",
              "      <td>42</td>\n",
              "      <td>49</td>\n",
              "      <td>68</td>\n",
              "      <td>43</td>\n",
              "      <td>42</td>\n",
              "      <td>54</td>\n",
              "      <td>35</td>\n",
              "      <td>42</td>\n",
              "      <td>34</td>\n",
              "      <td>31</td>\n",
              "      <td>50</td>\n",
              "      <td>26</td>\n",
              "      <td>66</td>\n",
              "      <td>40</td>\n",
              "      <td>51</td>\n",
              "      <td>39</td>\n",
              "      <td>31</td>\n",
              "      <td>40</td>\n",
              "      <td>58</td>\n",
              "      <td>54</td>\n",
              "      <td>51</td>\n",
              "      <td>45</td>\n",
              "      <td>31</td>\n",
              "      <td>26</td>\n",
              "      <td>50</td>\n",
              "      <td>49</td>\n",
              "      <td>44</td>\n",
              "      <td>54</td>\n",
              "      <td>27</td>\n",
              "      <td>...</td>\n",
              "      <td>37</td>\n",
              "      <td>33</td>\n",
              "      <td>65</td>\n",
              "      <td>30</td>\n",
              "      <td>50</td>\n",
              "      <td>33</td>\n",
              "      <td>44</td>\n",
              "      <td>51</td>\n",
              "      <td>34</td>\n",
              "      <td>37</td>\n",
              "      <td>36</td>\n",
              "      <td>48</td>\n",
              "      <td>34</td>\n",
              "      <td>27</td>\n",
              "      <td>30</td>\n",
              "      <td>29</td>\n",
              "      <td>27</td>\n",
              "      <td>58</td>\n",
              "      <td>32</td>\n",
              "      <td>47</td>\n",
              "      <td>37</td>\n",
              "      <td>51</td>\n",
              "      <td>42</td>\n",
              "      <td>45</td>\n",
              "      <td>60</td>\n",
              "      <td>29</td>\n",
              "      <td>40</td>\n",
              "      <td>48</td>\n",
              "      <td>56</td>\n",
              "      <td>57</td>\n",
              "      <td>35</td>\n",
              "      <td>46</td>\n",
              "      <td>32</td>\n",
              "      <td>43</td>\n",
              "      <td>37</td>\n",
              "      <td>46</td>\n",
              "      <td>35</td>\n",
              "      <td>61</td>\n",
              "      <td>53</td>\n",
              "      <td>47</td>\n",
              "    </tr>\n",
              "    <tr>\n",
              "      <th>2</th>\n",
              "      <td>30</td>\n",
              "      <td>33</td>\n",
              "      <td>60</td>\n",
              "      <td>40</td>\n",
              "      <td>33</td>\n",
              "      <td>64</td>\n",
              "      <td>29</td>\n",
              "      <td>40</td>\n",
              "      <td>38</td>\n",
              "      <td>37</td>\n",
              "      <td>68</td>\n",
              "      <td>36</td>\n",
              "      <td>31</td>\n",
              "      <td>40</td>\n",
              "      <td>56</td>\n",
              "      <td>30</td>\n",
              "      <td>48</td>\n",
              "      <td>50</td>\n",
              "      <td>26</td>\n",
              "      <td>31</td>\n",
              "      <td>29</td>\n",
              "      <td>19</td>\n",
              "      <td>29</td>\n",
              "      <td>38</td>\n",
              "      <td>56</td>\n",
              "      <td>49</td>\n",
              "      <td>50</td>\n",
              "      <td>43</td>\n",
              "      <td>61</td>\n",
              "      <td>66</td>\n",
              "      <td>58</td>\n",
              "      <td>30</td>\n",
              "      <td>43</td>\n",
              "      <td>34</td>\n",
              "      <td>39</td>\n",
              "      <td>72</td>\n",
              "      <td>38</td>\n",
              "      <td>48</td>\n",
              "      <td>24</td>\n",
              "      <td>27</td>\n",
              "      <td>...</td>\n",
              "      <td>48</td>\n",
              "      <td>42</td>\n",
              "      <td>30</td>\n",
              "      <td>24</td>\n",
              "      <td>30</td>\n",
              "      <td>63</td>\n",
              "      <td>64</td>\n",
              "      <td>33</td>\n",
              "      <td>37</td>\n",
              "      <td>73</td>\n",
              "      <td>43</td>\n",
              "      <td>42</td>\n",
              "      <td>44</td>\n",
              "      <td>43</td>\n",
              "      <td>61</td>\n",
              "      <td>56</td>\n",
              "      <td>61</td>\n",
              "      <td>37</td>\n",
              "      <td>45</td>\n",
              "      <td>28</td>\n",
              "      <td>64</td>\n",
              "      <td>63</td>\n",
              "      <td>40</td>\n",
              "      <td>49</td>\n",
              "      <td>46</td>\n",
              "      <td>39</td>\n",
              "      <td>21</td>\n",
              "      <td>49</td>\n",
              "      <td>68</td>\n",
              "      <td>81</td>\n",
              "      <td>47</td>\n",
              "      <td>53</td>\n",
              "      <td>34</td>\n",
              "      <td>45</td>\n",
              "      <td>55</td>\n",
              "      <td>39</td>\n",
              "      <td>50</td>\n",
              "      <td>31</td>\n",
              "      <td>42</td>\n",
              "      <td>54</td>\n",
              "    </tr>\n",
              "    <tr>\n",
              "      <th>3</th>\n",
              "      <td>58</td>\n",
              "      <td>59</td>\n",
              "      <td>45</td>\n",
              "      <td>28</td>\n",
              "      <td>52</td>\n",
              "      <td>44</td>\n",
              "      <td>61</td>\n",
              "      <td>39</td>\n",
              "      <td>52</td>\n",
              "      <td>36</td>\n",
              "      <td>44</td>\n",
              "      <td>34</td>\n",
              "      <td>39</td>\n",
              "      <td>49</td>\n",
              "      <td>44</td>\n",
              "      <td>45</td>\n",
              "      <td>45</td>\n",
              "      <td>31</td>\n",
              "      <td>52</td>\n",
              "      <td>57</td>\n",
              "      <td>40</td>\n",
              "      <td>55</td>\n",
              "      <td>53</td>\n",
              "      <td>20</td>\n",
              "      <td>38</td>\n",
              "      <td>62</td>\n",
              "      <td>56</td>\n",
              "      <td>64</td>\n",
              "      <td>61</td>\n",
              "      <td>65</td>\n",
              "      <td>64</td>\n",
              "      <td>34</td>\n",
              "      <td>31</td>\n",
              "      <td>53</td>\n",
              "      <td>27</td>\n",
              "      <td>51</td>\n",
              "      <td>29</td>\n",
              "      <td>47</td>\n",
              "      <td>48</td>\n",
              "      <td>35</td>\n",
              "      <td>...</td>\n",
              "      <td>34</td>\n",
              "      <td>49</td>\n",
              "      <td>40</td>\n",
              "      <td>55</td>\n",
              "      <td>70</td>\n",
              "      <td>42</td>\n",
              "      <td>27</td>\n",
              "      <td>55</td>\n",
              "      <td>41</td>\n",
              "      <td>44</td>\n",
              "      <td>55</td>\n",
              "      <td>42</td>\n",
              "      <td>36</td>\n",
              "      <td>36</td>\n",
              "      <td>43</td>\n",
              "      <td>44</td>\n",
              "      <td>32</td>\n",
              "      <td>27</td>\n",
              "      <td>45</td>\n",
              "      <td>35</td>\n",
              "      <td>50</td>\n",
              "      <td>50</td>\n",
              "      <td>26</td>\n",
              "      <td>42</td>\n",
              "      <td>57</td>\n",
              "      <td>39</td>\n",
              "      <td>43</td>\n",
              "      <td>36</td>\n",
              "      <td>42</td>\n",
              "      <td>43</td>\n",
              "      <td>51</td>\n",
              "      <td>44</td>\n",
              "      <td>45</td>\n",
              "      <td>32</td>\n",
              "      <td>44</td>\n",
              "      <td>34</td>\n",
              "      <td>39</td>\n",
              "      <td>41</td>\n",
              "      <td>31</td>\n",
              "      <td>66</td>\n",
              "    </tr>\n",
              "    <tr>\n",
              "      <th>4</th>\n",
              "      <td>46</td>\n",
              "      <td>59</td>\n",
              "      <td>54</td>\n",
              "      <td>69</td>\n",
              "      <td>26</td>\n",
              "      <td>52</td>\n",
              "      <td>35</td>\n",
              "      <td>43</td>\n",
              "      <td>26</td>\n",
              "      <td>61</td>\n",
              "      <td>40</td>\n",
              "      <td>29</td>\n",
              "      <td>60</td>\n",
              "      <td>28</td>\n",
              "      <td>51</td>\n",
              "      <td>52</td>\n",
              "      <td>35</td>\n",
              "      <td>43</td>\n",
              "      <td>46</td>\n",
              "      <td>21</td>\n",
              "      <td>35</td>\n",
              "      <td>44</td>\n",
              "      <td>34</td>\n",
              "      <td>55</td>\n",
              "      <td>55</td>\n",
              "      <td>37</td>\n",
              "      <td>28</td>\n",
              "      <td>40</td>\n",
              "      <td>45</td>\n",
              "      <td>34</td>\n",
              "      <td>36</td>\n",
              "      <td>57</td>\n",
              "      <td>26</td>\n",
              "      <td>38</td>\n",
              "      <td>59</td>\n",
              "      <td>48</td>\n",
              "      <td>31</td>\n",
              "      <td>35</td>\n",
              "      <td>55</td>\n",
              "      <td>19</td>\n",
              "      <td>...</td>\n",
              "      <td>50</td>\n",
              "      <td>64</td>\n",
              "      <td>59</td>\n",
              "      <td>32</td>\n",
              "      <td>27</td>\n",
              "      <td>33</td>\n",
              "      <td>46</td>\n",
              "      <td>41</td>\n",
              "      <td>46</td>\n",
              "      <td>51</td>\n",
              "      <td>55</td>\n",
              "      <td>48</td>\n",
              "      <td>33</td>\n",
              "      <td>54</td>\n",
              "      <td>39</td>\n",
              "      <td>37</td>\n",
              "      <td>52</td>\n",
              "      <td>48</td>\n",
              "      <td>47</td>\n",
              "      <td>32</td>\n",
              "      <td>38</td>\n",
              "      <td>40</td>\n",
              "      <td>59</td>\n",
              "      <td>36</td>\n",
              "      <td>41</td>\n",
              "      <td>30</td>\n",
              "      <td>42</td>\n",
              "      <td>34</td>\n",
              "      <td>44</td>\n",
              "      <td>58</td>\n",
              "      <td>18</td>\n",
              "      <td>33</td>\n",
              "      <td>57</td>\n",
              "      <td>35</td>\n",
              "      <td>29</td>\n",
              "      <td>49</td>\n",
              "      <td>33</td>\n",
              "      <td>58</td>\n",
              "      <td>66</td>\n",
              "      <td>30</td>\n",
              "    </tr>\n",
              "    <tr>\n",
              "      <th>...</th>\n",
              "      <td>...</td>\n",
              "      <td>...</td>\n",
              "      <td>...</td>\n",
              "      <td>...</td>\n",
              "      <td>...</td>\n",
              "      <td>...</td>\n",
              "      <td>...</td>\n",
              "      <td>...</td>\n",
              "      <td>...</td>\n",
              "      <td>...</td>\n",
              "      <td>...</td>\n",
              "      <td>...</td>\n",
              "      <td>...</td>\n",
              "      <td>...</td>\n",
              "      <td>...</td>\n",
              "      <td>...</td>\n",
              "      <td>...</td>\n",
              "      <td>...</td>\n",
              "      <td>...</td>\n",
              "      <td>...</td>\n",
              "      <td>...</td>\n",
              "      <td>...</td>\n",
              "      <td>...</td>\n",
              "      <td>...</td>\n",
              "      <td>...</td>\n",
              "      <td>...</td>\n",
              "      <td>...</td>\n",
              "      <td>...</td>\n",
              "      <td>...</td>\n",
              "      <td>...</td>\n",
              "      <td>...</td>\n",
              "      <td>...</td>\n",
              "      <td>...</td>\n",
              "      <td>...</td>\n",
              "      <td>...</td>\n",
              "      <td>...</td>\n",
              "      <td>...</td>\n",
              "      <td>...</td>\n",
              "      <td>...</td>\n",
              "      <td>...</td>\n",
              "      <td>...</td>\n",
              "      <td>...</td>\n",
              "      <td>...</td>\n",
              "      <td>...</td>\n",
              "      <td>...</td>\n",
              "      <td>...</td>\n",
              "      <td>...</td>\n",
              "      <td>...</td>\n",
              "      <td>...</td>\n",
              "      <td>...</td>\n",
              "      <td>...</td>\n",
              "      <td>...</td>\n",
              "      <td>...</td>\n",
              "      <td>...</td>\n",
              "      <td>...</td>\n",
              "      <td>...</td>\n",
              "      <td>...</td>\n",
              "      <td>...</td>\n",
              "      <td>...</td>\n",
              "      <td>...</td>\n",
              "      <td>...</td>\n",
              "      <td>...</td>\n",
              "      <td>...</td>\n",
              "      <td>...</td>\n",
              "      <td>...</td>\n",
              "      <td>...</td>\n",
              "      <td>...</td>\n",
              "      <td>...</td>\n",
              "      <td>...</td>\n",
              "      <td>...</td>\n",
              "      <td>...</td>\n",
              "      <td>...</td>\n",
              "      <td>...</td>\n",
              "      <td>...</td>\n",
              "      <td>...</td>\n",
              "      <td>...</td>\n",
              "      <td>...</td>\n",
              "      <td>...</td>\n",
              "      <td>...</td>\n",
              "      <td>...</td>\n",
              "      <td>...</td>\n",
              "    </tr>\n",
              "    <tr>\n",
              "      <th>1995</th>\n",
              "      <td>50</td>\n",
              "      <td>42</td>\n",
              "      <td>37</td>\n",
              "      <td>53</td>\n",
              "      <td>47</td>\n",
              "      <td>32</td>\n",
              "      <td>51</td>\n",
              "      <td>48</td>\n",
              "      <td>39</td>\n",
              "      <td>64</td>\n",
              "      <td>45</td>\n",
              "      <td>40</td>\n",
              "      <td>24</td>\n",
              "      <td>45</td>\n",
              "      <td>48</td>\n",
              "      <td>66</td>\n",
              "      <td>43</td>\n",
              "      <td>74</td>\n",
              "      <td>45</td>\n",
              "      <td>23</td>\n",
              "      <td>56</td>\n",
              "      <td>37</td>\n",
              "      <td>33</td>\n",
              "      <td>51</td>\n",
              "      <td>30</td>\n",
              "      <td>36</td>\n",
              "      <td>31</td>\n",
              "      <td>34</td>\n",
              "      <td>25</td>\n",
              "      <td>50</td>\n",
              "      <td>53</td>\n",
              "      <td>28</td>\n",
              "      <td>32</td>\n",
              "      <td>40</td>\n",
              "      <td>62</td>\n",
              "      <td>61</td>\n",
              "      <td>47</td>\n",
              "      <td>56</td>\n",
              "      <td>44</td>\n",
              "      <td>35</td>\n",
              "      <td>...</td>\n",
              "      <td>52</td>\n",
              "      <td>50</td>\n",
              "      <td>44</td>\n",
              "      <td>27</td>\n",
              "      <td>39</td>\n",
              "      <td>45</td>\n",
              "      <td>31</td>\n",
              "      <td>27</td>\n",
              "      <td>31</td>\n",
              "      <td>42</td>\n",
              "      <td>37</td>\n",
              "      <td>37</td>\n",
              "      <td>53</td>\n",
              "      <td>50</td>\n",
              "      <td>35</td>\n",
              "      <td>50</td>\n",
              "      <td>45</td>\n",
              "      <td>24</td>\n",
              "      <td>61</td>\n",
              "      <td>32</td>\n",
              "      <td>24</td>\n",
              "      <td>58</td>\n",
              "      <td>56</td>\n",
              "      <td>50</td>\n",
              "      <td>58</td>\n",
              "      <td>47</td>\n",
              "      <td>25</td>\n",
              "      <td>29</td>\n",
              "      <td>36</td>\n",
              "      <td>41</td>\n",
              "      <td>34</td>\n",
              "      <td>60</td>\n",
              "      <td>42</td>\n",
              "      <td>59</td>\n",
              "      <td>62</td>\n",
              "      <td>43</td>\n",
              "      <td>28</td>\n",
              "      <td>50</td>\n",
              "      <td>35</td>\n",
              "      <td>33</td>\n",
              "    </tr>\n",
              "    <tr>\n",
              "      <th>1996</th>\n",
              "      <td>49</td>\n",
              "      <td>41</td>\n",
              "      <td>42</td>\n",
              "      <td>41</td>\n",
              "      <td>35</td>\n",
              "      <td>33</td>\n",
              "      <td>30</td>\n",
              "      <td>49</td>\n",
              "      <td>44</td>\n",
              "      <td>35</td>\n",
              "      <td>47</td>\n",
              "      <td>75</td>\n",
              "      <td>34</td>\n",
              "      <td>26</td>\n",
              "      <td>69</td>\n",
              "      <td>34</td>\n",
              "      <td>32</td>\n",
              "      <td>30</td>\n",
              "      <td>47</td>\n",
              "      <td>38</td>\n",
              "      <td>48</td>\n",
              "      <td>37</td>\n",
              "      <td>49</td>\n",
              "      <td>59</td>\n",
              "      <td>21</td>\n",
              "      <td>46</td>\n",
              "      <td>45</td>\n",
              "      <td>49</td>\n",
              "      <td>44</td>\n",
              "      <td>34</td>\n",
              "      <td>32</td>\n",
              "      <td>43</td>\n",
              "      <td>33</td>\n",
              "      <td>31</td>\n",
              "      <td>35</td>\n",
              "      <td>43</td>\n",
              "      <td>58</td>\n",
              "      <td>50</td>\n",
              "      <td>43</td>\n",
              "      <td>53</td>\n",
              "      <td>...</td>\n",
              "      <td>47</td>\n",
              "      <td>37</td>\n",
              "      <td>64</td>\n",
              "      <td>44</td>\n",
              "      <td>27</td>\n",
              "      <td>45</td>\n",
              "      <td>68</td>\n",
              "      <td>53</td>\n",
              "      <td>32</td>\n",
              "      <td>53</td>\n",
              "      <td>43</td>\n",
              "      <td>39</td>\n",
              "      <td>87</td>\n",
              "      <td>25</td>\n",
              "      <td>49</td>\n",
              "      <td>30</td>\n",
              "      <td>24</td>\n",
              "      <td>37</td>\n",
              "      <td>53</td>\n",
              "      <td>55</td>\n",
              "      <td>53</td>\n",
              "      <td>36</td>\n",
              "      <td>25</td>\n",
              "      <td>31</td>\n",
              "      <td>26</td>\n",
              "      <td>32</td>\n",
              "      <td>35</td>\n",
              "      <td>34</td>\n",
              "      <td>38</td>\n",
              "      <td>52</td>\n",
              "      <td>40</td>\n",
              "      <td>52</td>\n",
              "      <td>33</td>\n",
              "      <td>32</td>\n",
              "      <td>28</td>\n",
              "      <td>43</td>\n",
              "      <td>68</td>\n",
              "      <td>43</td>\n",
              "      <td>35</td>\n",
              "      <td>42</td>\n",
              "    </tr>\n",
              "    <tr>\n",
              "      <th>1997</th>\n",
              "      <td>54</td>\n",
              "      <td>37</td>\n",
              "      <td>40</td>\n",
              "      <td>36</td>\n",
              "      <td>23</td>\n",
              "      <td>82</td>\n",
              "      <td>19</td>\n",
              "      <td>48</td>\n",
              "      <td>34</td>\n",
              "      <td>42</td>\n",
              "      <td>33</td>\n",
              "      <td>26</td>\n",
              "      <td>35</td>\n",
              "      <td>41</td>\n",
              "      <td>56</td>\n",
              "      <td>23</td>\n",
              "      <td>66</td>\n",
              "      <td>47</td>\n",
              "      <td>33</td>\n",
              "      <td>36</td>\n",
              "      <td>66</td>\n",
              "      <td>61</td>\n",
              "      <td>27</td>\n",
              "      <td>37</td>\n",
              "      <td>42</td>\n",
              "      <td>41</td>\n",
              "      <td>35</td>\n",
              "      <td>49</td>\n",
              "      <td>60</td>\n",
              "      <td>48</td>\n",
              "      <td>43</td>\n",
              "      <td>57</td>\n",
              "      <td>63</td>\n",
              "      <td>38</td>\n",
              "      <td>40</td>\n",
              "      <td>35</td>\n",
              "      <td>33</td>\n",
              "      <td>33</td>\n",
              "      <td>29</td>\n",
              "      <td>47</td>\n",
              "      <td>...</td>\n",
              "      <td>50</td>\n",
              "      <td>57</td>\n",
              "      <td>56</td>\n",
              "      <td>64</td>\n",
              "      <td>37</td>\n",
              "      <td>65</td>\n",
              "      <td>18</td>\n",
              "      <td>58</td>\n",
              "      <td>62</td>\n",
              "      <td>21</td>\n",
              "      <td>24</td>\n",
              "      <td>46</td>\n",
              "      <td>43</td>\n",
              "      <td>28</td>\n",
              "      <td>50</td>\n",
              "      <td>32</td>\n",
              "      <td>37</td>\n",
              "      <td>43</td>\n",
              "      <td>29</td>\n",
              "      <td>57</td>\n",
              "      <td>41</td>\n",
              "      <td>34</td>\n",
              "      <td>50</td>\n",
              "      <td>50</td>\n",
              "      <td>55</td>\n",
              "      <td>31</td>\n",
              "      <td>62</td>\n",
              "      <td>51</td>\n",
              "      <td>63</td>\n",
              "      <td>65</td>\n",
              "      <td>18</td>\n",
              "      <td>54</td>\n",
              "      <td>35</td>\n",
              "      <td>60</td>\n",
              "      <td>39</td>\n",
              "      <td>40</td>\n",
              "      <td>33</td>\n",
              "      <td>21</td>\n",
              "      <td>36</td>\n",
              "      <td>29</td>\n",
              "    </tr>\n",
              "    <tr>\n",
              "      <th>1998</th>\n",
              "      <td>27</td>\n",
              "      <td>52</td>\n",
              "      <td>43</td>\n",
              "      <td>37</td>\n",
              "      <td>51</td>\n",
              "      <td>35</td>\n",
              "      <td>47</td>\n",
              "      <td>51</td>\n",
              "      <td>34</td>\n",
              "      <td>34</td>\n",
              "      <td>26</td>\n",
              "      <td>63</td>\n",
              "      <td>52</td>\n",
              "      <td>56</td>\n",
              "      <td>53</td>\n",
              "      <td>63</td>\n",
              "      <td>67</td>\n",
              "      <td>35</td>\n",
              "      <td>41</td>\n",
              "      <td>34</td>\n",
              "      <td>70</td>\n",
              "      <td>62</td>\n",
              "      <td>52</td>\n",
              "      <td>37</td>\n",
              "      <td>28</td>\n",
              "      <td>57</td>\n",
              "      <td>65</td>\n",
              "      <td>42</td>\n",
              "      <td>31</td>\n",
              "      <td>61</td>\n",
              "      <td>49</td>\n",
              "      <td>39</td>\n",
              "      <td>32</td>\n",
              "      <td>37</td>\n",
              "      <td>58</td>\n",
              "      <td>34</td>\n",
              "      <td>61</td>\n",
              "      <td>56</td>\n",
              "      <td>28</td>\n",
              "      <td>52</td>\n",
              "      <td>...</td>\n",
              "      <td>32</td>\n",
              "      <td>43</td>\n",
              "      <td>26</td>\n",
              "      <td>55</td>\n",
              "      <td>51</td>\n",
              "      <td>23</td>\n",
              "      <td>40</td>\n",
              "      <td>42</td>\n",
              "      <td>47</td>\n",
              "      <td>54</td>\n",
              "      <td>35</td>\n",
              "      <td>36</td>\n",
              "      <td>53</td>\n",
              "      <td>68</td>\n",
              "      <td>33</td>\n",
              "      <td>20</td>\n",
              "      <td>70</td>\n",
              "      <td>33</td>\n",
              "      <td>31</td>\n",
              "      <td>33</td>\n",
              "      <td>57</td>\n",
              "      <td>54</td>\n",
              "      <td>29</td>\n",
              "      <td>47</td>\n",
              "      <td>32</td>\n",
              "      <td>45</td>\n",
              "      <td>27</td>\n",
              "      <td>63</td>\n",
              "      <td>40</td>\n",
              "      <td>18</td>\n",
              "      <td>62</td>\n",
              "      <td>44</td>\n",
              "      <td>29</td>\n",
              "      <td>40</td>\n",
              "      <td>46</td>\n",
              "      <td>31</td>\n",
              "      <td>55</td>\n",
              "      <td>42</td>\n",
              "      <td>47</td>\n",
              "      <td>28</td>\n",
              "    </tr>\n",
              "    <tr>\n",
              "      <th>1999</th>\n",
              "      <td>47</td>\n",
              "      <td>39</td>\n",
              "      <td>51</td>\n",
              "      <td>20</td>\n",
              "      <td>56</td>\n",
              "      <td>53</td>\n",
              "      <td>61</td>\n",
              "      <td>36</td>\n",
              "      <td>57</td>\n",
              "      <td>44</td>\n",
              "      <td>43</td>\n",
              "      <td>40</td>\n",
              "      <td>37</td>\n",
              "      <td>38</td>\n",
              "      <td>30</td>\n",
              "      <td>29</td>\n",
              "      <td>25</td>\n",
              "      <td>77</td>\n",
              "      <td>61</td>\n",
              "      <td>54</td>\n",
              "      <td>46</td>\n",
              "      <td>42</td>\n",
              "      <td>51</td>\n",
              "      <td>46</td>\n",
              "      <td>40</td>\n",
              "      <td>39</td>\n",
              "      <td>43</td>\n",
              "      <td>29</td>\n",
              "      <td>55</td>\n",
              "      <td>42</td>\n",
              "      <td>37</td>\n",
              "      <td>56</td>\n",
              "      <td>74</td>\n",
              "      <td>32</td>\n",
              "      <td>24</td>\n",
              "      <td>37</td>\n",
              "      <td>75</td>\n",
              "      <td>40</td>\n",
              "      <td>61</td>\n",
              "      <td>45</td>\n",
              "      <td>...</td>\n",
              "      <td>58</td>\n",
              "      <td>42</td>\n",
              "      <td>26</td>\n",
              "      <td>48</td>\n",
              "      <td>58</td>\n",
              "      <td>30</td>\n",
              "      <td>46</td>\n",
              "      <td>56</td>\n",
              "      <td>43</td>\n",
              "      <td>43</td>\n",
              "      <td>58</td>\n",
              "      <td>35</td>\n",
              "      <td>35</td>\n",
              "      <td>65</td>\n",
              "      <td>35</td>\n",
              "      <td>60</td>\n",
              "      <td>46</td>\n",
              "      <td>49</td>\n",
              "      <td>43</td>\n",
              "      <td>22</td>\n",
              "      <td>49</td>\n",
              "      <td>56</td>\n",
              "      <td>51</td>\n",
              "      <td>51</td>\n",
              "      <td>46</td>\n",
              "      <td>43</td>\n",
              "      <td>50</td>\n",
              "      <td>41</td>\n",
              "      <td>24</td>\n",
              "      <td>39</td>\n",
              "      <td>44</td>\n",
              "      <td>33</td>\n",
              "      <td>47</td>\n",
              "      <td>52</td>\n",
              "      <td>45</td>\n",
              "      <td>64</td>\n",
              "      <td>35</td>\n",
              "      <td>61</td>\n",
              "      <td>61</td>\n",
              "      <td>29</td>\n",
              "    </tr>\n",
              "  </tbody>\n",
              "</table>\n",
              "<p>2000 rows × 1500 columns</p>\n",
              "</div>"
            ],
            "text/plain": [
              "      Amostra_0  Amostra_1  Amostra_2  ...  Amostra_1497  Amostra_1498  Amostra_1499\n",
              "0            53         57         43  ...            40            29            58\n",
              "1            52         33         55  ...            61            53            47\n",
              "2            30         33         60  ...            31            42            54\n",
              "3            58         59         45  ...            41            31            66\n",
              "4            46         59         54  ...            58            66            30\n",
              "...         ...        ...        ...  ...           ...           ...           ...\n",
              "1995         50         42         37  ...            50            35            33\n",
              "1996         49         41         42  ...            43            35            42\n",
              "1997         54         37         40  ...            21            36            29\n",
              "1998         27         52         43  ...            42            47            28\n",
              "1999         47         39         51  ...            61            61            29\n",
              "\n",
              "[2000 rows x 1500 columns]"
            ]
          },
          "metadata": {
            "tags": []
          },
          "execution_count": 80
        }
      ]
    },
    {
      "cell_type": "code",
      "metadata": {
        "id": "v5Q-rnS_izNd",
        "scrolled": true,
        "colab": {
          "base_uri": "https://localhost:8080/"
        },
        "outputId": "6721cbab-6b2c-41f2-c651-c6de6c2a33d8"
      },
      "source": [
        "# distribuicao das medias amostrais\n",
        "amostras.mean()\n",
        "# media de cada amostra"
      ],
      "execution_count": null,
      "outputs": [
        {
          "output_type": "execute_result",
          "data": {
            "text/plain": [
              "Amostra_0       43.9930\n",
              "Amostra_1       44.1020\n",
              "Amostra_2       44.0260\n",
              "Amostra_3       43.8025\n",
              "Amostra_4       43.8890\n",
              "                 ...   \n",
              "Amostra_1495    44.3185\n",
              "Amostra_1496    44.0165\n",
              "Amostra_1497    43.5845\n",
              "Amostra_1498    43.8260\n",
              "Amostra_1499    44.1545\n",
              "Length: 1500, dtype: float64"
            ]
          },
          "metadata": {
            "tags": []
          },
          "execution_count": 81
        }
      ]
    },
    {
      "cell_type": "markdown",
      "metadata": {
        "id": "JfgEBDx0jDzf"
      },
      "source": [
        "> O Teorema do Limite Central afirma que, **com o aumento do tamanho da amostra, a distribuição das médias amostrais se aproxima de uma distribuição normal** com média igual à média da população e desvio padrão igual ao desvio padrão da variável original dividido pela raiz quadrada do tamanho da amostra. Este fato é assegurado para n maior ou igual a 30."
      ]
    },
    {
      "cell_type": "code",
      "metadata": {
        "id": "giJKqa_9izKF",
        "colab": {
          "base_uri": "https://localhost:8080/",
          "height": 283
        },
        "outputId": "27380301-5ce1-4843-ce62-722ec9c27952"
      },
      "source": [
        "# a distribuicao das medias amostrais se aproxima de uma dist normal\n",
        "amostras.mean().hist()"
      ],
      "execution_count": null,
      "outputs": [
        {
          "output_type": "execute_result",
          "data": {
            "text/plain": [
              "<matplotlib.axes._subplots.AxesSubplot at 0x7ff6e2fdde10>"
            ]
          },
          "metadata": {
            "tags": []
          },
          "execution_count": 82
        },
        {
          "output_type": "display_data",
          "data": {
            "image/png": "[encoded data removed]",
            "text/plain": [
              "<Figure size 432x288 with 1 Axes>"
            ]
          },
          "metadata": {
            "tags": [],
            "needs_background": "light"
          }
        }
      ]
    },
    {
      "cell_type": "markdown",
      "metadata": {
        "id": "_A4RKStwjkLI"
      },
      "source": [
        "> O Teorema do Limite Central afirma que, com o aumento do tamanho da amostra, a distribuição das médias amostrais se aproxima de uma distribuição normal **com média igual à média da população** e desvio padrão igual ao desvio padrão da variável original dividido pela raiz quadrada do tamanho da amostra. Este fato é assegurado para n maior ou igual a 30."
      ]
    },
    {
      "cell_type": "code",
      "metadata": {
        "id": "vXE-UOj_izGZ",
        "colab": {
          "base_uri": "https://localhost:8080/"
        },
        "outputId": "e2b725a3-fa20-4d00-b63b-c5662be4f502"
      },
      "source": [
        "# media da populacao\n",
        "dados.Idade.mean()\n",
        "# 44"
      ],
      "execution_count": null,
      "outputs": [
        {
          "output_type": "execute_result",
          "data": {
            "text/plain": [
              "44.07142113482561"
            ]
          },
          "metadata": {
            "tags": []
          },
          "execution_count": 83
        }
      ]
    },
    {
      "cell_type": "code",
      "metadata": {
        "id": "bahA7_WYizC6",
        "colab": {
          "base_uri": "https://localhost:8080/"
        },
        "outputId": "87c3bcbb-cd0b-4626-e691-7c920a9ce7a7"
      },
      "source": [
        "# media das medias amostrais\n",
        "amostras.mean().mean()"
      ],
      "execution_count": null,
      "outputs": [
        {
          "output_type": "execute_result",
          "data": {
            "text/plain": [
              "44.06000833333339"
            ]
          },
          "metadata": {
            "tags": []
          },
          "execution_count": 84
        }
      ]
    },
    {
      "cell_type": "markdown",
      "metadata": {
        "id": "7lIWJCAKlPmA"
      },
      "source": [
        "> O Teorema do Limite Central afirma que, com o aumento do tamanho da amostra, a distribuição das médias amostrais se aproxima de uma distribuição normal com média igual à média da população e **desvio padrão igual ao desvio padrão da variável original dividido pela raiz quadrada do tamanho da amostra**. Este fato é assegurado para n maior ou igual a 30.\n",
        "\n",
        "# $$\\sigma_\\bar{x} = \\frac{\\sigma}{\\sqrt{n}}$$"
      ]
    },
    {
      "cell_type": "code",
      "metadata": {
        "id": "qKrG0zqhVNzn",
        "colab": {
          "base_uri": "https://localhost:8080/"
        },
        "outputId": "85a64efa-9661-4152-fc60-456e2beca853"
      },
      "source": [
        "# desvio padrao da amostra\n",
        "amostras.mean().std()"
      ],
      "execution_count": null,
      "outputs": [
        {
          "output_type": "execute_result",
          "data": {
            "text/plain": [
              "0.2849271920457345"
            ]
          },
          "metadata": {
            "tags": []
          },
          "execution_count": 85
        }
      ]
    },
    {
      "cell_type": "code",
      "metadata": {
        "id": "83ILp8Quiy_W",
        "colab": {
          "base_uri": "https://localhost:8080/"
        },
        "outputId": "1263c3f4-b2d2-43f7-8a42-4971bd8ad658"
      },
      "source": [
        "dados.Idade.std()/np.sqrt(n)\n",
        "# desvio padrao da variabel original / raiz de n"
      ],
      "execution_count": null,
      "outputs": [
        {
          "output_type": "execute_result",
          "data": {
            "text/plain": [
              "0.2790743302740527"
            ]
          },
          "metadata": {
            "tags": []
          },
          "execution_count": 86
        }
      ]
    },
    {
      "cell_type": "code",
      "metadata": {
        "id": "IQ7wC-Nkiy75"
      },
      "source": [
        "# a distrib das medias amostrais vai sempre se comportar como uma distrib normal"
      ],
      "execution_count": null,
      "outputs": []
    },
    {
      "cell_type": "markdown",
      "metadata": {
        "id": "ku8CE67iG3Ge"
      },
      "source": [
        "## <font color=green>4.2 Níveis de confiança e significância</font>\n",
        "***"
      ]
    },
    {
      "cell_type": "markdown",
      "metadata": {
        "id": "mk6ZsvgyG3Gf"
      },
      "source": [
        "O **nível de confiança** ($1 - \\alpha$) representa a probabilidade de acerto da estimativa. De forma complementar o **nível de significância** ($\\alpha$) expressa a probabilidade de erro da estimativa.\n",
        "\n",
        "O **nível de confiança** representa o grau de confiabilidade do resultado da estimativa estar dentro de determinado intervalo. Quando fixamos em uma pesquisa um **nível de confiança** de 95%, por exemplo, estamos assumindo que existe uma probabilidade de 95% dos resultados da pesquisa representarem bem a realidade, ou seja, estarem corretos.\n",
        "\n",
        "O **nível de confiança** de uma estimativa pode ser obtido a partir da área sob a curva normal como ilustrado na figura abaixo."
      ]
    },
    {
      "cell_type": "markdown",
      "metadata": {
        "id": "WFqMXVRP676b"
      },
      "source": [
        "95% dos meus dados representar a realidade (confianca)."
      ]
    },
    {
      "cell_type": "markdown",
      "metadata": {
        "id": "WeGyDfvaG3Gg"
      },
      "source": [
        "![alt text](https://caelum-online-public.s3.amazonaws.com/1178-estatistica-parte2/01/img007.png)"
      ]
    },
    {
      "cell_type": "markdown",
      "metadata": {
        "id": "AN8WDZ-HG3Gi"
      },
      "source": [
        "## <font color=green>4.3 Erro inferencial</font>\n",
        "***"
      ]
    },
    {
      "cell_type": "markdown",
      "metadata": {
        "id": "tk-TwhhfG3Gi"
      },
      "source": [
        "O **erro inferencial** é definido pelo **desvio padrão das médias amostrais** $\\sigma_\\bar{x}$ e pelo **nível de confiança** determinado para o processo."
      ]
    },
    {
      "cell_type": "markdown",
      "metadata": {
        "id": "kT957QwD7T1b"
      },
      "source": [
        "Erro inferencial (marge de erro), erro da minha estimativa. Ele existe pois estou trabalhando com a minha amostra e nao populacao"
      ]
    },
    {
      "cell_type": "markdown",
      "metadata": {
        "id": "FKOQUPYHG3Gk"
      },
      "source": [
        "# $$e = z \\frac{\\sigma}{\\sqrt{n}}$$"
      ]
    },
    {
      "cell_type": "markdown",
      "metadata": {
        "id": "ELbWQW4sG3HS"
      },
      "source": [
        "## <font color=green>4.4 Intervalos de confiança</font>\n",
        "***"
      ]
    },
    {
      "cell_type": "markdown",
      "metadata": {
        "id": "-r6EMnH-G3HT"
      },
      "source": [
        "### Intevalo de confiança para a média da população"
      ]
    },
    {
      "cell_type": "markdown",
      "metadata": {
        "id": "2na71Rvl9T0n"
      },
      "source": [
        "Media é uma estimativa pontual. Agora eu to vendo um intervalo"
      ]
    },
    {
      "cell_type": "markdown",
      "metadata": {
        "id": "QWgBFeRnG3HT"
      },
      "source": [
        "#### Com desvio padrão populacional conhecido\n",
        "\n",
        "## $$\\mu = \\bar{x} \\pm z\\frac{\\sigma}{\\sqrt{n}}$$\n",
        "\n",
        "#### Com desvio padrão populacional desconhecido\n",
        "\n",
        "## $$\\mu = \\bar{x} \\pm z\\frac{s}{\\sqrt{n}}$$"
      ]
    },
    {
      "cell_type": "markdown",
      "metadata": {
        "id": "bJMc3jnq9eSV"
      },
      "source": [
        "media pop = media da amostra +- erro inferencial"
      ]
    },
    {
      "cell_type": "markdown",
      "metadata": {
        "id": "R2qqLneeG3HT"
      },
      "source": [
        "## <font color='blue'>Exemplo: </font>"
      ]
    },
    {
      "cell_type": "markdown",
      "metadata": {
        "id": "AgnrFjdMG3HT"
      },
      "source": [
        "Suponha que os pesos dos sacos de arroz de uma indústria alimentícia se distribuem aproximadamente como uma normal de **desvio padrão populacional igual a 150 g**. Selecionada uma **amostra aleatório de 20 sacos** de um lote específico, obteve-se um **peso médio de 5.050 g**. Construa um intervalo de confiança para a **média populacional** assumindo um **nível de significância de 5%**."
      ]
    },
    {
      "cell_type": "markdown",
      "metadata": {
        "id": "LpGQGksTG3HU"
      },
      "source": [
        "### Média amostral"
      ]
    },
    {
      "cell_type": "code",
      "metadata": {
        "id": "aF2QQ0z3G3HU",
        "colab": {
          "base_uri": "https://localhost:8080/"
        },
        "outputId": "971518ee-0f3f-4e95-8051-a7e4661ed109"
      },
      "source": [
        "media_amostra = 5050\n",
        "media_amostra"
      ],
      "execution_count": null,
      "outputs": [
        {
          "output_type": "execute_result",
          "data": {
            "text/plain": [
              "5050"
            ]
          },
          "metadata": {
            "tags": []
          },
          "execution_count": 88
        }
      ]
    },
    {
      "cell_type": "markdown",
      "metadata": {
        "id": "Jly1bVP9G3HY"
      },
      "source": [
        "### Nível de significância ($\\alpha$)"
      ]
    },
    {
      "cell_type": "code",
      "metadata": {
        "id": "BzIgN3C7G3HY",
        "colab": {
          "base_uri": "https://localhost:8080/"
        },
        "outputId": "ac2b2b9d-bd77-4b55-f5b2-71b194888527"
      },
      "source": [
        "significancia = 0.05\n",
        "significancia"
      ],
      "execution_count": null,
      "outputs": [
        {
          "output_type": "execute_result",
          "data": {
            "text/plain": [
              "0.05"
            ]
          },
          "metadata": {
            "tags": []
          },
          "execution_count": 89
        }
      ]
    },
    {
      "cell_type": "markdown",
      "metadata": {
        "id": "SrZAbQRKG3Ha"
      },
      "source": [
        "### Nível de confiança ($1 - \\alpha$)"
      ]
    },
    {
      "cell_type": "code",
      "metadata": {
        "id": "1JeWXwA6G3Ha",
        "colab": {
          "base_uri": "https://localhost:8080/"
        },
        "outputId": "d93cbabd-9230-44e2-a61c-8ca61b908d76"
      },
      "source": [
        "confianca = 1 - significancia\n",
        "confianca"
      ],
      "execution_count": null,
      "outputs": [
        {
          "output_type": "execute_result",
          "data": {
            "text/plain": [
              "0.95"
            ]
          },
          "metadata": {
            "tags": []
          },
          "execution_count": 90
        }
      ]
    },
    {
      "cell_type": "markdown",
      "metadata": {
        "id": "mZoUFr1nG3Hf"
      },
      "source": [
        "### Obtendo $z$"
      ]
    },
    {
      "cell_type": "code",
      "metadata": {
        "id": "f9IMOwY2Xeva",
        "colab": {
          "base_uri": "https://localhost:8080/",
          "height": 358
        },
        "outputId": "b294a59d-e603-4d15-b1cf-81eb1af083d1"
      },
      "source": [
        "tabela_normal_padronizada[16:26]"
      ],
      "execution_count": null,
      "outputs": [
        {
          "output_type": "execute_result",
          "data": {
            "text/html": [
              "<div>\n",
              "<style scoped>\n",
              "    .dataframe tbody tr th:only-of-type {\n",
              "        vertical-align: middle;\n",
              "    }\n",
              "\n",
              "    .dataframe tbody tr th {\n",
              "        vertical-align: top;\n",
              "    }\n",
              "\n",
              "    .dataframe thead th {\n",
              "        text-align: right;\n",
              "    }\n",
              "</style>\n",
              "<table border=\"1\" class=\"dataframe\">\n",
              "  <thead>\n",
              "    <tr style=\"text-align: right;\">\n",
              "      <th>Z</th>\n",
              "      <th>0.00</th>\n",
              "      <th>0.01</th>\n",
              "      <th>0.02</th>\n",
              "      <th>0.03</th>\n",
              "      <th>0.04</th>\n",
              "      <th>0.05</th>\n",
              "      <th>0.06</th>\n",
              "      <th>0.07</th>\n",
              "      <th>0.08</th>\n",
              "      <th>0.09</th>\n",
              "    </tr>\n",
              "  </thead>\n",
              "  <tbody>\n",
              "    <tr>\n",
              "      <th>1.60</th>\n",
              "      <td>0.9452</td>\n",
              "      <td>0.9463</td>\n",
              "      <td>0.9474</td>\n",
              "      <td>0.9484</td>\n",
              "      <td>0.9495</td>\n",
              "      <td>0.9505</td>\n",
              "      <td>0.9515</td>\n",
              "      <td>0.9525</td>\n",
              "      <td>0.9535</td>\n",
              "      <td>0.9545</td>\n",
              "    </tr>\n",
              "    <tr>\n",
              "      <th>1.70</th>\n",
              "      <td>0.9554</td>\n",
              "      <td>0.9564</td>\n",
              "      <td>0.9573</td>\n",
              "      <td>0.9582</td>\n",
              "      <td>0.9591</td>\n",
              "      <td>0.9599</td>\n",
              "      <td>0.9608</td>\n",
              "      <td>0.9616</td>\n",
              "      <td>0.9625</td>\n",
              "      <td>0.9633</td>\n",
              "    </tr>\n",
              "    <tr>\n",
              "      <th>1.80</th>\n",
              "      <td>0.9641</td>\n",
              "      <td>0.9649</td>\n",
              "      <td>0.9656</td>\n",
              "      <td>0.9664</td>\n",
              "      <td>0.9671</td>\n",
              "      <td>0.9678</td>\n",
              "      <td>0.9686</td>\n",
              "      <td>0.9693</td>\n",
              "      <td>0.9699</td>\n",
              "      <td>0.9706</td>\n",
              "    </tr>\n",
              "    <tr>\n",
              "      <th>1.90</th>\n",
              "      <td>0.9713</td>\n",
              "      <td>0.9719</td>\n",
              "      <td>0.9726</td>\n",
              "      <td>0.9732</td>\n",
              "      <td>0.9738</td>\n",
              "      <td>0.9744</td>\n",
              "      <td>0.9750</td>\n",
              "      <td>0.9756</td>\n",
              "      <td>0.9761</td>\n",
              "      <td>0.9767</td>\n",
              "    </tr>\n",
              "    <tr>\n",
              "      <th>2.00</th>\n",
              "      <td>0.9772</td>\n",
              "      <td>0.9778</td>\n",
              "      <td>0.9783</td>\n",
              "      <td>0.9788</td>\n",
              "      <td>0.9793</td>\n",
              "      <td>0.9798</td>\n",
              "      <td>0.9803</td>\n",
              "      <td>0.9808</td>\n",
              "      <td>0.9812</td>\n",
              "      <td>0.9817</td>\n",
              "    </tr>\n",
              "    <tr>\n",
              "      <th>2.10</th>\n",
              "      <td>0.9821</td>\n",
              "      <td>0.9826</td>\n",
              "      <td>0.9830</td>\n",
              "      <td>0.9834</td>\n",
              "      <td>0.9838</td>\n",
              "      <td>0.9842</td>\n",
              "      <td>0.9846</td>\n",
              "      <td>0.9850</td>\n",
              "      <td>0.9854</td>\n",
              "      <td>0.9857</td>\n",
              "    </tr>\n",
              "    <tr>\n",
              "      <th>2.20</th>\n",
              "      <td>0.9861</td>\n",
              "      <td>0.9864</td>\n",
              "      <td>0.9868</td>\n",
              "      <td>0.9871</td>\n",
              "      <td>0.9875</td>\n",
              "      <td>0.9878</td>\n",
              "      <td>0.9881</td>\n",
              "      <td>0.9884</td>\n",
              "      <td>0.9887</td>\n",
              "      <td>0.9890</td>\n",
              "    </tr>\n",
              "    <tr>\n",
              "      <th>2.30</th>\n",
              "      <td>0.9893</td>\n",
              "      <td>0.9896</td>\n",
              "      <td>0.9898</td>\n",
              "      <td>0.9901</td>\n",
              "      <td>0.9904</td>\n",
              "      <td>0.9906</td>\n",
              "      <td>0.9909</td>\n",
              "      <td>0.9911</td>\n",
              "      <td>0.9913</td>\n",
              "      <td>0.9916</td>\n",
              "    </tr>\n",
              "    <tr>\n",
              "      <th>2.40</th>\n",
              "      <td>0.9918</td>\n",
              "      <td>0.9920</td>\n",
              "      <td>0.9922</td>\n",
              "      <td>0.9925</td>\n",
              "      <td>0.9927</td>\n",
              "      <td>0.9929</td>\n",
              "      <td>0.9931</td>\n",
              "      <td>0.9932</td>\n",
              "      <td>0.9934</td>\n",
              "      <td>0.9936</td>\n",
              "    </tr>\n",
              "    <tr>\n",
              "      <th>2.50</th>\n",
              "      <td>0.9938</td>\n",
              "      <td>0.9940</td>\n",
              "      <td>0.9941</td>\n",
              "      <td>0.9943</td>\n",
              "      <td>0.9945</td>\n",
              "      <td>0.9946</td>\n",
              "      <td>0.9948</td>\n",
              "      <td>0.9949</td>\n",
              "      <td>0.9951</td>\n",
              "      <td>0.9952</td>\n",
              "    </tr>\n",
              "  </tbody>\n",
              "</table>\n",
              "</div>"
            ],
            "text/plain": [
              "Z       0.00    0.01    0.02    0.03  ...    0.06    0.07    0.08    0.09\n",
              "1.60  0.9452  0.9463  0.9474  0.9484  ...  0.9515  0.9525  0.9535  0.9545\n",
              "1.70  0.9554  0.9564  0.9573  0.9582  ...  0.9608  0.9616  0.9625  0.9633\n",
              "1.80  0.9641  0.9649  0.9656  0.9664  ...  0.9686  0.9693  0.9699  0.9706\n",
              "1.90  0.9713  0.9719  0.9726  0.9732  ...  0.9750  0.9756  0.9761  0.9767\n",
              "2.00  0.9772  0.9778  0.9783  0.9788  ...  0.9803  0.9808  0.9812  0.9817\n",
              "2.10  0.9821  0.9826  0.9830  0.9834  ...  0.9846  0.9850  0.9854  0.9857\n",
              "2.20  0.9861  0.9864  0.9868  0.9871  ...  0.9881  0.9884  0.9887  0.9890\n",
              "2.30  0.9893  0.9896  0.9898  0.9901  ...  0.9909  0.9911  0.9913  0.9916\n",
              "2.40  0.9918  0.9920  0.9922  0.9925  ...  0.9931  0.9932  0.9934  0.9936\n",
              "2.50  0.9938  0.9940  0.9941  0.9943  ...  0.9948  0.9949  0.9951  0.9952\n",
              "\n",
              "[10 rows x 10 columns]"
            ]
          },
          "metadata": {
            "tags": []
          },
          "execution_count": 91
        }
      ]
    },
    {
      "cell_type": "markdown",
      "metadata": {
        "id": "rMRmnaNPG3Go"
      },
      "source": [
        "### Obtendo $z$"
      ]
    },
    {
      "cell_type": "markdown",
      "metadata": {
        "id": "T-3mV1qlUj1t"
      },
      "source": [
        "![alt text](https://caelum-online-public.s3.amazonaws.com/1178-estatistica-parte2/01/img008.png)"
      ]
    },
    {
      "cell_type": "code",
      "metadata": {
        "id": "nT5ZTwjOG3Go",
        "colab": {
          "base_uri": "https://localhost:8080/"
        },
        "outputId": "2ff9f988-03e1-42bc-ca70-4404515753d5"
      },
      "source": [
        "0.95/2"
      ],
      "execution_count": null,
      "outputs": [
        {
          "output_type": "execute_result",
          "data": {
            "text/plain": [
              "0.475"
            ]
          },
          "metadata": {
            "tags": []
          },
          "execution_count": 92
        }
      ]
    },
    {
      "cell_type": "code",
      "metadata": {
        "id": "vMjck-3ZU_sz"
      },
      "source": [
        "# metade é 0.475 + a outra metade\n",
        "# a area de 1.96 ate o final é 0.5+0.475 = 0.975\n",
        "# Na tabela 0.975 equivale a 1.96"
      ],
      "execution_count": null,
      "outputs": []
    },
    {
      "cell_type": "code",
      "metadata": {
        "id": "L4CMGZ3oVHLX",
        "colab": {
          "base_uri": "https://localhost:8080/"
        },
        "outputId": "60453919-1254-42a5-b889-21d0db54ae77"
      },
      "source": [
        "# sem usar a tabeal\n",
        "Z=norm.ppf(0.975)\n",
        "Z\n",
        "# aproximadamente 1.96"
      ],
      "execution_count": null,
      "outputs": [
        {
          "output_type": "execute_result",
          "data": {
            "text/plain": [
              "1.959963984540054"
            ]
          },
          "metadata": {
            "tags": []
          },
          "execution_count": 94
        }
      ]
    },
    {
      "cell_type": "code",
      "metadata": {
        "id": "JJS6Z-85G3Hf"
      },
      "source": [
        ""
      ],
      "execution_count": null,
      "outputs": []
    },
    {
      "cell_type": "markdown",
      "metadata": {
        "id": "ggXXP8QqTyNA"
      },
      "source": [
        "### Valores de $z$ para os níveis de confiança mais utilizados\n",
        "\n",
        "|Nível de<br>confiança|Valor da área sob<br>a curva normal| $z$ |\n",
        "|:----------------:|:---------------------------------:|:---:|\n",
        "|90%               |0,95                               |1,645|\n",
        "|95%               |0,975                              |1,96 |\n",
        "|99%               |0,995                              |2,575|"
      ]
    },
    {
      "cell_type": "markdown",
      "metadata": {
        "id": "MfE1ru0AG3Hg"
      },
      "source": [
        "### Obtendo $\\sigma_\\bar{x}$"
      ]
    },
    {
      "cell_type": "code",
      "metadata": {
        "id": "LyQ6UUYtG3Hh"
      },
      "source": [
        "desvio_padrao=150"
      ],
      "execution_count": null,
      "outputs": []
    },
    {
      "cell_type": "code",
      "metadata": {
        "id": "ebvikT95G3Hi"
      },
      "source": [
        "n=20 \n",
        "# 20 sacos"
      ],
      "execution_count": null,
      "outputs": []
    },
    {
      "cell_type": "code",
      "metadata": {
        "id": "TxM3yTpjG3Hk"
      },
      "source": [
        "raiz_de_n=np.sqrt(n)"
      ],
      "execution_count": null,
      "outputs": []
    },
    {
      "cell_type": "code",
      "metadata": {
        "id": "HNAcOpl0G3Hl",
        "colab": {
          "base_uri": "https://localhost:8080/"
        },
        "outputId": "366098df-c3bc-4e25-969d-49fae82fe160"
      },
      "source": [
        "sigma=desvio_padrao/raiz_de_n\n",
        "sigma"
      ],
      "execution_count": null,
      "outputs": [
        {
          "output_type": "execute_result",
          "data": {
            "text/plain": [
              "33.54101966249684"
            ]
          },
          "metadata": {
            "tags": []
          },
          "execution_count": 98
        }
      ]
    },
    {
      "cell_type": "markdown",
      "metadata": {
        "id": "NHbXlLk-G3Hn"
      },
      "source": [
        "### Obtendo $e$"
      ]
    },
    {
      "cell_type": "code",
      "metadata": {
        "id": "gAfakih5G3Ho",
        "colab": {
          "base_uri": "https://localhost:8080/"
        },
        "outputId": "dedd53b2-990e-469a-822d-7f573746981b"
      },
      "source": [
        "e=Z*sigma\n",
        "e\n",
        "# 65.7 gramas"
      ],
      "execution_count": null,
      "outputs": [
        {
          "output_type": "execute_result",
          "data": {
            "text/plain": [
              "65.73919054324361"
            ]
          },
          "metadata": {
            "tags": []
          },
          "execution_count": 99
        }
      ]
    },
    {
      "cell_type": "markdown",
      "metadata": {
        "id": "sx1QTfNrG3Hq"
      },
      "source": [
        "### Solução 1 - Calculando o intervalo de confiança para a média"
      ]
    },
    {
      "cell_type": "code",
      "metadata": {
        "id": "NlJCcPZnG3Hq",
        "colab": {
          "base_uri": "https://localhost:8080/"
        },
        "outputId": "3a8ca1e4-bf4f-40ea-fa4f-df6ced18a870"
      },
      "source": [
        "intervalo=(\n",
        "    media_amostra-e,\n",
        "    media_amostra+e\n",
        ")\n",
        "intervalo\n",
        "# tenho uma probab de 95% de o parametro da minha populacao estar dentro desse intervalo"
      ],
      "execution_count": null,
      "outputs": [
        {
          "output_type": "execute_result",
          "data": {
            "text/plain": [
              "(4984.260809456757, 5115.739190543243)"
            ]
          },
          "metadata": {
            "tags": []
          },
          "execution_count": 100
        }
      ]
    },
    {
      "cell_type": "markdown",
      "metadata": {
        "id": "DkFJL7fcG3Ht"
      },
      "source": [
        "### Solução 2 - Calculando o intervalo de confiança para a média"
      ]
    },
    {
      "cell_type": "code",
      "metadata": {
        "id": "U92vSYMkG3Hu",
        "colab": {
          "base_uri": "https://localhost:8080/"
        },
        "outputId": "2d3d76c8-f9c7-4664-c244-3ad4d54e49c4"
      },
      "source": [
        "norm.interval(alpha = 0.95, loc = media_amostra, scale = sigma)"
      ],
      "execution_count": null,
      "outputs": [
        {
          "output_type": "execute_result",
          "data": {
            "text/plain": [
              "(4984.260809456757, 5115.739190543243)"
            ]
          },
          "metadata": {
            "tags": []
          },
          "execution_count": 101
        }
      ]
    },
    {
      "cell_type": "markdown",
      "metadata": {
        "id": "PbMhd5wdA6bv"
      },
      "source": [
        "Exercicio: Para estimar o valor médio gasto por cada cliente de uma grande rede de fast-food, foi selecionada uma amostra de 50 clientes.\n",
        "\n",
        "Assumindo que o valor do desvio padrão da população seja de R$ 6,00 e que esta população se distribui normalmente, obtenha a margem de erro desta estimativa para um nível de confiança de 95%.\n"
      ]
    },
    {
      "cell_type": "code",
      "metadata": {
        "colab": {
          "base_uri": "https://localhost:8080/"
        },
        "id": "_2fAn0MCA-JF",
        "outputId": "55753cfe-63f1-452b-84df-abb59454018b"
      },
      "source": [
        "from scipy.stats import norm\n",
        "import numpy as np\n",
        "\n",
        "z = norm.ppf(0.975)\n",
        "desvio_padrao = 6\n",
        "n = 50\n",
        "\n",
        "e = z * (desvio_padrao / np.sqrt(n))\n",
        "print(\"R$ {0:0.2f}\".format(e))"
      ],
      "execution_count": null,
      "outputs": [
        {
          "output_type": "stream",
          "text": [
            "R$ 1.66\n"
          ],
          "name": "stdout"
        }
      ]
    },
    {
      "cell_type": "markdown",
      "metadata": {
        "id": "9LQ72LGgBjRO"
      },
      "source": [
        "Exercicio: Uma amostra aleatória simples de 1976 itens de uma população normalmente distribuída, com desvio padrão igual a 11, resultou em uma média amostral de 28.\n",
        "\n",
        "Qual o intervalo de confiança de 90% para a média populacional?\n"
      ]
    },
    {
      "cell_type": "code",
      "metadata": {
        "colab": {
          "base_uri": "https://localhost:8080/"
        },
        "id": "jjuxEna5BmTY",
        "outputId": "6f9923dd-bdba-4afa-b33c-6239cde018bc"
      },
      "source": [
        "from scipy.stats import norm\n",
        "import numpy as np\n",
        "\n",
        "media_amostral = 28\n",
        "desvio_padrao = 11\n",
        "n = 1976\n",
        "\n",
        "norm.interval(alpha = 0.90, \n",
        "                loc = media_amostral, \n",
        "                scale = desvio_padrao / np.sqrt(n))"
      ],
      "execution_count": null,
      "outputs": [
        {
          "output_type": "execute_result",
          "data": {
            "text/plain": [
              "(27.592969951356466, 28.407030048643534)"
            ]
          },
          "metadata": {
            "tags": []
          },
          "execution_count": 103
        }
      ]
    },
    {
      "cell_type": "markdown",
      "metadata": {
        "id": "aF9jAC6yG3Gl"
      },
      "source": [
        "# <font color=green>5 CÁLCULO DO TAMANHO DA AMOSTRA</font>\n",
        "***"
      ]
    },
    {
      "cell_type": "markdown",
      "metadata": {
        "id": "BwiygaNqnjrr"
      },
      "source": [
        "## <font color='red'>Problema </font>"
      ]
    },
    {
      "cell_type": "markdown",
      "metadata": {
        "id": "a7RjjVVUnlI3"
      },
      "source": [
        "Estamos estudando o rendimento mensal dos chefes de domicílios com renda até R$\\$$ 5.000,00 no Brasil. Nosso supervisor determinou que o **erro máximo em relação a média seja de R$\\$$ 10,00**. Sabemos que o **desvio padrão populacional** deste grupo de trabalhadores é de **R$\\$$ 1.082,79**. Para um **nível de confiança de 95%**, qual deve ser o tamanho da amostra de nosso estudo?"
      ]
    },
    {
      "cell_type": "markdown",
      "metadata": {
        "id": "za2sGJt6G3Gm"
      },
      "source": [
        "## <font color=green>5.1 Variáveis quantitativas e população infinita</font>\n",
        "***"
      ]
    },
    {
      "cell_type": "markdown",
      "metadata": {
        "id": "3wqMjJWR5sVq"
      },
      "source": [
        "# $$e = z \\frac{\\sigma}{\\sqrt{n}}$$"
      ]
    },
    {
      "cell_type": "markdown",
      "metadata": {
        "id": "X1AxpKtIG3Gn"
      },
      "source": [
        "#### Com desvio padrão conhecido\n",
        "\n",
        "## $$n = \\left(z\\frac{\\sigma}{e}\\right)^2$$\n",
        "\n",
        "#### Com desvio padrão desconhecido\n",
        "\n",
        "## $$n = \\left(z\\frac{s}{e}\\right)^2$$\n",
        "\n",
        "Onde:\n",
        "\n",
        "$z$ = variável normal padronizada\n",
        "\n",
        "$\\sigma$ = desvio padrão populacional\n",
        "\n",
        "$s$ = desvio padrão amostral\n",
        "\n",
        "$e$ = erro inferencial"
      ]
    },
    {
      "cell_type": "markdown",
      "metadata": {
        "id": "T0fysCyDG3Gn"
      },
      "source": [
        "### <font color='red'>Observações</font>\n",
        "\n",
        "1. O desvio padrão ($\\sigma$ ou $s$) e o erro ($e$) devem estar na mesma unidade de medida.\n",
        "\n",
        "2. Quando o erro ($e$) for representado em termos percentuais, deve ser interpretado como um percentual relacionado à média."
      ]
    },
    {
      "cell_type": "markdown",
      "metadata": {
        "id": "WHYBTaupG3Gn"
      },
      "source": [
        "## <font color='blue'>Exemplo: Rendimento médio</font>"
      ]
    },
    {
      "cell_type": "markdown",
      "metadata": {
        "id": "dcdzo7EgG3Go"
      },
      "source": [
        "Estamos estudando o rendimento mensal dos chefes de domicílios no Brasil. Nosso supervisor determinou que o **erro máximo em relação a média seja de R$\\$$ 100,00**. Sabemos que o **desvio padrão populacional** deste grupo de trabalhadores é de **R$\\$$ 3.323,39**. Para um **nível de confiança de 95%**, qual deve ser o tamanho da amostra de nosso estudo?"
      ]
    },
    {
      "cell_type": "code",
      "metadata": {
        "colab": {
          "base_uri": "https://localhost:8080/"
        },
        "id": "KvQz3t1BVmVn",
        "outputId": "adc50a82-1512-4911-c35d-5e54ad5ddda8"
      },
      "source": [
        "0.95/2"
      ],
      "execution_count": null,
      "outputs": [
        {
          "output_type": "execute_result",
          "data": {
            "text/plain": [
              "0.475"
            ]
          },
          "metadata": {
            "tags": []
          },
          "execution_count": 104
        }
      ]
    },
    {
      "cell_type": "code",
      "metadata": {
        "colab": {
          "base_uri": "https://localhost:8080/"
        },
        "id": "1T1HDRUWVtkv",
        "outputId": "3393fd0c-e0c7-4970-bfcb-37f2158e1e63"
      },
      "source": [
        "0.5+(0.95/2)"
      ],
      "execution_count": null,
      "outputs": [
        {
          "output_type": "execute_result",
          "data": {
            "text/plain": [
              "0.975"
            ]
          },
          "metadata": {
            "tags": []
          },
          "execution_count": 105
        }
      ]
    },
    {
      "cell_type": "code",
      "metadata": {
        "id": "XtJ5I_kaKDN3",
        "colab": {
          "base_uri": "https://localhost:8080/"
        },
        "outputId": "9cf60206-1a84-4c4d-c4e2-0f5655c490bd"
      },
      "source": [
        "# obter o Z\n",
        "z= norm.ppf(0.975)\n",
        "z"
      ],
      "execution_count": null,
      "outputs": [
        {
          "output_type": "execute_result",
          "data": {
            "text/plain": [
              "1.959963984540054"
            ]
          },
          "metadata": {
            "tags": []
          },
          "execution_count": 107
        }
      ]
    },
    {
      "cell_type": "markdown",
      "metadata": {
        "id": "6uCkW4KlG3Gr"
      },
      "source": [
        "### Obtendo $\\sigma$"
      ]
    },
    {
      "cell_type": "code",
      "metadata": {
        "id": "-4TLCgNLKC95"
      },
      "source": [
        "sigma=3323.39"
      ],
      "execution_count": null,
      "outputs": []
    },
    {
      "cell_type": "markdown",
      "metadata": {
        "id": "Cl39PIZ2G3Gt"
      },
      "source": [
        "### Obtendo $e$"
      ]
    },
    {
      "cell_type": "code",
      "metadata": {
        "id": "7XDT12I4ViYN"
      },
      "source": [
        "e=100"
      ],
      "execution_count": null,
      "outputs": []
    },
    {
      "cell_type": "markdown",
      "metadata": {
        "id": "OlAX3Gj6G3Gv"
      },
      "source": [
        "### Obtendo $n$"
      ]
    },
    {
      "cell_type": "code",
      "metadata": {
        "id": "0MjluwHPG3Gv",
        "scrolled": true,
        "colab": {
          "base_uri": "https://localhost:8080/"
        },
        "outputId": "7f743acb-ae7d-46a7-e6c2-b43773114f84"
      },
      "source": [
        "n = (z * (sigma / e)) ** 2\n",
        "int(n.round())\n",
        "# 4243 é o tamanho da minha amostra considerando o enunciado"
      ],
      "execution_count": null,
      "outputs": [
        {
          "output_type": "execute_result",
          "data": {
            "text/plain": [
              "4243"
            ]
          },
          "metadata": {
            "tags": []
          },
          "execution_count": 113
        }
      ]
    },
    {
      "cell_type": "markdown",
      "metadata": {
        "id": "Wu5r0z4kZ-Fi"
      },
      "source": [
        "Exercicio\n",
        "O valor do gasto médio dos clientes de uma loja de conveniência é de R 45,50. Assumindo que o desvio padrão dos gastos é igual a R 15,00, qual deve ser o tamanho da amostra para estimarmos a média populacional com um nível de significância de 10%?\n",
        "\n",
        "Considere que o erro máximo aceitável seja de 10%."
      ]
    },
    {
      "cell_type": "code",
      "metadata": {
        "colab": {
          "base_uri": "https://localhost:8080/"
        },
        "id": "0kC0oGQeaD0P",
        "outputId": "6e938bc8-1c32-4bfe-ac84-989332e166c9"
      },
      "source": [
        "from scipy.stats import norm\n",
        "\n",
        "media = 45.5\n",
        "sigma = 15\n",
        "significancia = 0.10\n",
        "confianca = 1 - significancia\n",
        "\n",
        "z = norm.ppf(0.5 + (confianca / 2))\n",
        "erro_percentual = 0.10\n",
        "e = media * erro_percentual\n",
        "\n",
        "n = (z * (sigma / e)) ** 2\n",
        "n.round()"
      ],
      "execution_count": null,
      "outputs": [
        {
          "output_type": "execute_result",
          "data": {
            "text/plain": [
              "29.0"
            ]
          },
          "metadata": {
            "tags": []
          },
          "execution_count": 114
        }
      ]
    },
    {
      "cell_type": "markdown",
      "metadata": {
        "id": "MjP0xsqyTyNO"
      },
      "source": [
        "---\n",
        "---"
      ]
    },
    {
      "cell_type": "markdown",
      "metadata": {
        "id": "dx2vyLC-TyNP"
      },
      "source": [
        "## <font color='red'>Problema</font>"
      ]
    },
    {
      "cell_type": "markdown",
      "metadata": {
        "id": "uzK2fAOFTyNP"
      },
      "source": [
        "Em um lote de **10.000 latas** de refrigerante foi realizada uma amostra aleatória simples de **100 latas** e foi obtido o **desvio padrão amostral do conteúdo das latas igual a 12 ml**. O fabricante estipula um **erro máximo sobre a média populacional de apenas 5 ml**. Para garantir um **nível de confiança de 95%** qual o tamanho de amostra deve ser selecionado para este estudo?"
      ]
    },
    {
      "cell_type": "markdown",
      "metadata": {
        "id": "FlAz5kycTyNQ"
      },
      "source": [
        "## <font color=green>5.2 Variáveis quantitativas e população finita</font>\n",
        "***"
      ]
    },
    {
      "cell_type": "markdown",
      "metadata": {
        "id": "UOe02McSTyNR"
      },
      "source": [
        "#### Com desvio padrão conhecido\n",
        "\n",
        "## $$n = \\frac{z^2 \\sigma^2 N}{z^2 \\sigma^2 + e^2(N-1)}$$\n",
        "\n",
        "#### Com desvio padrão desconhecido\n",
        "\n",
        "## $$n = \\frac{z^2 s^2 N}{z^2 s^2 + e^2(N-1)}$$\n",
        "\n",
        "Onde:\n",
        "\n",
        "$N$ = tamanho da população\n",
        "\n",
        "$z$ = variável normal padronizada\n",
        "\n",
        "$\\sigma$ = desvio padrão populacional\n",
        "\n",
        "$s$ = desvio padrão amostral\n",
        "\n",
        "$e$ = erro inferencial"
      ]
    },
    {
      "cell_type": "markdown",
      "metadata": {
        "id": "D87FETGVaj5V"
      },
      "source": [
        "Estamos relativizando o tamanho da amostra de acordo com o tamanhao da pop, caso contrario voce pode ter uma amostra que a populacao. Imagina que a populacao é o numero de staff da empresa."
      ]
    },
    {
      "cell_type": "markdown",
      "metadata": {
        "id": "cUELtYTKTyNS"
      },
      "source": [
        "## <font color='blue'>Exemplo: Indústria de refrigerantes</font>"
      ]
    },
    {
      "cell_type": "markdown",
      "metadata": {
        "id": "upv1mM7fTyNS"
      },
      "source": [
        "Em um lote de **10.000 latas** de refrigerante foi realizada uma amostra aleatória simples de **100 latas** e foi obtido o **desvio padrão amostral do conteúdo das latas igual a 12 ml**. O fabricante estipula um **erro máximo sobre a média populacional de apenas 5 ml**. Para garantir um **nível de confiança de 95%** qual o tamanho de amostra deve ser selecionado para este estudo?"
      ]
    },
    {
      "cell_type": "markdown",
      "metadata": {
        "id": "_y3-3VIBTyNS"
      },
      "source": [
        "### Obtendo $N$"
      ]
    },
    {
      "cell_type": "code",
      "metadata": {
        "id": "gXWn9zTETyNS",
        "colab": {
          "base_uri": "https://localhost:8080/"
        },
        "outputId": "071d1504-162d-4fab-a775-3d90104382f5"
      },
      "source": [
        "N=10000\n",
        "N"
      ],
      "execution_count": null,
      "outputs": [
        {
          "output_type": "execute_result",
          "data": {
            "text/plain": [
              "10000"
            ]
          },
          "metadata": {
            "tags": []
          },
          "execution_count": 115
        }
      ]
    },
    {
      "cell_type": "markdown",
      "metadata": {
        "id": "xCgZ1JSjTyNT"
      },
      "source": [
        "### Obtendo $z$"
      ]
    },
    {
      "cell_type": "code",
      "metadata": {
        "id": "ZUs9aYJRTyNT",
        "colab": {
          "base_uri": "https://localhost:8080/"
        },
        "outputId": "70f8a8b9-86e8-4f77-950f-f6717162682d"
      },
      "source": [
        "z = norm.ppf((0.5 + (0.95 / 2)))\n",
        "z"
      ],
      "execution_count": null,
      "outputs": [
        {
          "output_type": "execute_result",
          "data": {
            "text/plain": [
              "1.959963984540054"
            ]
          },
          "metadata": {
            "tags": []
          },
          "execution_count": 116
        }
      ]
    },
    {
      "cell_type": "markdown",
      "metadata": {
        "id": "KCnigJd8TyNU"
      },
      "source": [
        "### Obtendo $s$"
      ]
    },
    {
      "cell_type": "code",
      "metadata": {
        "id": "fKqFI_TZTyNU",
        "colab": {
          "base_uri": "https://localhost:8080/"
        },
        "outputId": "2349b904-de79-41ab-f40a-38f4ab7e3204"
      },
      "source": [
        "s = 12\n",
        "s"
      ],
      "execution_count": null,
      "outputs": [
        {
          "output_type": "execute_result",
          "data": {
            "text/plain": [
              "12"
            ]
          },
          "metadata": {
            "tags": []
          },
          "execution_count": 117
        }
      ]
    },
    {
      "cell_type": "markdown",
      "metadata": {
        "id": "K9gDEIUdTyNX"
      },
      "source": [
        "### Obtendo $e$"
      ]
    },
    {
      "cell_type": "code",
      "metadata": {
        "id": "hyhJ3MQKTyNX",
        "colab": {
          "base_uri": "https://localhost:8080/"
        },
        "outputId": "ec32b2b5-0534-4c2d-f798-4e7725f6d3fd"
      },
      "source": [
        "e = 5\n",
        "e"
      ],
      "execution_count": null,
      "outputs": [
        {
          "output_type": "execute_result",
          "data": {
            "text/plain": [
              "5"
            ]
          },
          "metadata": {
            "tags": []
          },
          "execution_count": 118
        }
      ]
    },
    {
      "cell_type": "markdown",
      "metadata": {
        "id": "Dsm3bg9gTyNX"
      },
      "source": [
        "### Obtendo $n$\n",
        "\n",
        "## $$n = \\frac{z^2 s^2 N}{z^2 s^2 + e^2(N-1)}$$"
      ]
    },
    {
      "cell_type": "code",
      "metadata": {
        "id": "0XxWfaPdTyNY",
        "scrolled": true,
        "colab": {
          "base_uri": "https://localhost:8080/"
        },
        "outputId": "85930401-959c-406b-888b-8ea61730dc0f"
      },
      "source": [
        "n = ((z**2) * (s**2) * (N)) / (((z**2) * (s**2)) + ((e**2) * (N - 1)))\n",
        "int(n.round())\n",
        "# 22 latas, esse n traz uma amostra representativa da minha populacao\n",
        "# dado as informacaoes acima. No exemplo ele usou uma amostra de 100 latas, mas 22 ja bastavam"
      ],
      "execution_count": null,
      "outputs": [
        {
          "output_type": "execute_result",
          "data": {
            "text/plain": [
              "22"
            ]
          },
          "metadata": {
            "tags": []
          },
          "execution_count": 121
        }
      ]
    },
    {
      "cell_type": "markdown",
      "metadata": {
        "id": "DHyWLi0Ad1Vq"
      },
      "source": [
        "Você precisará coletar uma amostra inicial assim como no exemplo. No caso, foram selecionadas 100 latas para o experimento. O intuito é que nos próximos experimentos, será utilizado o tamanho de amostra encontrado para o nível de confiança desejado.\n",
        "\n",
        "Quanto maior o tamanho da amostra, maior será a chance de essa amostra representar a população e não ser uma mera coincidência. É estipulado um número mínimo do tamanho da amostra, n = 30.\n",
        "\n",
        "Portanto quanto maior possível for a sua amostra inicial, melhor será o resultado da sua estimativa de tamanho da amostra. O valor de n = 100 latas é significativo ( n > 30 ) e pôde ser feito como experimentação sem trazer grandes perdas, logo foi possível estipular um tamanho de amostra através dele. Mas se fosse realizado um experimento com uma amostra maior, provavelmente traria uma aproximação ainda melhor. A questão é a dificuldade e custo para realizar experimentações com amostras muito grandes."
      ]
    },
    {
      "cell_type": "markdown",
      "metadata": {
        "id": "QV_GtIdreew5"
      },
      "source": [
        "Exercicio: Um fabricante de farinha verificou que, em uma amostra aleatória formada por 200 sacos de 25 kg de um lote formado por 2.000 sacos, apresentou um desvio padrão amostral do peso igual a 480 g.\n",
        "\n",
        "Considerando um erro máximo associado à média populacional igual a 0,3 kg e um nível de confiança igual a 95%, qual tamanho de amostra deveria ser selecionado para obtermos uma estimativa confiável do parâmetro populacional?"
      ]
    },
    {
      "cell_type": "code",
      "metadata": {
        "colab": {
          "base_uri": "https://localhost:8080/"
        },
        "id": "_CMKi_cZecEE",
        "outputId": "8a68d5e7-f86a-4ca1-d8b7-29af76ffa039"
      },
      "source": [
        "from scipy.stats import norm\n",
        "\n",
        "N = 2000\n",
        "z = norm.ppf(0.5 + (0.95 / 2))\n",
        "s = 480\n",
        "e = 0.3 * 1000   # Convertendo kg para g\n",
        "\n",
        "n = ((z**2) * (s**2) * (N)) / (((z**2) * (s**2)) + ((e**2) * (N - 1)))\n",
        "int(n.round())"
      ],
      "execution_count": null,
      "outputs": [
        {
          "output_type": "execute_result",
          "data": {
            "text/plain": [
              "10"
            ]
          },
          "metadata": {
            "tags": []
          },
          "execution_count": 122
        }
      ]
    },
    {
      "cell_type": "markdown",
      "metadata": {
        "id": "XNH7CMglG3Hv"
      },
      "source": [
        "# <font color=green>6 FIXANDO O CONTEÚDO</font>\n",
        "***"
      ]
    },
    {
      "cell_type": "markdown",
      "metadata": {
        "id": "iRYqVAxuG3Hv"
      },
      "source": [
        "## <font color='blue'>Exemplo: Rendimento médio</font>"
      ]
    },
    {
      "cell_type": "markdown",
      "metadata": {
        "id": "ggloHI5sG3Hw"
      },
      "source": [
        "Estamos estudando o **rendimento mensal dos chefes de domicílios com renda até R$\\$$ 5.000,00 no Brasil**. Nosso supervisor determinou que o **erro máximo em relação a média seja de R$\\$$ 10,00**. Sabemos que o **desvio padrão populacional** deste grupo de trabalhadores é de **R$\\$$ 1.082,79** e que a **média populacional** é de **R$\\$$ 1.426,54**. Para um **nível de confiança de 95%**, qual deve ser o tamanho da amostra de nosso estudo? Qual o intervalo de confiança para a média considerando o tamanho de amostra obtido?"
      ]
    },
    {
      "cell_type": "markdown",
      "metadata": {
        "id": "JZDvLD-NG3Hw"
      },
      "source": [
        "### Construindo o dataset conforme especificado pelo problema"
      ]
    },
    {
      "cell_type": "code",
      "metadata": {
        "id": "qlnYQeaKG3Hw"
      },
      "source": [
        "renda_5000 = dados.query('Renda <= 5000').Renda"
      ],
      "execution_count": null,
      "outputs": []
    },
    {
      "cell_type": "code",
      "metadata": {
        "id": "VKuxbygIG3Hy",
        "colab": {
          "base_uri": "https://localhost:8080/"
        },
        "outputId": "072c43bd-ac5b-4080-c991-a041b80ed801"
      },
      "source": [
        "# sigma é o desvio padrao pop\n",
        "sigma = renda_5000.std()\n",
        "sigma"
      ],
      "execution_count": null,
      "outputs": [
        {
          "output_type": "execute_result",
          "data": {
            "text/plain": [
              "1082.794549030635"
            ]
          },
          "metadata": {
            "tags": []
          },
          "execution_count": 124
        }
      ]
    },
    {
      "cell_type": "code",
      "metadata": {
        "id": "Q2Ku3mVPG3Hz",
        "colab": {
          "base_uri": "https://localhost:8080/"
        },
        "outputId": "43d10151-e5b9-459d-86d5-58595d66f3d9"
      },
      "source": [
        "media = renda_5000.mean()\n",
        "media"
      ],
      "execution_count": null,
      "outputs": [
        {
          "output_type": "execute_result",
          "data": {
            "text/plain": [
              "1426.5372144947232"
            ]
          },
          "metadata": {
            "tags": []
          },
          "execution_count": 125
        }
      ]
    },
    {
      "cell_type": "markdown",
      "metadata": {
        "id": "F33TdkXdG3H2"
      },
      "source": [
        "### Calculando o tamanho da amostra"
      ]
    },
    {
      "cell_type": "code",
      "metadata": {
        "id": "sWIvnmygG3H2",
        "colab": {
          "base_uri": "https://localhost:8080/"
        },
        "outputId": "0397206b-9328-4cd2-a4ae-1ed19f7df1ab"
      },
      "source": [
        "# populacao é muito grande entao assumo a como infinita\n",
        "z = norm.ppf(.975)\n",
        "e = 10\n",
        "# 10 reais \n",
        "n = (z * (sigma / e)) ** 2\n",
        "# sigma esta tambem em reais entao so coloco na formula\n",
        "n = int(n.round())\n",
        "n\n",
        "# para atender todas as especificacoes precisamos essa grande amostra (provavel pelo pequeno erro de 10 reais)"
      ],
      "execution_count": null,
      "outputs": [
        {
          "output_type": "execute_result",
          "data": {
            "text/plain": [
              "45039"
            ]
          },
          "metadata": {
            "tags": []
          },
          "execution_count": 127
        }
      ]
    },
    {
      "cell_type": "markdown",
      "metadata": {
        "id": "xRN_gmmLG3H6"
      },
      "source": [
        "### Calculando o intervalo de confiança para a média"
      ]
    },
    {
      "cell_type": "code",
      "metadata": {
        "id": "HoG6JKxxG3H6",
        "colab": {
          "base_uri": "https://localhost:8080/"
        },
        "outputId": "6cacf52d-f049-41e9-86bd-89e20bc19dba"
      },
      "source": [
        "intervalo = norm.interval(alpha = 0.95, loc = media, scale = sigma / np.sqrt(n))\n",
        "intervalo\n",
        "# nossa media é 1426. Nem precisava fazer isso pq sabemos que o erro é 10, entao o \n",
        "# intervalo é a media +- erro"
      ],
      "execution_count": null,
      "outputs": [
        {
          "output_type": "execute_result",
          "data": {
            "text/plain": [
              "(1416.5372195108241, 1436.5372094786223)"
            ]
          },
          "metadata": {
            "tags": []
          },
          "execution_count": 129
        }
      ]
    },
    {
      "cell_type": "markdown",
      "metadata": {
        "id": "xWAG8q8oG3H8"
      },
      "source": [
        "### Realizando uma prova gráfica"
      ]
    },
    {
      "cell_type": "code",
      "metadata": {
        "id": "pxjJyWnNG3H8",
        "colab": {
          "base_uri": "https://localhost:8080/",
          "height": 368
        },
        "outputId": "39770cfc-ef38-4cee-aeb6-70d3245ad8bc"
      },
      "source": [
        "import matplotlib.pyplot as plt\n",
        "\n",
        "tamanho_simulacao = 1000\n",
        "# 1000 amostragens desse tamanho de 45039 obs\n",
        "\n",
        "medias = [renda_5000.sample(n = n).mean() for i in range(1, tamanho_simulacao)]\n",
        "medias = pd.DataFrame(medias)\n",
        "\n",
        "ax = medias.plot(style = '.')\n",
        "ax.figure.set_size_inches(12, 6)\n",
        "ax.hlines(y = media, xmin = 0, xmax = tamanho_simulacao, colors='black', linestyles='dashed')\n",
        "ax.hlines(y = intervalo[0], xmin = 0, xmax = tamanho_simulacao, colors='red', linestyles='dashed')\n",
        "ax.hlines(y = intervalo[1], xmin = 0, xmax = tamanho_simulacao, colors='red', linestyles='dashed')\n",
        "ax"
      ],
      "execution_count": null,
      "outputs": [
        {
          "output_type": "execute_result",
          "data": {
            "text/plain": [
              "<matplotlib.axes._subplots.AxesSubplot at 0x7ff6e28299d0>"
            ]
          },
          "metadata": {
            "tags": []
          },
          "execution_count": 130
        },
        {
          "output_type": "display_data",
          "data": {
            "image/png": "[encoded data removed]",
            "text/plain": [
              "<Figure size 864x432 with 1 Axes>"
            ]
          },
          "metadata": {
            "tags": [],
            "needs_background": "light"
          }
        }
      ]
    },
    {
      "cell_type": "markdown",
      "metadata": {
        "id": "XBD8cCgAhQrH"
      },
      "source": [
        "Tem 5% de chances das amostras cairem fora desse limite. A simulacao sao de 5% de 1000 amostragens, entao até 50 pontos (pois cada ponto é uma amostragem) poderiam estar fora desses limites do intervalo de confianca"
      ]
    },
    {
      "cell_type": "markdown",
      "metadata": {
        "id": "jmPCCeICiHBc"
      },
      "source": [
        "Forum: Sabemos o tamanho (finito) da população, bem como a média e desvio padrão populacionais. Por que então não usar a fórmula de populacao finita?\n",
        "\n",
        "R: O tamanho da população é uma estimativa, já que o valor exato é incalculável, ser infinito pode significar que não tempo ou dinheiro hábil para calcular o valor real, então tratamos como infinito, normalmente isso ocorre quando estamos falando de população de cidades, estados e pais."
      ]
    }
  ]
}